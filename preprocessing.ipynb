{
 "cells": [
  {
   "cell_type": "code",
   "execution_count": 1,
   "metadata": {
    "ExecuteTime": {
     "end_time": "2021-05-06T10:07:41.758423Z",
     "start_time": "2021-05-06T10:07:41.751650Z"
    }
   },
   "outputs": [],
   "source": [
    "import pickle"
   ]
  },
  {
   "cell_type": "code",
   "execution_count": 3,
   "metadata": {
    "ExecuteTime": {
     "end_time": "2021-05-06T10:07:43.778565Z",
     "start_time": "2021-05-06T10:07:43.744718Z"
    }
   },
   "outputs": [],
   "source": [
    "with open('df_reviews.pkl', 'rb') as f:\n",
    "    df_reviews = pickle.load(f)"
   ]
  },
  {
   "cell_type": "code",
   "execution_count": 2,
   "metadata": {
    "ExecuteTime": {
     "end_time": "2021-05-06T10:07:43.106053Z",
     "start_time": "2021-05-06T10:07:42.525156Z"
    }
   },
   "outputs": [],
   "source": [
    "with open('df_product.pkl', 'rb') as f:\n",
    "    df_product = pickle.load(f)"
   ]
  },
  {
   "cell_type": "code",
   "execution_count": 4,
   "metadata": {
    "ExecuteTime": {
     "end_time": "2021-05-06T10:07:45.657765Z",
     "start_time": "2021-05-06T10:07:45.627276Z"
    },
    "collapsed": true
   },
   "outputs": [
    {
     "data": {
      "text/html": [
       "<div>\n",
       "<style scoped>\n",
       "    .dataframe tbody tr th:only-of-type {\n",
       "        vertical-align: middle;\n",
       "    }\n",
       "\n",
       "    .dataframe tbody tr th {\n",
       "        vertical-align: top;\n",
       "    }\n",
       "\n",
       "    .dataframe thead th {\n",
       "        text-align: right;\n",
       "    }\n",
       "</style>\n",
       "<table border=\"1\" class=\"dataframe\">\n",
       "  <thead>\n",
       "    <tr style=\"text-align: right;\">\n",
       "      <th></th>\n",
       "      <th>product_id</th>\n",
       "      <th>review0</th>\n",
       "      <th>review1</th>\n",
       "      <th>review2</th>\n",
       "      <th>review3</th>\n",
       "      <th>review4</th>\n",
       "      <th>review5</th>\n",
       "      <th>review6</th>\n",
       "      <th>review7</th>\n",
       "      <th>review8</th>\n",
       "      <th>...</th>\n",
       "      <th>review90</th>\n",
       "      <th>review91</th>\n",
       "      <th>review92</th>\n",
       "      <th>review93</th>\n",
       "      <th>review94</th>\n",
       "      <th>review95</th>\n",
       "      <th>review96</th>\n",
       "      <th>review97</th>\n",
       "      <th>review98</th>\n",
       "      <th>review99</th>\n",
       "    </tr>\n",
       "  </thead>\n",
       "  <tbody>\n",
       "    <tr>\n",
       "      <th>0</th>\n",
       "      <td>2128457892</td>\n",
       "      <td>와우!!!!!   말해 뭐합니까!\\n워치병 고쳤지요~\\n일요일에도 상품 받을 수 있...</td>\n",
       "      <td>아이패드 에어팟 둘다 쿠팡에서 사서 이번에도 망설임 없이 애플워치도 쿠팡에서 주문 ...</td>\n",
       "      <td>여자 44mm 괜찮아요! (포장만 불만 ㅠ)\\n\\n전자기기 쿠팡에서 사는게 처음이라...</td>\n",
       "      <td>총평\\n\\n\\n새해가 되면서 운동하겠다 다짐하에 고민하다가 구매했어요 !워치 6랑 ...</td>\n",
       "      <td>일단 뽑기는 성공한것같아요\\n일주일정도 사용했는데 고장없이 잘쓰고 있어요.\\n\\n저...</td>\n",
       "      <td>저와같은 애플워치병에 걸리신 분들에게 도움을 드리고자 리뷰를 작성합니다!\\n\\n-구...</td>\n",
       "      <td>애플워치를 사기 전에 모두들 제가 그랬던 것 처럼, \\n정말 많은 고민을 하실 거라...</td>\n",
       "      <td>진작에 살 걸 .... 너무 편하네요\\n\\n주위에서 하나둘씩 구매하는거 보고 살까말...</td>\n",
       "      <td>아들이 애플워치 신상 나왔다고 사고 싶어하길래 공홈봤더니 꽤 오래걸리더라구요. \\n...</td>\n",
       "      <td>...</td>\n",
       "      <td>운동량을 좀 더 늘리고 싶어서 애플워치를 구매했습니다! 진짜 언제 재입고 알람 확인...</td>\n",
       "      <td>애워 존버는 성공했습ㄴ다... 공홈에서 나이키 버전 시켜놓고 한달이나 기더려야해서 ...</td>\n",
       "      <td>애플워치 자체가 꼭 필수적인 제품은 아닙니다.\\n\\n다만 있을 때의 활용도가 매우 ...</td>\n",
       "      <td>손목둘레 16정도인 여자인데 화면이 큼직한게 좋아서 44mm를 사려고 매장에 갔는데...</td>\n",
       "      <td>저는 솔직히 워치가 악세사리를 뛰어넘어서 간지템이라고 생각을 합니다. 그래서 저도 ...</td>\n",
       "      <td>ㅠㅠ 고민없이 구매해도 되었을 상품이예요 \\n착용 나흘째고 하루하루 친해지고 있는 ...</td>\n",
       "      <td>애플워치를 사용해보고 싶어서 구매했어요.\\n애플워치 종류가 총 3가지 있는데 3는 ...</td>\n",
       "      <td>가장 큰 장점은.. 애플워치 병이 나았다는 거에요.. 1년을 참았는데 사야 낫습니다...</td>\n",
       "      <td>역시 쿠팡! 완전 칼배송이었습니다\\n평생을 갤럭시만 쓰다가 최근에 아이폰으로 바꾼 ...</td>\n",
       "      <td>잘삿지 싶어요 ㅋ꙼̈ㅋ̆̎ㅋ̊̈ㅋ̌̈ㅋ̄̈ 고민에 고민에 ㅠㅠ 끝없는\\n고민에 결국...</td>\n",
       "    </tr>\n",
       "    <tr>\n",
       "      <th>1</th>\n",
       "      <td>2004420920</td>\n",
       "      <td>어머니 4사드리고, 동생 커플 5 1+1나왔을 때 선물주고... 어메이즈핏빕을 쓰다...</td>\n",
       "      <td>몇일 고민하다가 주문해본 샤오미미밴드5 솔직후기입니다.\\n\\n우선 요즘 박스대란이라...</td>\n",
       "      <td>완전 가성비 템으로 강추드려요!\\n\\n1.가볍고 착용감이 좋다. \\n\\n무겁다는 느...</td>\n",
       "      <td>우선 제가 미밴드5를 사기 전에 미밴드5와 갤럭시 핏2을\\n많이 비교해보고 최종적으...</td>\n",
       "      <td>평소 핸드폰 무음으로 놔서 전화나 카톡을 확인 못할때가 많은데\\n알림을 바로 확인하...</td>\n",
       "      <td>저렴하게 구매했어요 ^^\\n원래는 3만원대 인데 제가 가격이 2만원대에 내려갈때 얼...</td>\n",
       "      <td>처음 리뷰써보네요 :)\\n어머니 드리려고 구매했습니다\\n많이 걸어 다니시는데 좀 더...</td>\n",
       "      <td>아직 2~3일밖에 안써봤지만\\n\\n좋은거같아요!\\n\\n애플워치 살까했는데 ㅋㅋ 주변...</td>\n",
       "      <td>1. 2020.10월 구매\\n3개월 이상 사용해보고 후기 올려요.\\n\\n2. 사용하...</td>\n",
       "      <td>...</td>\n",
       "      <td>애플워치는 너무 넘사벽이라\\n매번 망설였는데\\n이번에 다이어트 계기로 정밀하게 측정...</td>\n",
       "      <td>저렴한 가격에 그렇지못한 기능들이네요 새벽배송으로 받아 사용하여 아직 기능들을 다 ...</td>\n",
       "      <td>제꺼 사서 써보고 너무 좋아서 남자친구 선물로 재구매 했습니다. \\n남자친구가 요즘...</td>\n",
       "      <td>삼성 기어핏 4년 사용하고 사망해서 대체품을 찾았는데\\n솔직히 대안이 될 만한 제품...</td>\n",
       "      <td>새벽 4시10분경..!\\n새벽배송을 완료하였다는 문자메세지에\\n후다닥!!\\n우아아아...</td>\n",
       "      <td>스마트워치를 구입할려고 알아보던중\\n갤* 과 사과는 너무 비싸므로 가성비제품 찾는중...</td>\n",
       "      <td>미밴드4를 사용하고 있습니다 \\n딸아이(9세)가 제걸 너무 탐내하더라구요 \\n시계도...</td>\n",
       "      <td>구매날짜: 1월 31일, 2월 2일 \\n구매가격: 3만 3천 원\\n\\n샤오미 미밴드...</td>\n",
       "      <td>쿠팡정발만 기다렸다 사서 쓰는 일주일 후기에요! 일단 가볍도 기능 가득이라 스마트워...</td>\n",
       "      <td>가격:29900원 \\n날짜:21.4.10\\n\\n샤오미 미밴드를 쿠팡에서 로켓와우로 ...</td>\n",
       "    </tr>\n",
       "    <tr>\n",
       "      <th>2</th>\n",
       "      <td>234431834</td>\n",
       "      <td>!!!!! 리뷰가 도움이 되었으면 좋겠습니다 !!!!!\\n\\n양말은 세탁도 많이하고...</td>\n",
       "      <td>이사오면서 버릴양말들은 버리고 들고온 양말의 양이 적어서 쿠팡에서 주문했습니다.\\n...</td>\n",
       "      <td>우리아들발이 275-280사이즈 인데 잘 맞아요 좀 얇지만 중간에 한번 더 잡아주니...</td>\n",
       "      <td>----------------------------------------------...</td>\n",
       "      <td>1.소재\\n- 흔한 양말 소재 느낌\\n- 발목 부분 고무줄 짱짱한편\\n\\n2. 착용...</td>\n",
       "      <td>동생이 운동할 때 막 신는 양말이 필요하다고 해서 화이트 색상의 베이스알파에센셜 스...</td>\n",
       "      <td>남동생이 운동용 양말이 필요하다고 해서 베이스알파에센셜 스포츠 양말을 데려와봤습니다...</td>\n",
       "      <td>음 일단 양말마다 뭔차이가 있냐 라고 생각하실 수도 있는데 진짜 이거는 검은 양말중...</td>\n",
       "      <td>일단 저렴하게 구매하고 상품은 받아보니 질감도 괜찮았어요.\\n가볍게 신고 다니기 좋...</td>\n",
       "      <td>...</td>\n",
       "      <td>칼날같은 발톱때문인가..자꾸 양말에 구멍이 뚫리길래 샀는데..프리사이즈요? 남성용요...</td>\n",
       "      <td>가성비 좋은 또 하나의 쿠팡 브랜드 제입니다. \\n\\n요즘 양말 어디서 사려 해도 ...</td>\n",
       "      <td>남자양말을 신지않으면 작아서 매일 윗부분이 내려가곤 하는데요~\\n저렴에게 쿠팡에서 ...</td>\n",
       "      <td>제 발 사이즈 270 입니다. 남자 사이즈 주문하시면 사이즈 부족하지 않습니다. 뚜...</td>\n",
       "      <td>빠른배송 +1\\n가성비 +1\\n스포츠 양말치고는.. 좀 얇음... -1점\\n그림이랑...</td>\n",
       "      <td>남편쓰라고 구매했는데 \\n좋다고 하네요 다른건 벗겨지는데 \\n이양말은 딱 잡아줘서 ...</td>\n",
       "      <td>국내산 스니커즈 양말 10p. 발사이즈가 270mm인데 조금 크네요. 그래도 재질은...</td>\n",
       "      <td>많이 두툼하지는 않지만 적당히 두툼하고 양말 괜찮은대요?\\n밴드부분도 튼튼해요~</td>\n",
       "      <td>짱짱해서 좋다네요 근데 금방 늘어날것같다고하네요</td>\n",
       "      <td>10족이니까 좋네요.한동안 잘 신을것같아요.추천합니다.</td>\n",
       "    </tr>\n",
       "  </tbody>\n",
       "</table>\n",
       "<p>3 rows × 101 columns</p>\n",
       "</div>"
      ],
      "text/plain": [
       "   product_id                                            review0  \\\n",
       "0  2128457892  와우!!!!!   말해 뭐합니까!\\n워치병 고쳤지요~\\n일요일에도 상품 받을 수 있...   \n",
       "1  2004420920  어머니 4사드리고, 동생 커플 5 1+1나왔을 때 선물주고... 어메이즈핏빕을 쓰다...   \n",
       "2   234431834  !!!!! 리뷰가 도움이 되었으면 좋겠습니다 !!!!!\\n\\n양말은 세탁도 많이하고...   \n",
       "\n",
       "                                             review1  \\\n",
       "0  아이패드 에어팟 둘다 쿠팡에서 사서 이번에도 망설임 없이 애플워치도 쿠팡에서 주문 ...   \n",
       "1  몇일 고민하다가 주문해본 샤오미미밴드5 솔직후기입니다.\\n\\n우선 요즘 박스대란이라...   \n",
       "2  이사오면서 버릴양말들은 버리고 들고온 양말의 양이 적어서 쿠팡에서 주문했습니다.\\n...   \n",
       "\n",
       "                                             review2  \\\n",
       "0  여자 44mm 괜찮아요! (포장만 불만 ㅠ)\\n\\n전자기기 쿠팡에서 사는게 처음이라...   \n",
       "1  완전 가성비 템으로 강추드려요!\\n\\n1.가볍고 착용감이 좋다. \\n\\n무겁다는 느...   \n",
       "2  우리아들발이 275-280사이즈 인데 잘 맞아요 좀 얇지만 중간에 한번 더 잡아주니...   \n",
       "\n",
       "                                             review3  \\\n",
       "0  총평\\n\\n\\n새해가 되면서 운동하겠다 다짐하에 고민하다가 구매했어요 !워치 6랑 ...   \n",
       "1  우선 제가 미밴드5를 사기 전에 미밴드5와 갤럭시 핏2을\\n많이 비교해보고 최종적으...   \n",
       "2  ----------------------------------------------...   \n",
       "\n",
       "                                             review4  \\\n",
       "0  일단 뽑기는 성공한것같아요\\n일주일정도 사용했는데 고장없이 잘쓰고 있어요.\\n\\n저...   \n",
       "1  평소 핸드폰 무음으로 놔서 전화나 카톡을 확인 못할때가 많은데\\n알림을 바로 확인하...   \n",
       "2  1.소재\\n- 흔한 양말 소재 느낌\\n- 발목 부분 고무줄 짱짱한편\\n\\n2. 착용...   \n",
       "\n",
       "                                             review5  \\\n",
       "0  저와같은 애플워치병에 걸리신 분들에게 도움을 드리고자 리뷰를 작성합니다!\\n\\n-구...   \n",
       "1  저렴하게 구매했어요 ^^\\n원래는 3만원대 인데 제가 가격이 2만원대에 내려갈때 얼...   \n",
       "2  동생이 운동할 때 막 신는 양말이 필요하다고 해서 화이트 색상의 베이스알파에센셜 스...   \n",
       "\n",
       "                                             review6  \\\n",
       "0  애플워치를 사기 전에 모두들 제가 그랬던 것 처럼, \\n정말 많은 고민을 하실 거라...   \n",
       "1  처음 리뷰써보네요 :)\\n어머니 드리려고 구매했습니다\\n많이 걸어 다니시는데 좀 더...   \n",
       "2  남동생이 운동용 양말이 필요하다고 해서 베이스알파에센셜 스포츠 양말을 데려와봤습니다...   \n",
       "\n",
       "                                             review7  \\\n",
       "0  진작에 살 걸 .... 너무 편하네요\\n\\n주위에서 하나둘씩 구매하는거 보고 살까말...   \n",
       "1  아직 2~3일밖에 안써봤지만\\n\\n좋은거같아요!\\n\\n애플워치 살까했는데 ㅋㅋ 주변...   \n",
       "2  음 일단 양말마다 뭔차이가 있냐 라고 생각하실 수도 있는데 진짜 이거는 검은 양말중...   \n",
       "\n",
       "                                             review8  ...  \\\n",
       "0  아들이 애플워치 신상 나왔다고 사고 싶어하길래 공홈봤더니 꽤 오래걸리더라구요. \\n...  ...   \n",
       "1  1. 2020.10월 구매\\n3개월 이상 사용해보고 후기 올려요.\\n\\n2. 사용하...  ...   \n",
       "2  일단 저렴하게 구매하고 상품은 받아보니 질감도 괜찮았어요.\\n가볍게 신고 다니기 좋...  ...   \n",
       "\n",
       "                                            review90  \\\n",
       "0  운동량을 좀 더 늘리고 싶어서 애플워치를 구매했습니다! 진짜 언제 재입고 알람 확인...   \n",
       "1  애플워치는 너무 넘사벽이라\\n매번 망설였는데\\n이번에 다이어트 계기로 정밀하게 측정...   \n",
       "2  칼날같은 발톱때문인가..자꾸 양말에 구멍이 뚫리길래 샀는데..프리사이즈요? 남성용요...   \n",
       "\n",
       "                                            review91  \\\n",
       "0  애워 존버는 성공했습ㄴ다... 공홈에서 나이키 버전 시켜놓고 한달이나 기더려야해서 ...   \n",
       "1  저렴한 가격에 그렇지못한 기능들이네요 새벽배송으로 받아 사용하여 아직 기능들을 다 ...   \n",
       "2  가성비 좋은 또 하나의 쿠팡 브랜드 제입니다. \\n\\n요즘 양말 어디서 사려 해도 ...   \n",
       "\n",
       "                                            review92  \\\n",
       "0  애플워치 자체가 꼭 필수적인 제품은 아닙니다.\\n\\n다만 있을 때의 활용도가 매우 ...   \n",
       "1  제꺼 사서 써보고 너무 좋아서 남자친구 선물로 재구매 했습니다. \\n남자친구가 요즘...   \n",
       "2  남자양말을 신지않으면 작아서 매일 윗부분이 내려가곤 하는데요~\\n저렴에게 쿠팡에서 ...   \n",
       "\n",
       "                                            review93  \\\n",
       "0  손목둘레 16정도인 여자인데 화면이 큼직한게 좋아서 44mm를 사려고 매장에 갔는데...   \n",
       "1  삼성 기어핏 4년 사용하고 사망해서 대체품을 찾았는데\\n솔직히 대안이 될 만한 제품...   \n",
       "2  제 발 사이즈 270 입니다. 남자 사이즈 주문하시면 사이즈 부족하지 않습니다. 뚜...   \n",
       "\n",
       "                                            review94  \\\n",
       "0  저는 솔직히 워치가 악세사리를 뛰어넘어서 간지템이라고 생각을 합니다. 그래서 저도 ...   \n",
       "1  새벽 4시10분경..!\\n새벽배송을 완료하였다는 문자메세지에\\n후다닥!!\\n우아아아...   \n",
       "2  빠른배송 +1\\n가성비 +1\\n스포츠 양말치고는.. 좀 얇음... -1점\\n그림이랑...   \n",
       "\n",
       "                                            review95  \\\n",
       "0  ㅠㅠ 고민없이 구매해도 되었을 상품이예요 \\n착용 나흘째고 하루하루 친해지고 있는 ...   \n",
       "1  스마트워치를 구입할려고 알아보던중\\n갤* 과 사과는 너무 비싸므로 가성비제품 찾는중...   \n",
       "2  남편쓰라고 구매했는데 \\n좋다고 하네요 다른건 벗겨지는데 \\n이양말은 딱 잡아줘서 ...   \n",
       "\n",
       "                                            review96  \\\n",
       "0  애플워치를 사용해보고 싶어서 구매했어요.\\n애플워치 종류가 총 3가지 있는데 3는 ...   \n",
       "1  미밴드4를 사용하고 있습니다 \\n딸아이(9세)가 제걸 너무 탐내하더라구요 \\n시계도...   \n",
       "2  국내산 스니커즈 양말 10p. 발사이즈가 270mm인데 조금 크네요. 그래도 재질은...   \n",
       "\n",
       "                                            review97  \\\n",
       "0  가장 큰 장점은.. 애플워치 병이 나았다는 거에요.. 1년을 참았는데 사야 낫습니다...   \n",
       "1  구매날짜: 1월 31일, 2월 2일 \\n구매가격: 3만 3천 원\\n\\n샤오미 미밴드...   \n",
       "2       많이 두툼하지는 않지만 적당히 두툼하고 양말 괜찮은대요?\\n밴드부분도 튼튼해요~   \n",
       "\n",
       "                                            review98  \\\n",
       "0  역시 쿠팡! 완전 칼배송이었습니다\\n평생을 갤럭시만 쓰다가 최근에 아이폰으로 바꾼 ...   \n",
       "1  쿠팡정발만 기다렸다 사서 쓰는 일주일 후기에요! 일단 가볍도 기능 가득이라 스마트워...   \n",
       "2                         짱짱해서 좋다네요 근데 금방 늘어날것같다고하네요   \n",
       "\n",
       "                                            review99  \n",
       "0  잘삿지 싶어요 ㅋ꙼̈ㅋ̆̎ㅋ̊̈ㅋ̌̈ㅋ̄̈ 고민에 고민에 ㅠㅠ 끝없는\\n고민에 결국...  \n",
       "1  가격:29900원 \\n날짜:21.4.10\\n\\n샤오미 미밴드를 쿠팡에서 로켓와우로 ...  \n",
       "2                     10족이니까 좋네요.한동안 잘 신을것같아요.추천합니다.  \n",
       "\n",
       "[3 rows x 101 columns]"
      ]
     },
     "execution_count": 4,
     "metadata": {},
     "output_type": "execute_result"
    }
   ],
   "source": [
    "df_reviews.head(3)"
   ]
  },
  {
   "cell_type": "code",
   "execution_count": 5,
   "metadata": {
    "ExecuteTime": {
     "end_time": "2021-05-06T10:07:48.562674Z",
     "start_time": "2021-05-06T10:07:48.559648Z"
    }
   },
   "outputs": [],
   "source": [
    "import pandas as pd"
   ]
  },
  {
   "cell_type": "code",
   "execution_count": 6,
   "metadata": {
    "ExecuteTime": {
     "end_time": "2021-05-06T10:07:51.125866Z",
     "start_time": "2021-05-06T10:07:51.113803Z"
    }
   },
   "outputs": [
    {
     "data": {
      "text/html": [
       "<div>\n",
       "<style scoped>\n",
       "    .dataframe tbody tr th:only-of-type {\n",
       "        vertical-align: middle;\n",
       "    }\n",
       "\n",
       "    .dataframe tbody tr th {\n",
       "        vertical-align: top;\n",
       "    }\n",
       "\n",
       "    .dataframe thead th {\n",
       "        text-align: right;\n",
       "    }\n",
       "</style>\n",
       "<table border=\"1\" class=\"dataframe\">\n",
       "  <thead>\n",
       "    <tr style=\"text-align: right;\">\n",
       "      <th></th>\n",
       "      <th>reviews</th>\n",
       "    </tr>\n",
       "  </thead>\n",
       "  <tbody>\n",
       "    <tr>\n",
       "      <th>0</th>\n",
       "      <td>와우!!!!!   말해 뭐합니까!\\n워치병 고쳤지요~\\n일요일에도 상품 받을 수 있...</td>\n",
       "    </tr>\n",
       "    <tr>\n",
       "      <th>1</th>\n",
       "      <td>아이패드 에어팟 둘다 쿠팡에서 사서 이번에도 망설임 없이 애플워치도 쿠팡에서 주문 ...</td>\n",
       "    </tr>\n",
       "    <tr>\n",
       "      <th>2</th>\n",
       "      <td>여자 44mm 괜찮아요! (포장만 불만 ㅠ)\\n\\n전자기기 쿠팡에서 사는게 처음이라...</td>\n",
       "    </tr>\n",
       "    <tr>\n",
       "      <th>3</th>\n",
       "      <td>총평\\n\\n\\n새해가 되면서 운동하겠다 다짐하에 고민하다가 구매했어요 !워치 6랑 ...</td>\n",
       "    </tr>\n",
       "    <tr>\n",
       "      <th>4</th>\n",
       "      <td>일단 뽑기는 성공한것같아요\\n일주일정도 사용했는데 고장없이 잘쓰고 있어요.\\n\\n저...</td>\n",
       "    </tr>\n",
       "  </tbody>\n",
       "</table>\n",
       "</div>"
      ],
      "text/plain": [
       "                                             reviews\n",
       "0  와우!!!!!   말해 뭐합니까!\\n워치병 고쳤지요~\\n일요일에도 상품 받을 수 있...\n",
       "1  아이패드 에어팟 둘다 쿠팡에서 사서 이번에도 망설임 없이 애플워치도 쿠팡에서 주문 ...\n",
       "2  여자 44mm 괜찮아요! (포장만 불만 ㅠ)\\n\\n전자기기 쿠팡에서 사는게 처음이라...\n",
       "3  총평\\n\\n\\n새해가 되면서 운동하겠다 다짐하에 고민하다가 구매했어요 !워치 6랑 ...\n",
       "4  일단 뽑기는 성공한것같아요\\n일주일정도 사용했는데 고장없이 잘쓰고 있어요.\\n\\n저..."
      ]
     },
     "execution_count": 6,
     "metadata": {},
     "output_type": "execute_result"
    }
   ],
   "source": [
    "df_review_test_series = pd.Series(df_reviews.iloc[0, 1:], name='reviews').reset_index()\n",
    "del df_review_test_series['index']\n",
    "df_review_test_series.head()"
   ]
  },
  {
   "cell_type": "code",
   "execution_count": 10,
   "metadata": {
    "ExecuteTime": {
     "end_time": "2021-05-06T10:08:54.196108Z",
     "start_time": "2021-05-06T10:08:54.190179Z"
    }
   },
   "outputs": [],
   "source": [
    "df_id_test = pd.Series(df_reviews['product_id'][0])\n",
    "\n",
    "df_test = pd.DataFrame(index=range(0,100))\n",
    "df_test['product_id'] = int(df_id_test)\n",
    "df_test['reviews'] = df_review_test_series"
   ]
  },
  {
   "cell_type": "code",
   "execution_count": 11,
   "metadata": {
    "ExecuteTime": {
     "end_time": "2021-05-06T10:08:57.429454Z",
     "start_time": "2021-05-06T10:08:57.421035Z"
    }
   },
   "outputs": [
    {
     "data": {
      "text/html": [
       "<div>\n",
       "<style scoped>\n",
       "    .dataframe tbody tr th:only-of-type {\n",
       "        vertical-align: middle;\n",
       "    }\n",
       "\n",
       "    .dataframe tbody tr th {\n",
       "        vertical-align: top;\n",
       "    }\n",
       "\n",
       "    .dataframe thead th {\n",
       "        text-align: right;\n",
       "    }\n",
       "</style>\n",
       "<table border=\"1\" class=\"dataframe\">\n",
       "  <thead>\n",
       "    <tr style=\"text-align: right;\">\n",
       "      <th></th>\n",
       "      <th>product_id</th>\n",
       "      <th>reviews</th>\n",
       "    </tr>\n",
       "  </thead>\n",
       "  <tbody>\n",
       "    <tr>\n",
       "      <th>95</th>\n",
       "      <td>2128457892</td>\n",
       "      <td>ㅠㅠ 고민없이 구매해도 되었을 상품이예요 \\n착용 나흘째고 하루하루 친해지고 있는 ...</td>\n",
       "    </tr>\n",
       "    <tr>\n",
       "      <th>96</th>\n",
       "      <td>2128457892</td>\n",
       "      <td>애플워치를 사용해보고 싶어서 구매했어요.\\n애플워치 종류가 총 3가지 있는데 3는 ...</td>\n",
       "    </tr>\n",
       "    <tr>\n",
       "      <th>97</th>\n",
       "      <td>2128457892</td>\n",
       "      <td>가장 큰 장점은.. 애플워치 병이 나았다는 거에요.. 1년을 참았는데 사야 낫습니다...</td>\n",
       "    </tr>\n",
       "    <tr>\n",
       "      <th>98</th>\n",
       "      <td>2128457892</td>\n",
       "      <td>역시 쿠팡! 완전 칼배송이었습니다\\n평생을 갤럭시만 쓰다가 최근에 아이폰으로 바꾼 ...</td>\n",
       "    </tr>\n",
       "    <tr>\n",
       "      <th>99</th>\n",
       "      <td>2128457892</td>\n",
       "      <td>잘삿지 싶어요 ㅋ꙼̈ㅋ̆̎ㅋ̊̈ㅋ̌̈ㅋ̄̈ 고민에 고민에 ㅠㅠ 끝없는\\n고민에 결국...</td>\n",
       "    </tr>\n",
       "  </tbody>\n",
       "</table>\n",
       "</div>"
      ],
      "text/plain": [
       "    product_id                                            reviews\n",
       "95  2128457892  ㅠㅠ 고민없이 구매해도 되었을 상품이예요 \\n착용 나흘째고 하루하루 친해지고 있는 ...\n",
       "96  2128457892  애플워치를 사용해보고 싶어서 구매했어요.\\n애플워치 종류가 총 3가지 있는데 3는 ...\n",
       "97  2128457892  가장 큰 장점은.. 애플워치 병이 나았다는 거에요.. 1년을 참았는데 사야 낫습니다...\n",
       "98  2128457892  역시 쿠팡! 완전 칼배송이었습니다\\n평생을 갤럭시만 쓰다가 최근에 아이폰으로 바꾼 ...\n",
       "99  2128457892  잘삿지 싶어요 ㅋ꙼̈ㅋ̆̎ㅋ̊̈ㅋ̌̈ㅋ̄̈ 고민에 고민에 ㅠㅠ 끝없는\\n고민에 결국..."
      ]
     },
     "execution_count": 11,
     "metadata": {},
     "output_type": "execute_result"
    }
   ],
   "source": [
    "df_test.tail()"
   ]
  },
  {
   "cell_type": "code",
   "execution_count": 16,
   "metadata": {
    "ExecuteTime": {
     "end_time": "2021-05-06T09:45:30.674221Z",
     "start_time": "2021-05-06T09:45:30.654898Z"
    },
    "scrolled": true
   },
   "outputs": [],
   "source": [
    "# df_test.to_csv('input.csv')"
   ]
  },
  {
   "cell_type": "code",
   "execution_count": 12,
   "metadata": {
    "ExecuteTime": {
     "end_time": "2021-05-06T10:13:07.606277Z",
     "start_time": "2021-05-06T10:13:07.603113Z"
    }
   },
   "outputs": [],
   "source": [
    "df_test_del_nl = df_test.copy()"
   ]
  },
  {
   "cell_type": "code",
   "execution_count": 13,
   "metadata": {
    "ExecuteTime": {
     "end_time": "2021-05-06T10:13:09.414543Z",
     "start_time": "2021-05-06T10:13:09.401326Z"
    }
   },
   "outputs": [],
   "source": [
    "for i in range(len(df_test_del_nl.reviews)):\n",
    "    if '\\n' in df_test_del_nl['reviews'][i]:\n",
    "        df_test_del_nl['reviews'][i] = df_test_del_nl['reviews'][i].replace(\"\\n\", \". \")"
   ]
  },
  {
   "cell_type": "code",
   "execution_count": 14,
   "metadata": {
    "ExecuteTime": {
     "end_time": "2021-05-06T10:13:13.089059Z",
     "start_time": "2021-05-06T10:13:13.080997Z"
    },
    "scrolled": true
   },
   "outputs": [
    {
     "data": {
      "text/html": [
       "<div>\n",
       "<style scoped>\n",
       "    .dataframe tbody tr th:only-of-type {\n",
       "        vertical-align: middle;\n",
       "    }\n",
       "\n",
       "    .dataframe tbody tr th {\n",
       "        vertical-align: top;\n",
       "    }\n",
       "\n",
       "    .dataframe thead th {\n",
       "        text-align: right;\n",
       "    }\n",
       "</style>\n",
       "<table border=\"1\" class=\"dataframe\">\n",
       "  <thead>\n",
       "    <tr style=\"text-align: right;\">\n",
       "      <th></th>\n",
       "      <th>product_id</th>\n",
       "      <th>reviews</th>\n",
       "    </tr>\n",
       "  </thead>\n",
       "  <tbody>\n",
       "    <tr>\n",
       "      <th>95</th>\n",
       "      <td>2128457892</td>\n",
       "      <td>ㅠㅠ 고민없이 구매해도 되었을 상품이예요 . 착용 나흘째고 하루하루 친해지고 있는 ...</td>\n",
       "    </tr>\n",
       "    <tr>\n",
       "      <th>96</th>\n",
       "      <td>2128457892</td>\n",
       "      <td>애플워치를 사용해보고 싶어서 구매했어요.. 애플워치 종류가 총 3가지 있는데 3는 ...</td>\n",
       "    </tr>\n",
       "    <tr>\n",
       "      <th>97</th>\n",
       "      <td>2128457892</td>\n",
       "      <td>가장 큰 장점은.. 애플워치 병이 나았다는 거에요.. 1년을 참았는데 사야 낫습니다...</td>\n",
       "    </tr>\n",
       "    <tr>\n",
       "      <th>98</th>\n",
       "      <td>2128457892</td>\n",
       "      <td>역시 쿠팡! 완전 칼배송이었습니다. 평생을 갤럭시만 쓰다가 최근에 아이폰으로 바꾼 ...</td>\n",
       "    </tr>\n",
       "    <tr>\n",
       "      <th>99</th>\n",
       "      <td>2128457892</td>\n",
       "      <td>잘삿지 싶어요 ㅋ꙼̈ㅋ̆̎ㅋ̊̈ㅋ̌̈ㅋ̄̈ 고민에 고민에 ㅠㅠ 끝없는. 고민에 결국...</td>\n",
       "    </tr>\n",
       "  </tbody>\n",
       "</table>\n",
       "</div>"
      ],
      "text/plain": [
       "    product_id                                            reviews\n",
       "95  2128457892  ㅠㅠ 고민없이 구매해도 되었을 상품이예요 . 착용 나흘째고 하루하루 친해지고 있는 ...\n",
       "96  2128457892  애플워치를 사용해보고 싶어서 구매했어요.. 애플워치 종류가 총 3가지 있는데 3는 ...\n",
       "97  2128457892  가장 큰 장점은.. 애플워치 병이 나았다는 거에요.. 1년을 참았는데 사야 낫습니다...\n",
       "98  2128457892  역시 쿠팡! 완전 칼배송이었습니다. 평생을 갤럭시만 쓰다가 최근에 아이폰으로 바꾼 ...\n",
       "99  2128457892  잘삿지 싶어요 ㅋ꙼̈ㅋ̆̎ㅋ̊̈ㅋ̌̈ㅋ̄̈ 고민에 고민에 ㅠㅠ 끝없는. 고민에 결국..."
      ]
     },
     "execution_count": 14,
     "metadata": {},
     "output_type": "execute_result"
    }
   ],
   "source": [
    "df_test_del_nl.tail()"
   ]
  },
  {
   "cell_type": "code",
   "execution_count": 17,
   "metadata": {
    "ExecuteTime": {
     "end_time": "2021-05-06T10:14:23.303305Z",
     "start_time": "2021-05-06T10:14:23.292185Z"
    }
   },
   "outputs": [],
   "source": [
    "df_test_del_nl.to_csv('output.tsv', index=False, sep=\"\\t\", index_label=['product_id', 'reviews'])"
   ]
  },
  {
   "cell_type": "code",
   "execution_count": 18,
   "metadata": {
    "ExecuteTime": {
     "end_time": "2021-05-06T10:14:25.200931Z",
     "start_time": "2021-05-06T10:14:25.000198Z"
    }
   },
   "outputs": [],
   "source": [
    "!python refine.py refine.regex.txt 1 < output.tsv > output_refined.tsv"
   ]
  },
  {
   "cell_type": "code",
   "execution_count": 19,
   "metadata": {
    "ExecuteTime": {
     "end_time": "2021-05-06T10:14:44.904148Z",
     "start_time": "2021-05-06T10:14:44.891403Z"
    }
   },
   "outputs": [
    {
     "data": {
      "text/plain": [
       "(100, 2)"
      ]
     },
     "execution_count": 19,
     "metadata": {},
     "output_type": "execute_result"
    }
   ],
   "source": [
    "df_test_refined = pd.read_csv('output_refined.tsv', sep='\\t')\n",
    "df_test_refined.shape"
   ]
  },
  {
   "cell_type": "code",
   "execution_count": 20,
   "metadata": {
    "ExecuteTime": {
     "end_time": "2021-05-06T10:14:46.159296Z",
     "start_time": "2021-05-06T10:14:46.150685Z"
    },
    "scrolled": true
   },
   "outputs": [
    {
     "data": {
      "text/html": [
       "<div>\n",
       "<style scoped>\n",
       "    .dataframe tbody tr th:only-of-type {\n",
       "        vertical-align: middle;\n",
       "    }\n",
       "\n",
       "    .dataframe tbody tr th {\n",
       "        vertical-align: top;\n",
       "    }\n",
       "\n",
       "    .dataframe thead th {\n",
       "        text-align: right;\n",
       "    }\n",
       "</style>\n",
       "<table border=\"1\" class=\"dataframe\">\n",
       "  <thead>\n",
       "    <tr style=\"text-align: right;\">\n",
       "      <th></th>\n",
       "      <th>product_id</th>\n",
       "      <th>reviews</th>\n",
       "    </tr>\n",
       "  </thead>\n",
       "  <tbody>\n",
       "    <tr>\n",
       "      <th>0</th>\n",
       "      <td>2128457892</td>\n",
       "      <td>와우!!!!! 말해 뭐합니까!. 워치병 고쳤지요~. 일요일에도 상품 받을 수 있는 ...</td>\n",
       "    </tr>\n",
       "    <tr>\n",
       "      <th>1</th>\n",
       "      <td>2128457892</td>\n",
       "      <td>아이패드 에어팟 둘다 쿠팡에서 사서 이번에도 망설임 없이 애플워치도 쿠팡에서 주문 ...</td>\n",
       "    </tr>\n",
       "    <tr>\n",
       "      <th>2</th>\n",
       "      <td>2128457892</td>\n",
       "      <td>여자 44mm 괜찮아요! (포장만 불만 ㅠ). . 전자기기 쿠팡에서 사는게 처음이라...</td>\n",
       "    </tr>\n",
       "    <tr>\n",
       "      <th>3</th>\n",
       "      <td>2128457892</td>\n",
       "      <td>총평. . . 새해가 되면서 운동하겠다 다짐하에 고민하다가 구매했어요 !워치 6랑 ...</td>\n",
       "    </tr>\n",
       "    <tr>\n",
       "      <th>4</th>\n",
       "      <td>2128457892</td>\n",
       "      <td>일단 뽑기는 성공한것같아요. 일주일정도 사용했는데 고장없이 잘쓰고 있어요.. . 저...</td>\n",
       "    </tr>\n",
       "  </tbody>\n",
       "</table>\n",
       "</div>"
      ],
      "text/plain": [
       "   product_id                                            reviews\n",
       "0  2128457892  와우!!!!! 말해 뭐합니까!. 워치병 고쳤지요~. 일요일에도 상품 받을 수 있는 ...\n",
       "1  2128457892  아이패드 에어팟 둘다 쿠팡에서 사서 이번에도 망설임 없이 애플워치도 쿠팡에서 주문 ...\n",
       "2  2128457892  여자 44mm 괜찮아요! (포장만 불만 ㅠ). . 전자기기 쿠팡에서 사는게 처음이라...\n",
       "3  2128457892  총평. . . 새해가 되면서 운동하겠다 다짐하에 고민하다가 구매했어요 !워치 6랑 ...\n",
       "4  2128457892  일단 뽑기는 성공한것같아요. 일주일정도 사용했는데 고장없이 잘쓰고 있어요.. . 저..."
      ]
     },
     "execution_count": 20,
     "metadata": {},
     "output_type": "execute_result"
    }
   ],
   "source": [
    "df_test_refined.head()"
   ]
  },
  {
   "cell_type": "code",
   "execution_count": null,
   "metadata": {},
   "outputs": [],
   "source": [
    "for i in range(len(df_test_del_nl.reviews)):\n",
    "    if '\\n' in df_test_del_nl['reviews'][i]:\n",
    "        df_test_del_nl['reviews'][i] = df_test_del_nl['reviews'][i].replace(\"\\n\", \". \")"
   ]
  },
  {
   "cell_type": "code",
   "execution_count": 26,
   "metadata": {
    "ExecuteTime": {
     "end_time": "2021-05-06T10:17:15.734044Z",
     "start_time": "2021-05-06T10:17:15.725396Z"
    },
    "scrolled": true
   },
   "outputs": [
    {
     "data": {
      "text/html": [
       "<div>\n",
       "<style scoped>\n",
       "    .dataframe tbody tr th:only-of-type {\n",
       "        vertical-align: middle;\n",
       "    }\n",
       "\n",
       "    .dataframe tbody tr th {\n",
       "        vertical-align: top;\n",
       "    }\n",
       "\n",
       "    .dataframe thead th {\n",
       "        text-align: right;\n",
       "    }\n",
       "</style>\n",
       "<table border=\"1\" class=\"dataframe\">\n",
       "  <thead>\n",
       "    <tr style=\"text-align: right;\">\n",
       "      <th></th>\n",
       "      <th>product_id</th>\n",
       "      <th>reviews</th>\n",
       "    </tr>\n",
       "  </thead>\n",
       "  <tbody>\n",
       "    <tr>\n",
       "      <th>0</th>\n",
       "      <td>2128457892</td>\n",
       "      <td>와우!!!!!   말해 뭐합니까!\\n워치병 고쳤지요~\\n일요일에도 상품 받을 수 있...</td>\n",
       "    </tr>\n",
       "    <tr>\n",
       "      <th>1</th>\n",
       "      <td>2128457892</td>\n",
       "      <td>아이패드 에어팟 둘다 쿠팡에서 사서 이번에도 망설임 없이 애플워치도 쿠팡에서 주문 ...</td>\n",
       "    </tr>\n",
       "    <tr>\n",
       "      <th>2</th>\n",
       "      <td>2128457892</td>\n",
       "      <td>여자 44mm 괜찮아요! (포장만 불만 ㅠ)\\n\\n전자기기 쿠팡에서 사는게 처음이라...</td>\n",
       "    </tr>\n",
       "    <tr>\n",
       "      <th>3</th>\n",
       "      <td>2128457892</td>\n",
       "      <td>총평\\n\\n\\n새해가 되면서 운동하겠다 다짐하에 고민하다가 구매했어요 !워치 6랑 ...</td>\n",
       "    </tr>\n",
       "    <tr>\n",
       "      <th>4</th>\n",
       "      <td>2128457892</td>\n",
       "      <td>일단 뽑기는 성공한것같아요\\n일주일정도 사용했는데 고장없이 잘쓰고 있어요.\\n\\n저...</td>\n",
       "    </tr>\n",
       "  </tbody>\n",
       "</table>\n",
       "</div>"
      ],
      "text/plain": [
       "   product_id                                            reviews\n",
       "0  2128457892  와우!!!!!   말해 뭐합니까!\\n워치병 고쳤지요~\\n일요일에도 상품 받을 수 있...\n",
       "1  2128457892  아이패드 에어팟 둘다 쿠팡에서 사서 이번에도 망설임 없이 애플워치도 쿠팡에서 주문 ...\n",
       "2  2128457892  여자 44mm 괜찮아요! (포장만 불만 ㅠ)\\n\\n전자기기 쿠팡에서 사는게 처음이라...\n",
       "3  2128457892  총평\\n\\n\\n새해가 되면서 운동하겠다 다짐하에 고민하다가 구매했어요 !워치 6랑 ...\n",
       "4  2128457892  일단 뽑기는 성공한것같아요\\n일주일정도 사용했는데 고장없이 잘쓰고 있어요.\\n\\n저..."
      ]
     },
     "execution_count": 26,
     "metadata": {},
     "output_type": "execute_result"
    }
   ],
   "source": [
    "df_test.head(5)"
   ]
  },
  {
   "cell_type": "code",
   "execution_count": 37,
   "metadata": {
    "ExecuteTime": {
     "end_time": "2021-05-06T10:20:02.975818Z",
     "start_time": "2021-05-06T10:20:02.970469Z"
    },
    "scrolled": true
   },
   "outputs": [],
   "source": [
    "for i in range(len(df_test['reviews'])):\n",
    "    if 'ａ' in df_test['reviews'][i]:\n",
    "        print(i)"
   ]
  },
  {
   "cell_type": "code",
   "execution_count": 53,
   "metadata": {
    "ExecuteTime": {
     "end_time": "2021-05-06T10:24:28.172652Z",
     "start_time": "2021-05-06T10:24:28.165898Z"
    }
   },
   "outputs": [
    {
     "data": {
      "text/plain": [
       "Index            128\n",
       "product_id       800\n",
       "reviews       120430\n",
       "dtype: int64"
      ]
     },
     "execution_count": 53,
     "metadata": {},
     "output_type": "execute_result"
    }
   ],
   "source": [
    "df_test_del_nl.memory_usage(deep=True)"
   ]
  },
  {
   "cell_type": "code",
   "execution_count": 54,
   "metadata": {
    "ExecuteTime": {
     "end_time": "2021-05-06T10:24:32.627728Z",
     "start_time": "2021-05-06T10:24:32.620480Z"
    }
   },
   "outputs": [
    {
     "data": {
      "text/plain": [
       "Index            128\n",
       "product_id       800\n",
       "reviews       120344\n",
       "dtype: int64"
      ]
     },
     "execution_count": 54,
     "metadata": {},
     "output_type": "execute_result"
    }
   ],
   "source": [
    "df_test_refined.memory_usage(deep=True)"
   ]
  },
  {
   "cell_type": "code",
   "execution_count": null,
   "metadata": {},
   "outputs": [],
   "source": []
  }
 ],
 "metadata": {
  "kernelspec": {
   "display_name": "Python 3",
   "language": "python",
   "name": "python3"
  },
  "toc": {
   "base_numbering": 1,
   "nav_menu": {},
   "number_sections": true,
   "sideBar": true,
   "skip_h1_title": false,
   "title_cell": "Table of Contents",
   "title_sidebar": "Contents",
   "toc_cell": false,
   "toc_position": {},
   "toc_section_display": true,
   "toc_window_display": false
  },
  "varInspector": {
   "cols": {
    "lenName": 16,
    "lenType": 16,
    "lenVar": 40
   },
   "kernels_config": {
    "python": {
     "delete_cmd_postfix": "",
     "delete_cmd_prefix": "del ",
     "library": "var_list.py",
     "varRefreshCmd": "print(var_dic_list())"
    },
    "r": {
     "delete_cmd_postfix": ") ",
     "delete_cmd_prefix": "rm(",
     "library": "var_list.r",
     "varRefreshCmd": "cat(var_dic_list()) "
    }
   },
   "position": {
    "height": "168px",
    "left": "1571px",
    "right": "20px",
    "top": "120px",
    "width": "329px"
   },
   "types_to_exclude": [
    "module",
    "function",
    "builtin_function_or_method",
    "instance",
    "_Feature"
   ],
   "window_display": true
  }
 },
 "nbformat": 4,
 "nbformat_minor": 4
}
