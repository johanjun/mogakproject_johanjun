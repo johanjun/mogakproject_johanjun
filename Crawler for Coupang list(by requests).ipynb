{
 "cells": [
  {
   "cell_type": "code",
   "execution_count": 1,
   "metadata": {},
   "outputs": [],
   "source": [
    "import requests\n",
    "\n",
    "from bs4 import BeautifulSoup\n",
    "\n",
    "import json\n",
    "\n",
    "import pandas as pd"
   ]
  },
  {
   "cell_type": "code",
   "execution_count": 2,
   "metadata": {},
   "outputs": [],
   "source": [
    "url = \"https://www.coupang.com/np/categories/317778?listSize=120&brand=&offerCondition=&filterType=&isPriceRange=false&minPrice=&maxPrice=&page=1&channel=user&fromComponent=N&selectedPlpKeepFilter=&sorter=bestAsc&filter=&rating=0\"\n",
    "headers = {\"user-agent\" : \"Mozilla/5.0 (Macintosh; Intel Mac OS X 11_2_3) AppleWebKit/537.36 (KHTML, like Gecko) Chrome/87.0.4280.141 Safari/537.36\"}\n",
    "response = requests.get(url, headers=headers)"
   ]
  },
  {
   "cell_type": "code",
   "execution_count": 3,
   "metadata": {},
   "outputs": [],
   "source": [
    "dom = BeautifulSoup(response.content, \"html.parser\")"
   ]
  },
  {
   "cell_type": "markdown",
   "metadata": {},
   "source": [
    "### whole titles"
   ]
  },
  {
   "cell_type": "code",
   "execution_count": 4,
   "metadata": {},
   "outputs": [
    {
     "data": {
      "text/plain": [
       "120"
      ]
     },
     "execution_count": 4,
     "metadata": {},
     "output_type": "execute_result"
    }
   ],
   "source": [
    "title_selector = \"a > dl > dd > div.name\"\n",
    "titles = dom.select(title_selector)\n",
    "len(titles)"
   ]
  },
  {
   "cell_type": "code",
   "execution_count": 5,
   "metadata": {
    "scrolled": true
   },
   "outputs": [
    {
     "data": {
      "text/plain": [
       "[<div class=\"name\">\n",
       "     Apple 애플워치 SE, GPS, 실버 알루미늄 케이스, 화이트 스포츠 밴드\n",
       " </div>,\n",
       " <div class=\"name\">\n",
       "     [쿠팡 직수입] 샤오미 미밴드 5 한글버전, 블랙\n",
       " </div>,\n",
       " <div class=\"name\">\n",
       "     베이스알파 에센셜 남성용 스포츠 스니커즈 양말 10p, 화이트\n",
       " </div>]"
      ]
     },
     "execution_count": 5,
     "metadata": {},
     "output_type": "execute_result"
    }
   ],
   "source": [
    "titles[:3]"
   ]
  },
  {
   "cell_type": "code",
   "execution_count": 6,
   "metadata": {},
   "outputs": [
    {
     "data": {
      "text/plain": [
       "'\\n    Apple 애플워치 SE, GPS, 실버 알루미늄 케이스, 화이트 스포츠 밴드\\n'"
      ]
     },
     "execution_count": 6,
     "metadata": {},
     "output_type": "execute_result"
    }
   ],
   "source": [
    "titles[0].text"
   ]
  },
  {
   "cell_type": "code",
   "execution_count": 7,
   "metadata": {},
   "outputs": [
    {
     "data": {
      "text/plain": [
       "'Apple 애플워치 SE, GPS, 실버 알루미늄 케이스, 화이트 스포츠 밴드'"
      ]
     },
     "execution_count": 7,
     "metadata": {},
     "output_type": "execute_result"
    }
   ],
   "source": [
    "titles[0].text.strip()"
   ]
  },
  {
   "cell_type": "code",
   "execution_count": 8,
   "metadata": {},
   "outputs": [],
   "source": [
    "title_list = []\n",
    "for i in titles:\n",
    "    title_list.append(i.text.strip())"
   ]
  },
  {
   "cell_type": "code",
   "execution_count": 9,
   "metadata": {},
   "outputs": [
    {
     "data": {
      "text/plain": [
       "120"
      ]
     },
     "execution_count": 9,
     "metadata": {},
     "output_type": "execute_result"
    }
   ],
   "source": [
    "len(title_list)"
   ]
  },
  {
   "cell_type": "code",
   "execution_count": 10,
   "metadata": {},
   "outputs": [
    {
     "data": {
      "text/plain": [
       "['Apple 애플워치 SE, GPS, 실버 알루미늄 케이스, 화이트 스포츠 밴드',\n",
       " '[쿠팡 직수입] 샤오미 미밴드 5 한글버전, 블랙',\n",
       " '베이스알파 에센셜 남성용 스포츠 스니커즈 양말 10p, 화이트',\n",
       " '갤럭시 핏2 스마트밴드, SM-R220N, 블랙',\n",
       " '[쿠팡 직수입] 헤이로 헬로우 솔라 스마트워치, LS05, 혼합색상']"
      ]
     },
     "execution_count": 10,
     "metadata": {},
     "output_type": "execute_result"
    }
   ],
   "source": [
    "title_list[:5]"
   ]
  },
  {
   "cell_type": "code",
   "execution_count": 11,
   "metadata": {},
   "outputs": [],
   "source": [
    "series_title_list = pd.Series(title_list)"
   ]
  },
  {
   "cell_type": "code",
   "execution_count": 12,
   "metadata": {},
   "outputs": [
    {
     "data": {
      "text/plain": [
       "0    Apple 애플워치 SE, GPS, 실버 알루미늄 케이스, 화이트 스포츠 밴드\n",
       "1                    [쿠팡 직수입] 샤오미 미밴드 5 한글버전, 블랙\n",
       "2             베이스알파 에센셜 남성용 스포츠 스니커즈 양말 10p, 화이트\n",
       "3                     갤럭시 핏2 스마트밴드, SM-R220N, 블랙\n",
       "4          [쿠팡 직수입] 헤이로 헬로우 솔라 스마트워치, LS05, 혼합색상\n",
       "dtype: object"
      ]
     },
     "execution_count": 12,
     "metadata": {},
     "output_type": "execute_result"
    }
   ],
   "source": [
    "series_title_list.head()"
   ]
  },
  {
   "cell_type": "markdown",
   "metadata": {},
   "source": [
    "### detail information"
   ]
  },
  {
   "cell_type": "code",
   "execution_count": 13,
   "metadata": {},
   "outputs": [],
   "source": [
    "product_list = dom.find_all('a', class_='baby-product-link')"
   ]
  },
  {
   "cell_type": "code",
   "execution_count": 14,
   "metadata": {},
   "outputs": [
    {
     "data": {
      "text/plain": [
       "120"
      ]
     },
     "execution_count": 14,
     "metadata": {},
     "output_type": "execute_result"
    }
   ],
   "source": [
    "len(product_list)"
   ]
  },
  {
   "cell_type": "code",
   "execution_count": 15,
   "metadata": {},
   "outputs": [
    {
     "data": {
      "text/plain": [
       "{'class': ['baby-product-link'],\n",
       " 'href': '/vp/products/2128457892?itemId=3612631996&vendorItemId=71598275778&sourceType=CATEGORY&categoryId=317678',\n",
       " 'data-item-id': '3612631996',\n",
       " 'data-product-id': '2128457892',\n",
       " 'data-vendor-item-id': '71598275778',\n",
       " 'data-is-rocket': 'true',\n",
       " 'data-is-ccid-eligible': 'false',\n",
       " 'data-sns-discount-rate': '-1',\n",
       " 'data-wow-only-instant-discount-rate': '-1'}"
      ]
     },
     "execution_count": 15,
     "metadata": {},
     "output_type": "execute_result"
    }
   ],
   "source": [
    "product_list[0].attrs"
   ]
  },
  {
   "cell_type": "code",
   "execution_count": 16,
   "metadata": {},
   "outputs": [
    {
     "data": {
      "text/plain": [
       "'/vp/products/2128457892?itemId=3612631996&vendorItemId=71598275778&sourceType=CATEGORY&categoryId=317678'"
      ]
     },
     "execution_count": 16,
     "metadata": {},
     "output_type": "execute_result"
    }
   ],
   "source": [
    "product_list[0].attrs['href']"
   ]
  },
  {
   "cell_type": "code",
   "execution_count": 17,
   "metadata": {},
   "outputs": [],
   "source": [
    "PREFIX_URL = \"https://www.coupang.com\""
   ]
  },
  {
   "cell_type": "raw",
   "metadata": {},
   "source": [
    "url2 = PREFIX_URL + product_list[0].attrs['href'] + \"&isAddedCart=\""
   ]
  },
  {
   "cell_type": "raw",
   "metadata": {},
   "source": [
    "url2"
   ]
  },
  {
   "cell_type": "raw",
   "metadata": {},
   "source": [
    "res = requests.get(url2, headers=headers)"
   ]
  },
  {
   "cell_type": "code",
   "execution_count": 18,
   "metadata": {},
   "outputs": [],
   "source": [
    "PRODUCT_DETAIL_URL = \"https://www.coupang.com/vp/products/{data_product_id}/items/{data_item_id}/vendoritems/{data_vendor_item_id}\".format(\n",
    "    data_product_id=product_list[0].attrs['data-product-id'], data_item_id=product_list[0].attrs['data-item-id'], data_vendor_item_id=product_list[0].attrs['data-vendor-item-id'])"
   ]
  },
  {
   "cell_type": "code",
   "execution_count": 19,
   "metadata": {
    "scrolled": true
   },
   "outputs": [
    {
     "data": {
      "text/plain": [
       "'https://www.coupang.com/vp/products/2128457892/items/3612631996/vendoritems/71598275778'"
      ]
     },
     "execution_count": 19,
     "metadata": {},
     "output_type": "execute_result"
    }
   ],
   "source": [
    "PRODUCT_DETAIL_URL"
   ]
  },
  {
   "cell_type": "code",
   "execution_count": 20,
   "metadata": {},
   "outputs": [],
   "source": [
    "res = requests.get(PRODUCT_DETAIL_URL, headers=headers)"
   ]
  },
  {
   "cell_type": "code",
   "execution_count": 21,
   "metadata": {
    "collapsed": true
   },
   "outputs": [
    {
     "data": {
      "text/plain": [
       "[{'title': '품명 및 모델명',\n",
       "  'description': 'Apple 2020년 Apple Watch SE GPS, 40mm Silver Aluminium Case with White Sport Band - Regular (MYDM2KH/A)'},\n",
       " {'title': 'KC 인증 필 유무', 'description': '추후 업데이트 예정'},\n",
       " {'title': '정격전압, 소비전력', 'description': '100V ~ 240V AC, 알수없음(업체미제공)'},\n",
       " {'title': '출시년월', 'description': '알 수 없음(업체미제공)'},\n",
       " {'title': '제조자(수입자)', 'description': '애플/ 알 수 없음(업체미제공)'},\n",
       " {'title': '제조국', 'description': '중국'},\n",
       " {'title': '크기', 'description': '(박스포함)266*76*34mm'},\n",
       " {'title': '무게', 'description': '(박스포함)360g'},\n",
       " {'title': '주요 사양',\n",
       "  'description': 'GPS, 40mm Silver Aluminium Case with White Sport Band'},\n",
       " {'title': '품질보증기준', 'description': '제품 이상 시 공정거래위원회 고시 소비자분쟁해결기준에 의거 보상합니다.'},\n",
       " {'title': 'A/S 책임자와 전화번호', 'description': '쿠팡고객센터 1577-7011'}]"
      ]
     },
     "execution_count": 21,
     "metadata": {},
     "output_type": "execute_result"
    }
   ],
   "source": [
    "product_detail = res.json()\n",
    "product_detail['essentials']"
   ]
  },
  {
   "cell_type": "code",
   "execution_count": 22,
   "metadata": {
    "collapsed": true
   },
   "outputs": [
    {
     "data": {
      "text/plain": [
       "{'rollbackInterstellar': False,\n",
       " 'productId': 2128457892,\n",
       " 'itemId': 3612631996,\n",
       " 'vendorItemId': 71598275778,\n",
       " 'vendorItemCertifications': [],\n",
       " 'returnPolicyVo': {'vendorItemReturnPolicyLayoutType': 'RETAIL',\n",
       "  'vendorItemReturnNotice': {'returnCharge': '5,000원<br/>- 단, 고객 변심의 경우에만 발생<br/>- 부분반품 시, 남은금액이 무료배송 조건을 유지하면 일부 반품비용이 부과'},\n",
       "  'vendorItemDeliveryNotice': {'supportSameDayFresh': True,\n",
       "   'rocketInstall': False,\n",
       "   'rocketFresh': False,\n",
       "   'deliveryMethod': '순차배송',\n",
       "   'deliveryCompany': '',\n",
       "   'deliveryCharge': '무료배송<br/>- 로켓배송 상품 중 19,800원 이상 구매 시 무료배송<br/>- 도서산간 지역 추가비용 없음',\n",
       "   'batchShipment': '가능'},\n",
       "  'sellerDetailInfo': {'vendorName': None,\n",
       "   'threePM': False,\n",
       "   'threePC': False,\n",
       "   'sellerWithRepPersonName': None,\n",
       "   'retail': True,\n",
       "   'repPhoneNum': None,\n",
       "   'repPersonName': None,\n",
       "   'repEmail': None,\n",
       "   'repAddress2': None,\n",
       "   'repAddress1': None,\n",
       "   'repAddress': None,\n",
       "   'ecommReportNum': None,\n",
       "   'bizNum': None}},\n",
       " 'productSellingPoints': [],\n",
       " 'exemption': None,\n",
       " 'essentials': [{'title': '품명 및 모델명',\n",
       "   'description': 'Apple 2020년 Apple Watch SE GPS, 40mm Silver Aluminium Case with White Sport Band - Regular (MYDM2KH/A)'},\n",
       "  {'title': 'KC 인증 필 유무', 'description': '추후 업데이트 예정'},\n",
       "  {'title': '정격전압, 소비전력', 'description': '100V ~ 240V AC, 알수없음(업체미제공)'},\n",
       "  {'title': '출시년월', 'description': '알 수 없음(업체미제공)'},\n",
       "  {'title': '제조자(수입자)', 'description': '애플/ 알 수 없음(업체미제공)'},\n",
       "  {'title': '제조국', 'description': '중국'},\n",
       "  {'title': '크기', 'description': '(박스포함)266*76*34mm'},\n",
       "  {'title': '무게', 'description': '(박스포함)360g'},\n",
       "  {'title': '주요 사양',\n",
       "   'description': 'GPS, 40mm Silver Aluminium Case with White Sport Band'},\n",
       "  {'title': '품질보증기준',\n",
       "   'description': '제품 이상 시 공정거래위원회 고시 소비자분쟁해결기준에 의거 보상합니다.'},\n",
       "  {'title': 'A/S 책임자와 전화번호', 'description': '쿠팡고객센터 1577-7011'}],\n",
       " 'details': [{'vendorItemContentDescriptions': [{'detailType': 'IMAGE',\n",
       "     'imageType': True,\n",
       "     'cssClass': 'subType-IMAGE',\n",
       "     'content': '//thumbnail8.coupangcdn.com/thumbnails/remote/q89/image/retail/images/600977831993-faa833b9-c44a-4d06-8e2f-c6b14dd2f030.jpg'}],\n",
       "   'cssClass': 'type-IMAGE_NO_SPACE',\n",
       "   'contentType': 'IMAGE_NO_SPACE'},\n",
       "  {'vendorItemContentDescriptions': [{'detailType': 'IMAGE',\n",
       "     'imageType': True,\n",
       "     'cssClass': 'subType-IMAGE',\n",
       "     'content': '//thumbnail10.coupangcdn.com/thumbnails/remote/q89/image/retail/images/2673356215779162-061edd10-f650-45c9-bf08-595eb2db8b99.jpg'}],\n",
       "   'cssClass': 'type-IMAGE_NO_SPACE',\n",
       "   'contentType': 'IMAGE_NO_SPACE'},\n",
       "  {'vendorItemContentDescriptions': [{'detailType': 'IMAGE',\n",
       "     'imageType': True,\n",
       "     'cssClass': 'subType-IMAGE',\n",
       "     'content': '//thumbnail9.coupangcdn.com/thumbnails/remote/q89/image/retail/images/590419037638484-b85d6d39-a1e5-47cf-854a-c9ffcf8c9724.jpg'}],\n",
       "   'cssClass': 'type-IMAGE_NO_SPACE',\n",
       "   'contentType': 'IMAGE_NO_SPACE'}]}"
      ]
     },
     "execution_count": 22,
     "metadata": {},
     "output_type": "execute_result"
    }
   ],
   "source": [
    "product_detail"
   ]
  },
  {
   "cell_type": "code",
   "execution_count": 23,
   "metadata": {},
   "outputs": [],
   "source": [
    "#product-id list 만들기\n",
    "product_id_list = []\n",
    "\n",
    "for p in product_list:\n",
    "    product_id_list.append(p.attrs['data-product-id'])"
   ]
  },
  {
   "cell_type": "code",
   "execution_count": 24,
   "metadata": {},
   "outputs": [],
   "source": [
    "series_product_id_list = pd.Series(product_id_list)"
   ]
  },
  {
   "cell_type": "code",
   "execution_count": 25,
   "metadata": {},
   "outputs": [
    {
     "data": {
      "text/plain": [
       "0    2128457892\n",
       "1    2004420920\n",
       "2     234431834\n",
       "3    2298101166\n",
       "4    1760932212\n",
       "dtype: object"
      ]
     },
     "execution_count": 25,
     "metadata": {},
     "output_type": "execute_result"
    }
   ],
   "source": [
    "series_product_id_list.head()"
   ]
  },
  {
   "cell_type": "markdown",
   "metadata": {},
   "source": [
    "### merge"
   ]
  },
  {
   "cell_type": "code",
   "execution_count": 26,
   "metadata": {},
   "outputs": [],
   "source": [
    "dict_data = {'product_id': series_product_id_list ,'product_title':series_title_list}"
   ]
  },
  {
   "cell_type": "code",
   "execution_count": 27,
   "metadata": {},
   "outputs": [],
   "source": [
    "df_product = pd.DataFrame(dict_data)"
   ]
  },
  {
   "cell_type": "code",
   "execution_count": 28,
   "metadata": {},
   "outputs": [
    {
     "data": {
      "text/html": [
       "<div>\n",
       "<style scoped>\n",
       "    .dataframe tbody tr th:only-of-type {\n",
       "        vertical-align: middle;\n",
       "    }\n",
       "\n",
       "    .dataframe tbody tr th {\n",
       "        vertical-align: top;\n",
       "    }\n",
       "\n",
       "    .dataframe thead th {\n",
       "        text-align: right;\n",
       "    }\n",
       "</style>\n",
       "<table border=\"1\" class=\"dataframe\">\n",
       "  <thead>\n",
       "    <tr style=\"text-align: right;\">\n",
       "      <th></th>\n",
       "      <th>product_id</th>\n",
       "      <th>product_title</th>\n",
       "    </tr>\n",
       "  </thead>\n",
       "  <tbody>\n",
       "    <tr>\n",
       "      <th>115</th>\n",
       "      <td>5195865485</td>\n",
       "      <td>2021NEW 네파 손등형 쿨토시 7HCEB29, 손등형_블랙</td>\n",
       "    </tr>\n",
       "    <tr>\n",
       "      <th>116</th>\n",
       "      <td>4704643400</td>\n",
       "      <td>프로스펙스 남성용 스포츠 논쿠션 중목 양말 D타입 6p 세트, 화이트</td>\n",
       "    </tr>\n",
       "    <tr>\n",
       "      <th>117</th>\n",
       "      <td>4854912614</td>\n",
       "      <td>[올포유]여성 프린팅 포인트티셔츠 AWTRI5R62-819_G</td>\n",
       "    </tr>\n",
       "    <tr>\n",
       "      <th>118</th>\n",
       "      <td>1675344733</td>\n",
       "      <td>캠퍼필드 오픈도어 폴딩박스 포켓 세트 + 캠핑 스티커, 티크(상판), 블랙(박스)</td>\n",
       "    </tr>\n",
       "    <tr>\n",
       "      <th>119</th>\n",
       "      <td>2119263866</td>\n",
       "      <td>바디플레이 여성용 준앤윈터 스포츠 브라탑</td>\n",
       "    </tr>\n",
       "  </tbody>\n",
       "</table>\n",
       "</div>"
      ],
      "text/plain": [
       "     product_id                                  product_title\n",
       "115  5195865485             2021NEW 네파 손등형 쿨토시 7HCEB29, 손등형_블랙\n",
       "116  4704643400         프로스펙스 남성용 스포츠 논쿠션 중목 양말 D타입 6p 세트, 화이트\n",
       "117  4854912614             [올포유]여성 프린팅 포인트티셔츠 AWTRI5R62-819_G\n",
       "118  1675344733  캠퍼필드 오픈도어 폴딩박스 포켓 세트 + 캠핑 스티커, 티크(상판), 블랙(박스)\n",
       "119  2119263866                         바디플레이 여성용 준앤윈터 스포츠 브라탑"
      ]
     },
     "execution_count": 28,
     "metadata": {},
     "output_type": "execute_result"
    }
   ],
   "source": [
    "df_product.tail()"
   ]
  },
  {
   "cell_type": "code",
   "execution_count": 143,
   "metadata": {},
   "outputs": [],
   "source": [
    "import pickle\n",
    "\n",
    "# 데이터 pickling\n",
    "df_product.to_pickle('df_product.pkl')\n",
    "\n",
    "# to csv\n",
    "df_product.to_csv('df_product.csv')"
   ]
  },
  {
   "cell_type": "markdown",
   "metadata": {},
   "source": [
    "### reviews"
   ]
  },
  {
   "cell_type": "code",
   "execution_count": 29,
   "metadata": {
    "collapsed": true
   },
   "outputs": [
    {
     "ename": "SyntaxError",
     "evalue": "invalid syntax (<ipython-input-29-bb4f0a658ba7>, line 2)",
     "output_type": "error",
     "traceback": [
      "\u001b[0;36m  File \u001b[0;32m\"<ipython-input-29-bb4f0a658ba7>\"\u001b[0;36m, line \u001b[0;32m2\u001b[0m\n\u001b[0;31m    https://www.coupang.com/vp/product/reviews?productId=2128457892&page=1&size=5&sortBy=ORDER_SCORE_ASC\\\u001b[0m\n\u001b[0m          ^\u001b[0m\n\u001b[0;31mSyntaxError\u001b[0m\u001b[0;31m:\u001b[0m invalid syntax\n"
     ]
    }
   ],
   "source": [
    "# page1\n",
    "https://www.coupang.com/vp/product/reviews?productId=2128457892&page=1&size=5&sortBy=ORDER_SCORE_ASC\\\n",
    "    &ratings=&q=&viRoleCode=3&ratingSummary=true\n",
    "    \n",
    "# page2\n",
    "https://www.coupang.com/vp/product/reviews?productId=2128457892&page=2&size=5&sortBy=ORDER_SCORE_ASC\\\n",
    "    &ratings=&q=&viRoleCode=3&ratingSummary=true"
   ]
  },
  {
   "cell_type": "code",
   "execution_count": 30,
   "metadata": {},
   "outputs": [],
   "source": [
    "res = requests.get(\"https://www.coupang.com/vp/product/reviews?productId=2128457892&page=1&size=5&sortBy=ORDER_SCORE_ASC&ratings=&q=&viRoleCode=3&ratingSummary=true\", headers=headers)"
   ]
  },
  {
   "cell_type": "code",
   "execution_count": 32,
   "metadata": {},
   "outputs": [],
   "source": [
    "soup = BeautifulSoup(res.content, 'html.parser')"
   ]
  },
  {
   "cell_type": "code",
   "execution_count": 33,
   "metadata": {},
   "outputs": [],
   "source": [
    "inside = soup.find_all('div', class_='sdp-review__article__list__review js_reviewArticleContentContainer')"
   ]
  },
  {
   "cell_type": "code",
   "execution_count": 34,
   "metadata": {},
   "outputs": [
    {
     "data": {
      "text/plain": [
       "5"
      ]
     },
     "execution_count": 34,
     "metadata": {},
     "output_type": "execute_result"
    }
   ],
   "source": [
    "len(inside)"
   ]
  },
  {
   "cell_type": "code",
   "execution_count": 35,
   "metadata": {
    "scrolled": false
   },
   "outputs": [
    {
     "data": {
      "text/plain": [
       "'와우!!!!!   말해 뭐합니까!\\n워치병 고쳤지요~\\n일요일에도 상품 받을 수 있는 쿠팡!! 주식 사야할까봐요 ㅎㅎㅎㅎ\\n\\n항상 응원하고 기사님들 덕분에 일요일에도 받는거 감사히 생각합니다!\\n저처럼 응원하고 감사해하는 사람이 있다는거 잊지마시고 힘내세요~!\\n\\n저는 워치 디자인 이미 정해져있었어요~\\n좋아하는 색인 로즈골드(아이폰도 골듴ㅋ). 실버가 줄질 편하다고 하는데 저는 줄질에 별로 관심이 없어서 고민ㄴㄴ\\n저는 비싼거 사봤자 필요 없고 \\n넘어짐 기능이 중요했기에 3대신 SE로 구매!\\n일요일 내내 강아지랑 놀아주지도 않고 워치와 놀았답니다!ㅎㅎ(강아지와는 밤에 기인산책으로 풀어줬어용ㅋ)\\n\\n아 근데 단축어 없음으로 뜨는데 이건 검색해 보니 기기 결함은 아니라고 하더라고요ㅜㅠ \\n그래서 교환신청하려다 안했습니다.\\n(인터넷에 떠도는 방법 다 했는데 안돼요ㅠㅜ)\\n\\n쨋든, 나머지는 저한테 훌륭합니다.\\n시계역할, 팟캐듣기(소리 조절-버튼이 있음 더 좋을거 같은데 그건아니예요ㅜㅜ.), 알람, 시리, 날씨, 계산기, 걷기 운동, 미리알림(어플도 다운받아봤는데 기본어플이 더 좋아서 이것만사용),노래검색.\\n등 이렇게 열심히 쓰고 있어요~ 이정도면 나름 잘 사용하고 있는거 같아요~\\n핸드폰 자주 안봐도 되서 좋고 손목도 부담없어요. 가벼워요.\\n시계자주 보는 편이라 봄부터는 여름에는 꼭 시계차고 다니거든요. 겨울에는 손시렵고 옷때문에 불편해서 안찼는데 \\n이제 겨울에도 찰 이유가 생겼네요!ㅎㅎ\\n\\n아 그리고 스트랩! 사실 이런 스트랩 디자인 너무 이상하다 생각했거든요.\\n근데 써보니 엄청 좋네요~ㅎㅎㅎ\\n그래서 기본으로 며칠쓰다 인터넷에서 여러가지 사봤어요. 알리에서 산건 아직 안왔는데 네이버에서 밀레니즈 산건 와서 사용해봤는데 여름에 잘 사용할거같고 사실 밀레니즈보단 스포츠가 훠얼씬 가볍고 편하네요. 예쁜건 밀레니즈.ㅎㅎ 여름엔 밀레니즈 겨울엔 스포츠 사용하면 되겠어요. 옷에 가려지니. 그리고 스포츠 여름에 땀찬다더군요.\\n\\n줄질은 많이 안하려고 종류별로만 샀습니다.\\n그리고 케이스는 터치 안되요ㅜ 얇은거 샀는데 안되서 그냥 쿠팡에서 액정필름 사서 붙였어요.\\n\\n좀 더 알차게 사용하고 싶어 유튭, 네이버 검색많이하고 사용하고 있어요.\\n아이폰, 맥북 사용하면 더더 좋은거 같아요. \\n역시 애플  생태계란...! \\n앞으로 아이폰도 맥북처럼 워치로 잠금해제 된다니 기대됩니다. \\n지금까지 마스크 벗어야해서 너무 너무 너무 불편했거든요ㅜㅠ(지문이랑 페이스아이디랑 같이있는 폰들 엄청 부러워함...ㅜㅠ)\\n\\n워치 있으니 생활이 한단계 더 정리되는 느낌?? 이에요. 뭐라해야할지 모르겠지만.  암튼 그래요ㅋㅋ\\n추천 추천합니다. \\n그러나 그냥 시계로 사용하실 분은 비추예요. 시계가 가끔 바로 안나올때가 있어요. \\n6는 항상 화면 켜있다는데 항상켜있으면 신경쓰여서 별로고. \\n시계하나에 6을 사긴 너무 비싸고.(나머지 기능은 한글인데도 뭔소린지 모르겠음.)\\n\\n이왕사실거면 검색해보시고 알차게 사용하세요~!'"
      ]
     },
     "execution_count": 35,
     "metadata": {},
     "output_type": "execute_result"
    }
   ],
   "source": [
    "inside[0].text.strip()"
   ]
  },
  {
   "cell_type": "code",
   "execution_count": 36,
   "metadata": {
    "collapsed": true
   },
   "outputs": [
    {
     "ename": "NameError",
     "evalue": "name 'count' is not defined",
     "output_type": "error",
     "traceback": [
      "\u001b[0;31m---------------------------------------------------------------------------\u001b[0m",
      "\u001b[0;31mNameError\u001b[0m                                 Traceback (most recent call last)",
      "\u001b[0;32m<ipython-input-36-e0d0727034f4>\u001b[0m in \u001b[0;36m<module>\u001b[0;34m\u001b[0m\n\u001b[0;32m----> 1\u001b[0;31m \u001b[0mdict_reviews\u001b[0m \u001b[0;34m=\u001b[0m \u001b[0;34m{\u001b[0m\u001b[0;34m\"product_id\"\u001b[0m \u001b[0;34m:\u001b[0m \u001b[0;34m[\u001b[0m\u001b[0;34m]\u001b[0m \u001b[0;34m,\u001b[0m \u001b[0;34m\"review\"\u001b[0m\u001b[0;34m+\u001b[0m\u001b[0mstr\u001b[0m\u001b[0;34m(\u001b[0m\u001b[0mcount\u001b[0m\u001b[0;34m)\u001b[0m \u001b[0;34m:\u001b[0m \u001b[0;34m[\u001b[0m\u001b[0;34m]\u001b[0m\u001b[0;34m}\u001b[0m\u001b[0;34m\u001b[0m\u001b[0;34m\u001b[0m\u001b[0m\n\u001b[0m",
      "\u001b[0;31mNameError\u001b[0m: name 'count' is not defined"
     ]
    }
   ],
   "source": [
    "dict_reviews = {\"product_id\" : [] , \"review\"+str(count) : []}"
   ]
  },
  {
   "cell_type": "code",
   "execution_count": 43,
   "metadata": {},
   "outputs": [
    {
     "name": "stdout",
     "output_type": "stream",
     "text": [
      "2128457892\n",
      "2004420920\n",
      "234431834\n",
      "2298101166\n",
      "1760932212\n"
     ]
    }
   ],
   "source": [
    "for h in product_id_list[:5]:\n",
    "    print(h)"
   ]
  },
  {
   "cell_type": "code",
   "execution_count": 136,
   "metadata": {},
   "outputs": [],
   "source": [
    "from tqdm import tqdm"
   ]
  },
  {
   "cell_type": "code",
   "execution_count": 137,
   "metadata": {},
   "outputs": [],
   "source": [
    "dict_reviews = {\"product_id\" : []}"
   ]
  },
  {
   "cell_type": "code",
   "execution_count": 138,
   "metadata": {},
   "outputs": [
    {
     "name": "stderr",
     "output_type": "stream",
     "text": [
      "\r",
      "  0%|          | 0/1 [00:00<?, ?it/s]"
     ]
    },
    {
     "name": "stdout",
     "output_type": "stream",
     "text": [
      "2128457892\n"
     ]
    },
    {
     "name": "stderr",
     "output_type": "stream",
     "text": [
      "100%|██████████| 1/1 [00:11<00:00, 11.03s/it]"
     ]
    },
    {
     "name": "stdout",
     "output_type": "stream",
     "text": [
      "100\n",
      "complete :  1\n"
     ]
    },
    {
     "name": "stderr",
     "output_type": "stream",
     "text": [
      "\n"
     ]
    }
   ],
   "source": [
    "try_count = 0\n",
    "\n",
    "for h in tqdm(product_id_list[:1]):\n",
    "    cnt = 0\n",
    "    try : \n",
    "        dict_reviews['product_id'].append(h)\n",
    "    except:\n",
    "        pass\n",
    "    print(h)\n",
    "    for i in range(1, 21):\n",
    "        try : \n",
    "            res = requests.get(\"https://www.coupang.com/vp/product/reviews?productId={}&page={}&size=5&sortBy=ORDER_SCORE_ASC&ratings=&q=&viRoleCode=3&ratingSummary=true\".format(h, i), headers=headers)\n",
    "            soup = BeautifulSoup(res.content, 'html.parser')\n",
    "            inside = soup.find_all('div', class_='sdp-review__article__list__review js_reviewArticleContentContainer')\n",
    "        except:\n",
    "            pass\n",
    "#         print(i)\n",
    "        for j in range(5):\n",
    "            try : \n",
    "                dict_reviews['review'+str(cnt)] = inside[j].text.strip()\n",
    "            except:\n",
    "                pass\n",
    "            cnt += 1\n",
    "    print(cnt)\n",
    "    try_count += 1\n",
    "    print(\"complete : \", try_count)"
   ]
  },
  {
   "cell_type": "code",
   "execution_count": 139,
   "metadata": {},
   "outputs": [],
   "source": [
    "df_reviews = pd.DataFrame(dict_reviews)"
   ]
  },
  {
   "cell_type": "code",
   "execution_count": 140,
   "metadata": {},
   "outputs": [
    {
     "data": {
      "text/html": [
       "<div>\n",
       "<style scoped>\n",
       "    .dataframe tbody tr th:only-of-type {\n",
       "        vertical-align: middle;\n",
       "    }\n",
       "\n",
       "    .dataframe tbody tr th {\n",
       "        vertical-align: top;\n",
       "    }\n",
       "\n",
       "    .dataframe thead th {\n",
       "        text-align: right;\n",
       "    }\n",
       "</style>\n",
       "<table border=\"1\" class=\"dataframe\">\n",
       "  <thead>\n",
       "    <tr style=\"text-align: right;\">\n",
       "      <th></th>\n",
       "      <th>product_id</th>\n",
       "      <th>review0</th>\n",
       "      <th>review1</th>\n",
       "      <th>review2</th>\n",
       "      <th>review3</th>\n",
       "      <th>review4</th>\n",
       "      <th>review5</th>\n",
       "      <th>review6</th>\n",
       "      <th>review7</th>\n",
       "      <th>review8</th>\n",
       "      <th>...</th>\n",
       "      <th>review90</th>\n",
       "      <th>review91</th>\n",
       "      <th>review92</th>\n",
       "      <th>review93</th>\n",
       "      <th>review94</th>\n",
       "      <th>review95</th>\n",
       "      <th>review96</th>\n",
       "      <th>review97</th>\n",
       "      <th>review98</th>\n",
       "      <th>review99</th>\n",
       "    </tr>\n",
       "  </thead>\n",
       "  <tbody>\n",
       "    <tr>\n",
       "      <th>0</th>\n",
       "      <td>2128457892</td>\n",
       "      <td>와우!!!!!   말해 뭐합니까!\\n워치병 고쳤지요~\\n일요일에도 상품 받을 수 있...</td>\n",
       "      <td>아이패드 에어팟 둘다 쿠팡에서 사서 이번에도 망설임 없이 애플워치도 쿠팡에서 주문 ...</td>\n",
       "      <td>여자 44mm 괜찮아요! (포장만 불만 ㅠ)\\n\\n전자기기 쿠팡에서 사는게 처음이라...</td>\n",
       "      <td>총평\\n\\n\\n새해가 되면서 운동하겠다 다짐하에 고민하다가 구매했어요 !워치 6랑 ...</td>\n",
       "      <td>일단 뽑기는 성공한것같아요\\n일주일정도 사용했는데 고장없이 잘쓰고 있어요.\\n\\n저...</td>\n",
       "      <td>저와같은 애플워치병에 걸리신 분들에게 도움을 드리고자 리뷰를 작성합니다!\\n\\n-구...</td>\n",
       "      <td>애플워치를 사기 전에 모두들 제가 그랬던 것 처럼, \\n정말 많은 고민을 하실 거라...</td>\n",
       "      <td>진작에 살 걸 .... 너무 편하네요\\n\\n주위에서 하나둘씩 구매하는거 보고 살까말...</td>\n",
       "      <td>아들이 애플워치 신상 나왔다고 사고 싶어하길래 공홈봤더니 꽤 오래걸리더라구요. \\n...</td>\n",
       "      <td>...</td>\n",
       "      <td>운동량을 좀 더 늘리고 싶어서 애플워치를 구매했습니다! 진짜 언제 재입고 알람 확인...</td>\n",
       "      <td>애워 존버는 성공했습ㄴ다... 공홈에서 나이키 버전 시켜놓고 한달이나 기더려야해서 ...</td>\n",
       "      <td>애플워치 자체가 꼭 필수적인 제품은 아닙니다.\\n\\n다만 있을 때의 활용도가 매우 ...</td>\n",
       "      <td>손목둘레 16정도인 여자인데 화면이 큼직한게 좋아서 44mm를 사려고 매장에 갔는데...</td>\n",
       "      <td>저는 솔직히 워치가 악세사리를 뛰어넘어서 간지템이라고 생각을 합니다. 그래서 저도 ...</td>\n",
       "      <td>ㅠㅠ 고민없이 구매해도 되었을 상품이예요 \\n착용 나흘째고 하루하루 친해지고 있는 ...</td>\n",
       "      <td>애플워치를 사용해보고 싶어서 구매했어요.\\n애플워치 종류가 총 3가지 있는데 3는 ...</td>\n",
       "      <td>가장 큰 장점은.. 애플워치 병이 나았다는 거에요.. 1년을 참았는데 사야 낫습니다...</td>\n",
       "      <td>역시 쿠팡! 완전 칼배송이었습니다\\n평생을 갤럭시만 쓰다가 최근에 아이폰으로 바꾼 ...</td>\n",
       "      <td>잘삿지 싶어요 ㅋ꙼̈ㅋ̆̎ㅋ̊̈ㅋ̌̈ㅋ̄̈ 고민에 고민에 ㅠㅠ 끝없는\\n고민에 결국...</td>\n",
       "    </tr>\n",
       "  </tbody>\n",
       "</table>\n",
       "<p>1 rows × 101 columns</p>\n",
       "</div>"
      ],
      "text/plain": [
       "   product_id                                            review0  \\\n",
       "0  2128457892  와우!!!!!   말해 뭐합니까!\\n워치병 고쳤지요~\\n일요일에도 상품 받을 수 있...   \n",
       "\n",
       "                                             review1  \\\n",
       "0  아이패드 에어팟 둘다 쿠팡에서 사서 이번에도 망설임 없이 애플워치도 쿠팡에서 주문 ...   \n",
       "\n",
       "                                             review2  \\\n",
       "0  여자 44mm 괜찮아요! (포장만 불만 ㅠ)\\n\\n전자기기 쿠팡에서 사는게 처음이라...   \n",
       "\n",
       "                                             review3  \\\n",
       "0  총평\\n\\n\\n새해가 되면서 운동하겠다 다짐하에 고민하다가 구매했어요 !워치 6랑 ...   \n",
       "\n",
       "                                             review4  \\\n",
       "0  일단 뽑기는 성공한것같아요\\n일주일정도 사용했는데 고장없이 잘쓰고 있어요.\\n\\n저...   \n",
       "\n",
       "                                             review5  \\\n",
       "0  저와같은 애플워치병에 걸리신 분들에게 도움을 드리고자 리뷰를 작성합니다!\\n\\n-구...   \n",
       "\n",
       "                                             review6  \\\n",
       "0  애플워치를 사기 전에 모두들 제가 그랬던 것 처럼, \\n정말 많은 고민을 하실 거라...   \n",
       "\n",
       "                                             review7  \\\n",
       "0  진작에 살 걸 .... 너무 편하네요\\n\\n주위에서 하나둘씩 구매하는거 보고 살까말...   \n",
       "\n",
       "                                             review8  ...  \\\n",
       "0  아들이 애플워치 신상 나왔다고 사고 싶어하길래 공홈봤더니 꽤 오래걸리더라구요. \\n...  ...   \n",
       "\n",
       "                                            review90  \\\n",
       "0  운동량을 좀 더 늘리고 싶어서 애플워치를 구매했습니다! 진짜 언제 재입고 알람 확인...   \n",
       "\n",
       "                                            review91  \\\n",
       "0  애워 존버는 성공했습ㄴ다... 공홈에서 나이키 버전 시켜놓고 한달이나 기더려야해서 ...   \n",
       "\n",
       "                                            review92  \\\n",
       "0  애플워치 자체가 꼭 필수적인 제품은 아닙니다.\\n\\n다만 있을 때의 활용도가 매우 ...   \n",
       "\n",
       "                                            review93  \\\n",
       "0  손목둘레 16정도인 여자인데 화면이 큼직한게 좋아서 44mm를 사려고 매장에 갔는데...   \n",
       "\n",
       "                                            review94  \\\n",
       "0  저는 솔직히 워치가 악세사리를 뛰어넘어서 간지템이라고 생각을 합니다. 그래서 저도 ...   \n",
       "\n",
       "                                            review95  \\\n",
       "0  ㅠㅠ 고민없이 구매해도 되었을 상품이예요 \\n착용 나흘째고 하루하루 친해지고 있는 ...   \n",
       "\n",
       "                                            review96  \\\n",
       "0  애플워치를 사용해보고 싶어서 구매했어요.\\n애플워치 종류가 총 3가지 있는데 3는 ...   \n",
       "\n",
       "                                            review97  \\\n",
       "0  가장 큰 장점은.. 애플워치 병이 나았다는 거에요.. 1년을 참았는데 사야 낫습니다...   \n",
       "\n",
       "                                            review98  \\\n",
       "0  역시 쿠팡! 완전 칼배송이었습니다\\n평생을 갤럭시만 쓰다가 최근에 아이폰으로 바꾼 ...   \n",
       "\n",
       "                                            review99  \n",
       "0  잘삿지 싶어요 ㅋ꙼̈ㅋ̆̎ㅋ̊̈ㅋ̌̈ㅋ̄̈ 고민에 고민에 ㅠㅠ 끝없는\\n고민에 결국...  \n",
       "\n",
       "[1 rows x 101 columns]"
      ]
     },
     "execution_count": 140,
     "metadata": {},
     "output_type": "execute_result"
    }
   ],
   "source": [
    "df_reviews.tail()"
   ]
  },
  {
   "cell_type": "code",
   "execution_count": 141,
   "metadata": {},
   "outputs": [
    {
     "name": "stderr",
     "output_type": "stream",
     "text": [
      "\r",
      "  0%|          | 0/119 [00:00<?, ?it/s]"
     ]
    },
    {
     "name": "stdout",
     "output_type": "stream",
     "text": [
      "2004420920\n"
     ]
    },
    {
     "name": "stderr",
     "output_type": "stream",
     "text": [
      "\r",
      "  1%|          | 1/119 [00:11<22:53, 11.64s/it]"
     ]
    },
    {
     "name": "stdout",
     "output_type": "stream",
     "text": [
      "complete :  1\n",
      "234431834\n"
     ]
    },
    {
     "name": "stderr",
     "output_type": "stream",
     "text": [
      "\r",
      "  2%|▏         | 2/119 [00:21<21:53, 11.22s/it]"
     ]
    },
    {
     "name": "stdout",
     "output_type": "stream",
     "text": [
      "complete :  2\n",
      "2298101166\n"
     ]
    },
    {
     "name": "stderr",
     "output_type": "stream",
     "text": [
      "\r",
      "  3%|▎         | 3/119 [00:32<21:18, 11.02s/it]"
     ]
    },
    {
     "name": "stdout",
     "output_type": "stream",
     "text": [
      "complete :  3\n",
      "1760932212\n"
     ]
    },
    {
     "name": "stderr",
     "output_type": "stream",
     "text": [
      "\r",
      "  3%|▎         | 4/119 [00:43<21:06, 11.02s/it]"
     ]
    },
    {
     "name": "stdout",
     "output_type": "stream",
     "text": [
      "complete :  4\n",
      "1867517431\n"
     ]
    },
    {
     "name": "stderr",
     "output_type": "stream",
     "text": [
      "\r",
      "  4%|▍         | 5/119 [00:52<20:03, 10.56s/it]"
     ]
    },
    {
     "name": "stdout",
     "output_type": "stream",
     "text": [
      "complete :  5\n",
      "1343373066\n"
     ]
    },
    {
     "name": "stderr",
     "output_type": "stream",
     "text": [
      "\r",
      "  5%|▌         | 6/119 [01:03<19:49, 10.52s/it]"
     ]
    },
    {
     "name": "stdout",
     "output_type": "stream",
     "text": [
      "complete :  6\n",
      "1910733296\n"
     ]
    },
    {
     "name": "stderr",
     "output_type": "stream",
     "text": [
      "\r",
      "  6%|▌         | 7/119 [01:14<19:54, 10.67s/it]"
     ]
    },
    {
     "name": "stdout",
     "output_type": "stream",
     "text": [
      "complete :  7\n",
      "4327842161\n"
     ]
    },
    {
     "name": "stderr",
     "output_type": "stream",
     "text": [
      "\r",
      "  7%|▋         | 8/119 [01:23<18:45, 10.14s/it]"
     ]
    },
    {
     "name": "stdout",
     "output_type": "stream",
     "text": [
      "complete :  8\n",
      "251289723\n"
     ]
    },
    {
     "name": "stderr",
     "output_type": "stream",
     "text": [
      "\r",
      "  8%|▊         | 9/119 [01:33<18:40, 10.19s/it]"
     ]
    },
    {
     "name": "stdout",
     "output_type": "stream",
     "text": [
      "complete :  9\n",
      "4830734869\n"
     ]
    },
    {
     "name": "stderr",
     "output_type": "stream",
     "text": [
      "\r",
      "  8%|▊         | 10/119 [01:42<17:51,  9.83s/it]"
     ]
    },
    {
     "name": "stdout",
     "output_type": "stream",
     "text": [
      "complete :  10\n",
      "234431816\n"
     ]
    },
    {
     "name": "stderr",
     "output_type": "stream",
     "text": [
      "\r",
      "  9%|▉         | 11/119 [01:54<18:54, 10.50s/it]"
     ]
    },
    {
     "name": "stdout",
     "output_type": "stream",
     "text": [
      "complete :  11\n",
      "169554834\n"
     ]
    },
    {
     "name": "stderr",
     "output_type": "stream",
     "text": [
      "\r",
      " 10%|█         | 12/119 [02:05<18:47, 10.54s/it]"
     ]
    },
    {
     "name": "stdout",
     "output_type": "stream",
     "text": [
      "complete :  12\n",
      "1546553167\n"
     ]
    },
    {
     "name": "stderr",
     "output_type": "stream",
     "text": [
      "\r",
      " 11%|█         | 13/119 [02:14<17:42, 10.02s/it]"
     ]
    },
    {
     "name": "stdout",
     "output_type": "stream",
     "text": [
      "complete :  13\n",
      "1444714113\n"
     ]
    },
    {
     "name": "stderr",
     "output_type": "stream",
     "text": [
      "\r",
      " 12%|█▏        | 14/119 [02:24<17:48, 10.18s/it]"
     ]
    },
    {
     "name": "stdout",
     "output_type": "stream",
     "text": [
      "complete :  14\n",
      "293172333\n"
     ]
    },
    {
     "name": "stderr",
     "output_type": "stream",
     "text": [
      "\r",
      " 13%|█▎        | 15/119 [02:36<18:32, 10.69s/it]"
     ]
    },
    {
     "name": "stdout",
     "output_type": "stream",
     "text": [
      "complete :  15\n",
      "263146304\n"
     ]
    },
    {
     "name": "stderr",
     "output_type": "stream",
     "text": [
      "\r",
      " 13%|█▎        | 16/119 [02:47<18:30, 10.78s/it]"
     ]
    },
    {
     "name": "stdout",
     "output_type": "stream",
     "text": [
      "complete :  16\n",
      "1825816060\n"
     ]
    },
    {
     "name": "stderr",
     "output_type": "stream",
     "text": [
      "\r",
      " 14%|█▍        | 17/119 [02:58<18:14, 10.73s/it]"
     ]
    },
    {
     "name": "stdout",
     "output_type": "stream",
     "text": [
      "complete :  17\n",
      "1445439468\n"
     ]
    },
    {
     "name": "stderr",
     "output_type": "stream",
     "text": [
      "\r",
      " 15%|█▌        | 18/119 [03:07<17:36, 10.46s/it]"
     ]
    },
    {
     "name": "stdout",
     "output_type": "stream",
     "text": [
      "complete :  18\n",
      "245670231\n"
     ]
    },
    {
     "name": "stderr",
     "output_type": "stream",
     "text": [
      "\r",
      " 16%|█▌        | 19/119 [03:18<17:33, 10.53s/it]"
     ]
    },
    {
     "name": "stdout",
     "output_type": "stream",
     "text": [
      "complete :  19\n",
      "4702806339\n"
     ]
    },
    {
     "name": "stderr",
     "output_type": "stream",
     "text": [
      "\r",
      " 17%|█▋        | 20/119 [03:28<16:47, 10.18s/it]"
     ]
    },
    {
     "name": "stdout",
     "output_type": "stream",
     "text": [
      "complete :  20\n",
      "4529588116\n"
     ]
    },
    {
     "name": "stderr",
     "output_type": "stream",
     "text": [
      "\r",
      " 18%|█▊        | 21/119 [03:37<16:15,  9.95s/it]"
     ]
    },
    {
     "name": "stdout",
     "output_type": "stream",
     "text": [
      "complete :  21\n",
      "113216413\n"
     ]
    },
    {
     "name": "stderr",
     "output_type": "stream",
     "text": [
      "\r",
      " 18%|█▊        | 22/119 [03:54<19:21, 11.98s/it]"
     ]
    },
    {
     "name": "stdout",
     "output_type": "stream",
     "text": [
      "complete :  22\n",
      "1514391272\n"
     ]
    },
    {
     "name": "stderr",
     "output_type": "stream",
     "text": [
      "\r",
      " 19%|█▉        | 23/119 [04:03<17:57, 11.22s/it]"
     ]
    },
    {
     "name": "stdout",
     "output_type": "stream",
     "text": [
      "complete :  23\n",
      "1421838263\n"
     ]
    },
    {
     "name": "stderr",
     "output_type": "stream",
     "text": [
      "\r",
      " 20%|██        | 24/119 [04:13<17:15, 10.90s/it]"
     ]
    },
    {
     "name": "stdout",
     "output_type": "stream",
     "text": [
      "complete :  24\n",
      "338522765\n"
     ]
    },
    {
     "name": "stderr",
     "output_type": "stream",
     "text": [
      "\r",
      " 21%|██        | 25/119 [04:25<17:20, 11.06s/it]"
     ]
    },
    {
     "name": "stdout",
     "output_type": "stream",
     "text": [
      "complete :  25\n",
      "2273382744\n"
     ]
    },
    {
     "name": "stderr",
     "output_type": "stream",
     "text": [
      "\r",
      " 22%|██▏       | 26/119 [04:35<16:39, 10.74s/it]"
     ]
    },
    {
     "name": "stdout",
     "output_type": "stream",
     "text": [
      "complete :  26\n",
      "1633628457\n"
     ]
    },
    {
     "name": "stderr",
     "output_type": "stream",
     "text": [
      "\r",
      " 23%|██▎       | 27/119 [04:44<16:01, 10.45s/it]"
     ]
    },
    {
     "name": "stdout",
     "output_type": "stream",
     "text": [
      "complete :  27\n",
      "2050645873\n"
     ]
    },
    {
     "name": "stderr",
     "output_type": "stream",
     "text": [
      "\r",
      " 24%|██▎       | 28/119 [04:53<15:12, 10.03s/it]"
     ]
    },
    {
     "name": "stdout",
     "output_type": "stream",
     "text": [
      "complete :  28\n",
      "5160193868\n"
     ]
    },
    {
     "name": "stderr",
     "output_type": "stream",
     "text": [
      "\r",
      " 24%|██▍       | 29/119 [05:01<13:44,  9.16s/it]"
     ]
    },
    {
     "name": "stdout",
     "output_type": "stream",
     "text": [
      "complete :  29\n",
      "293172436\n"
     ]
    },
    {
     "name": "stderr",
     "output_type": "stream",
     "text": [
      "\r",
      " 25%|██▌       | 30/119 [05:10<13:32,  9.13s/it]"
     ]
    },
    {
     "name": "stdout",
     "output_type": "stream",
     "text": [
      "complete :  30\n",
      "172134037\n"
     ]
    },
    {
     "name": "stderr",
     "output_type": "stream",
     "text": [
      "\r",
      " 26%|██▌       | 31/119 [05:21<14:11,  9.67s/it]"
     ]
    },
    {
     "name": "stdout",
     "output_type": "stream",
     "text": [
      "complete :  31\n",
      "1395654124\n"
     ]
    },
    {
     "name": "stderr",
     "output_type": "stream",
     "text": [
      "\r",
      " 27%|██▋       | 32/119 [05:29<13:30,  9.32s/it]"
     ]
    },
    {
     "name": "stdout",
     "output_type": "stream",
     "text": [
      "complete :  32\n",
      "2280522456\n"
     ]
    },
    {
     "name": "stderr",
     "output_type": "stream",
     "text": [
      "\r",
      " 28%|██▊       | 33/119 [05:39<13:23,  9.34s/it]"
     ]
    },
    {
     "name": "stdout",
     "output_type": "stream",
     "text": [
      "complete :  33\n",
      "201952451\n"
     ]
    },
    {
     "name": "stderr",
     "output_type": "stream",
     "text": [
      "\r",
      " 29%|██▊       | 34/119 [05:49<13:47,  9.74s/it]"
     ]
    },
    {
     "name": "stdout",
     "output_type": "stream",
     "text": [
      "complete :  34\n",
      "172134008\n"
     ]
    },
    {
     "name": "stderr",
     "output_type": "stream",
     "text": [
      "\r",
      " 29%|██▉       | 35/119 [06:00<13:54,  9.94s/it]"
     ]
    },
    {
     "name": "stdout",
     "output_type": "stream",
     "text": [
      "complete :  35\n",
      "2321803378\n"
     ]
    },
    {
     "name": "stderr",
     "output_type": "stream",
     "text": [
      "\r",
      " 30%|███       | 36/119 [06:09<13:40,  9.89s/it]"
     ]
    },
    {
     "name": "stdout",
     "output_type": "stream",
     "text": [
      "complete :  36\n",
      "5150400206\n"
     ]
    },
    {
     "name": "stderr",
     "output_type": "stream",
     "text": [
      "\r",
      " 31%|███       | 37/119 [06:16<12:19,  9.02s/it]"
     ]
    },
    {
     "name": "stdout",
     "output_type": "stream",
     "text": [
      "complete :  37\n",
      "172134026\n"
     ]
    },
    {
     "name": "stderr",
     "output_type": "stream",
     "text": [
      "\r",
      " 32%|███▏      | 38/119 [06:27<12:46,  9.46s/it]"
     ]
    },
    {
     "name": "stdout",
     "output_type": "stream",
     "text": [
      "complete :  38\n",
      "293472681\n"
     ]
    },
    {
     "name": "stderr",
     "output_type": "stream",
     "text": [
      "\r",
      " 33%|███▎      | 39/119 [06:38<13:10,  9.88s/it]"
     ]
    },
    {
     "name": "stdout",
     "output_type": "stream",
     "text": [
      "complete :  39\n",
      "1164408651\n"
     ]
    },
    {
     "name": "stderr",
     "output_type": "stream",
     "text": [
      "\r",
      " 34%|███▎      | 40/119 [06:50<13:54, 10.57s/it]"
     ]
    },
    {
     "name": "stdout",
     "output_type": "stream",
     "text": [
      "complete :  40\n",
      "1395650683\n"
     ]
    },
    {
     "name": "stderr",
     "output_type": "stream",
     "text": [
      "\r",
      " 34%|███▍      | 41/119 [07:00<13:28, 10.37s/it]"
     ]
    },
    {
     "name": "stdout",
     "output_type": "stream",
     "text": [
      "complete :  41\n",
      "1435729511\n"
     ]
    },
    {
     "name": "stderr",
     "output_type": "stream",
     "text": [
      "\r",
      " 35%|███▌      | 42/119 [07:10<13:10, 10.27s/it]"
     ]
    },
    {
     "name": "stdout",
     "output_type": "stream",
     "text": [
      "complete :  42\n",
      "1079386660\n"
     ]
    },
    {
     "name": "stderr",
     "output_type": "stream",
     "text": [
      "\r",
      " 36%|███▌      | 43/119 [07:21<13:18, 10.51s/it]"
     ]
    },
    {
     "name": "stdout",
     "output_type": "stream",
     "text": [
      "complete :  43\n",
      "4841306229\n"
     ]
    },
    {
     "name": "stderr",
     "output_type": "stream",
     "text": [
      "\r",
      " 37%|███▋      | 44/119 [07:32<13:29, 10.80s/it]"
     ]
    },
    {
     "name": "stdout",
     "output_type": "stream",
     "text": [
      "complete :  44\n",
      "1910733270\n"
     ]
    },
    {
     "name": "stderr",
     "output_type": "stream",
     "text": [
      "\r",
      " 38%|███▊      | 45/119 [07:44<13:36, 11.04s/it]"
     ]
    },
    {
     "name": "stdout",
     "output_type": "stream",
     "text": [
      "complete :  45\n",
      "306146810\n"
     ]
    },
    {
     "name": "stderr",
     "output_type": "stream",
     "text": [
      "\r",
      " 39%|███▊      | 46/119 [07:56<13:47, 11.34s/it]"
     ]
    },
    {
     "name": "stdout",
     "output_type": "stream",
     "text": [
      "complete :  46\n",
      "2330911485\n"
     ]
    },
    {
     "name": "stderr",
     "output_type": "stream",
     "text": [
      "\r",
      " 39%|███▉      | 47/119 [08:05<12:49, 10.69s/it]"
     ]
    },
    {
     "name": "stdout",
     "output_type": "stream",
     "text": [
      "complete :  47\n",
      "1535835666\n"
     ]
    },
    {
     "name": "stderr",
     "output_type": "stream",
     "text": [
      "\r",
      " 40%|████      | 48/119 [08:15<12:27, 10.53s/it]"
     ]
    },
    {
     "name": "stdout",
     "output_type": "stream",
     "text": [
      "complete :  48\n",
      "2160868446\n"
     ]
    },
    {
     "name": "stderr",
     "output_type": "stream",
     "text": [
      "\r",
      " 41%|████      | 49/119 [08:28<12:53, 11.05s/it]"
     ]
    },
    {
     "name": "stdout",
     "output_type": "stream",
     "text": [
      "complete :  49\n",
      "168404703\n"
     ]
    },
    {
     "name": "stderr",
     "output_type": "stream",
     "text": [
      "\r",
      " 42%|████▏     | 50/119 [08:38<12:25, 10.80s/it]"
     ]
    },
    {
     "name": "stdout",
     "output_type": "stream",
     "text": [
      "complete :  50\n",
      "161844125\n"
     ]
    },
    {
     "name": "stderr",
     "output_type": "stream",
     "text": [
      "\r",
      " 43%|████▎     | 51/119 [08:49<12:28, 11.01s/it]"
     ]
    },
    {
     "name": "stdout",
     "output_type": "stream",
     "text": [
      "complete :  51\n",
      "4775974471\n"
     ]
    },
    {
     "name": "stderr",
     "output_type": "stream",
     "text": [
      "\r",
      " 44%|████▎     | 52/119 [08:59<11:47, 10.56s/it]"
     ]
    },
    {
     "name": "stdout",
     "output_type": "stream",
     "text": [
      "complete :  52\n",
      "4830721563\n"
     ]
    },
    {
     "name": "stderr",
     "output_type": "stream",
     "text": [
      "\r",
      " 45%|████▍     | 53/119 [09:10<11:45, 10.69s/it]"
     ]
    },
    {
     "name": "stdout",
     "output_type": "stream",
     "text": [
      "complete :  53\n",
      "172134024\n"
     ]
    },
    {
     "name": "stderr",
     "output_type": "stream",
     "text": [
      "\r",
      " 45%|████▌     | 54/119 [09:24<12:45, 11.78s/it]"
     ]
    },
    {
     "name": "stdout",
     "output_type": "stream",
     "text": [
      "complete :  54\n",
      "1826180649\n"
     ]
    },
    {
     "name": "stderr",
     "output_type": "stream",
     "text": [
      "\r",
      " 46%|████▌     | 55/119 [09:38<13:05, 12.28s/it]"
     ]
    },
    {
     "name": "stdout",
     "output_type": "stream",
     "text": [
      "complete :  55\n",
      "1566159219\n"
     ]
    },
    {
     "name": "stderr",
     "output_type": "stream",
     "text": [
      "\r",
      " 47%|████▋     | 56/119 [09:49<12:41, 12.09s/it]"
     ]
    },
    {
     "name": "stdout",
     "output_type": "stream",
     "text": [
      "complete :  56\n",
      "1952060301\n"
     ]
    },
    {
     "name": "stderr",
     "output_type": "stream",
     "text": [
      "\r",
      " 48%|████▊     | 57/119 [10:01<12:26, 12.03s/it]"
     ]
    },
    {
     "name": "stdout",
     "output_type": "stream",
     "text": [
      "complete :  57\n",
      "1159464501\n"
     ]
    },
    {
     "name": "stderr",
     "output_type": "stream",
     "text": [
      "\r",
      " 49%|████▊     | 58/119 [10:12<11:47, 11.60s/it]"
     ]
    },
    {
     "name": "stdout",
     "output_type": "stream",
     "text": [
      "complete :  58\n",
      "1343370164\n"
     ]
    },
    {
     "name": "stderr",
     "output_type": "stream",
     "text": [
      "\r",
      " 50%|████▉     | 59/119 [10:23<11:26, 11.44s/it]"
     ]
    },
    {
     "name": "stdout",
     "output_type": "stream",
     "text": [
      "complete :  59\n",
      "1624155002\n"
     ]
    },
    {
     "name": "stderr",
     "output_type": "stream",
     "text": [
      "\r",
      " 50%|█████     | 60/119 [10:33<10:59, 11.17s/it]"
     ]
    },
    {
     "name": "stdout",
     "output_type": "stream",
     "text": [
      "complete :  60\n",
      "4841413393\n"
     ]
    },
    {
     "name": "stderr",
     "output_type": "stream",
     "text": [
      "\r",
      " 51%|█████▏    | 61/119 [10:41<09:44, 10.08s/it]"
     ]
    },
    {
     "name": "stdout",
     "output_type": "stream",
     "text": [
      "complete :  61\n",
      "207463706\n"
     ]
    },
    {
     "name": "stderr",
     "output_type": "stream",
     "text": [
      "\r",
      " 52%|█████▏    | 62/119 [10:52<09:45, 10.28s/it]"
     ]
    },
    {
     "name": "stdout",
     "output_type": "stream",
     "text": [
      "complete :  62\n",
      "1082864655\n"
     ]
    },
    {
     "name": "stderr",
     "output_type": "stream",
     "text": [
      "\r",
      " 53%|█████▎    | 63/119 [11:02<09:29, 10.18s/it]"
     ]
    },
    {
     "name": "stdout",
     "output_type": "stream",
     "text": [
      "complete :  63\n",
      "4536849320\n"
     ]
    },
    {
     "name": "stderr",
     "output_type": "stream",
     "text": [
      "\r",
      " 54%|█████▍    | 64/119 [11:08<08:20,  9.10s/it]"
     ]
    },
    {
     "name": "stdout",
     "output_type": "stream",
     "text": [
      "complete :  64\n",
      "1238419556\n"
     ]
    },
    {
     "name": "stderr",
     "output_type": "stream",
     "text": [
      "\r",
      " 55%|█████▍    | 65/119 [11:17<08:04,  8.98s/it]"
     ]
    },
    {
     "name": "stdout",
     "output_type": "stream",
     "text": [
      "complete :  65\n",
      "2172796727\n"
     ]
    },
    {
     "name": "stderr",
     "output_type": "stream",
     "text": [
      "\r",
      " 55%|█████▌    | 66/119 [11:27<08:20,  9.43s/it]"
     ]
    },
    {
     "name": "stdout",
     "output_type": "stream",
     "text": [
      "complete :  66\n",
      "1722037315\n"
     ]
    },
    {
     "name": "stderr",
     "output_type": "stream",
     "text": [
      "\r",
      " 56%|█████▋    | 67/119 [11:37<08:10,  9.42s/it]"
     ]
    },
    {
     "name": "stdout",
     "output_type": "stream",
     "text": [
      "complete :  67\n",
      "1540038879\n"
     ]
    },
    {
     "name": "stderr",
     "output_type": "stream",
     "text": [
      "\r",
      " 57%|█████▋    | 68/119 [11:48<08:29,  9.99s/it]"
     ]
    },
    {
     "name": "stdout",
     "output_type": "stream",
     "text": [
      "complete :  68\n",
      "2317706138\n"
     ]
    },
    {
     "name": "stderr",
     "output_type": "stream",
     "text": [
      "\r",
      " 58%|█████▊    | 69/119 [12:03<09:32, 11.45s/it]"
     ]
    },
    {
     "name": "stdout",
     "output_type": "stream",
     "text": [
      "complete :  69\n",
      "232768975\n"
     ]
    },
    {
     "name": "stderr",
     "output_type": "stream",
     "text": [
      "\r",
      " 59%|█████▉    | 70/119 [12:17<10:00, 12.25s/it]"
     ]
    },
    {
     "name": "stdout",
     "output_type": "stream",
     "text": [
      "complete :  70\n",
      "2039282840\n"
     ]
    },
    {
     "name": "stderr",
     "output_type": "stream",
     "text": [
      "\r",
      " 60%|█████▉    | 71/119 [12:27<09:08, 11.42s/it]"
     ]
    },
    {
     "name": "stdout",
     "output_type": "stream",
     "text": [
      "complete :  71\n",
      "246609967\n"
     ]
    },
    {
     "name": "stderr",
     "output_type": "stream",
     "text": [
      "\r",
      " 61%|██████    | 72/119 [12:37<08:49, 11.27s/it]"
     ]
    },
    {
     "name": "stdout",
     "output_type": "stream",
     "text": [
      "complete :  72\n",
      "1952060643\n"
     ]
    },
    {
     "name": "stderr",
     "output_type": "stream",
     "text": [
      "\r",
      " 61%|██████▏   | 73/119 [12:47<08:20, 10.88s/it]"
     ]
    },
    {
     "name": "stdout",
     "output_type": "stream",
     "text": [
      "complete :  73\n",
      "1955306724\n"
     ]
    },
    {
     "name": "stderr",
     "output_type": "stream",
     "text": [
      "\r",
      " 62%|██████▏   | 74/119 [12:56<07:41, 10.26s/it]"
     ]
    },
    {
     "name": "stdout",
     "output_type": "stream",
     "text": [
      "complete :  74\n",
      "4539254836\n"
     ]
    },
    {
     "name": "stderr",
     "output_type": "stream",
     "text": [
      "\r",
      " 63%|██████▎   | 75/119 [13:07<07:40, 10.48s/it]"
     ]
    },
    {
     "name": "stdout",
     "output_type": "stream",
     "text": [
      "complete :  75\n",
      "4698969080\n"
     ]
    },
    {
     "name": "stderr",
     "output_type": "stream",
     "text": [
      "\r",
      " 64%|██████▍   | 76/119 [13:16<07:04,  9.87s/it]"
     ]
    },
    {
     "name": "stdout",
     "output_type": "stream",
     "text": [
      "complete :  76\n",
      "275937854\n"
     ]
    },
    {
     "name": "stderr",
     "output_type": "stream",
     "text": [
      "\r",
      " 65%|██████▍   | 77/119 [13:25<06:43,  9.60s/it]"
     ]
    },
    {
     "name": "stdout",
     "output_type": "stream",
     "text": [
      "complete :  77\n",
      "1633628127\n"
     ]
    },
    {
     "name": "stderr",
     "output_type": "stream",
     "text": [
      "\r",
      " 66%|██████▌   | 78/119 [13:36<06:51, 10.02s/it]"
     ]
    },
    {
     "name": "stdout",
     "output_type": "stream",
     "text": [
      "complete :  78\n",
      "144031151\n"
     ]
    },
    {
     "name": "stderr",
     "output_type": "stream",
     "text": [
      "\r",
      " 66%|██████▋   | 79/119 [13:49<07:25, 11.13s/it]"
     ]
    },
    {
     "name": "stdout",
     "output_type": "stream",
     "text": [
      "complete :  79\n",
      "205054028\n"
     ]
    },
    {
     "name": "stderr",
     "output_type": "stream",
     "text": [
      "\r",
      " 67%|██████▋   | 80/119 [14:00<07:05, 10.91s/it]"
     ]
    },
    {
     "name": "stdout",
     "output_type": "stream",
     "text": [
      "complete :  80\n",
      "1183695921\n"
     ]
    },
    {
     "name": "stderr",
     "output_type": "stream",
     "text": [
      "\r",
      " 68%|██████▊   | 81/119 [14:10<06:50, 10.79s/it]"
     ]
    },
    {
     "name": "stdout",
     "output_type": "stream",
     "text": [
      "complete :  81\n",
      "102581032\n"
     ]
    },
    {
     "name": "stderr",
     "output_type": "stream",
     "text": [
      "\r",
      " 69%|██████▉   | 82/119 [14:21<06:34, 10.66s/it]"
     ]
    },
    {
     "name": "stdout",
     "output_type": "stream",
     "text": [
      "complete :  82\n",
      "1365278951\n"
     ]
    },
    {
     "name": "stderr",
     "output_type": "stream",
     "text": [
      "\r",
      " 70%|██████▉   | 83/119 [14:30<06:06, 10.17s/it]"
     ]
    },
    {
     "name": "stdout",
     "output_type": "stream",
     "text": [
      "complete :  83\n",
      "4655315139\n"
     ]
    },
    {
     "name": "stderr",
     "output_type": "stream",
     "text": [
      "\r",
      " 71%|███████   | 84/119 [14:39<05:48,  9.97s/it]"
     ]
    },
    {
     "name": "stdout",
     "output_type": "stream",
     "text": [
      "complete :  84\n",
      "1584196384\n"
     ]
    },
    {
     "name": "stderr",
     "output_type": "stream",
     "text": [
      "\r",
      " 71%|███████▏  | 85/119 [14:48<05:26,  9.61s/it]"
     ]
    },
    {
     "name": "stdout",
     "output_type": "stream",
     "text": [
      "complete :  85\n",
      "319881424\n"
     ]
    },
    {
     "name": "stderr",
     "output_type": "stream",
     "text": [
      "\r",
      " 72%|███████▏  | 86/119 [14:59<05:35, 10.17s/it]"
     ]
    },
    {
     "name": "stdout",
     "output_type": "stream",
     "text": [
      "complete :  86\n",
      "5184028984\n"
     ]
    },
    {
     "name": "stderr",
     "output_type": "stream",
     "text": [
      "\r",
      " 73%|███████▎  | 87/119 [15:07<05:03,  9.49s/it]"
     ]
    },
    {
     "name": "stdout",
     "output_type": "stream",
     "text": [
      "complete :  87\n",
      "4824150805\n"
     ]
    },
    {
     "name": "stderr",
     "output_type": "stream",
     "text": [
      "\r",
      " 74%|███████▍  | 88/119 [15:13<04:19,  8.36s/it]"
     ]
    },
    {
     "name": "stdout",
     "output_type": "stream",
     "text": [
      "complete :  88\n",
      "1387035780\n"
     ]
    },
    {
     "name": "stderr",
     "output_type": "stream",
     "text": [
      "\r",
      " 75%|███████▍  | 89/119 [15:29<05:23, 10.77s/it]"
     ]
    },
    {
     "name": "stdout",
     "output_type": "stream",
     "text": [
      "complete :  89\n",
      "1345408382\n"
     ]
    },
    {
     "name": "stderr",
     "output_type": "stream",
     "text": [
      "\r",
      " 76%|███████▌  | 90/119 [15:38<04:55, 10.20s/it]"
     ]
    },
    {
     "name": "stdout",
     "output_type": "stream",
     "text": [
      "complete :  90\n",
      "1819294750\n"
     ]
    },
    {
     "name": "stderr",
     "output_type": "stream",
     "text": [
      "\r",
      " 76%|███████▋  | 91/119 [15:48<04:44, 10.17s/it]"
     ]
    },
    {
     "name": "stdout",
     "output_type": "stream",
     "text": [
      "complete :  91\n",
      "267943909\n"
     ]
    },
    {
     "name": "stderr",
     "output_type": "stream",
     "text": [
      "\r",
      " 77%|███████▋  | 92/119 [15:58<04:27,  9.90s/it]"
     ]
    },
    {
     "name": "stdout",
     "output_type": "stream",
     "text": [
      "complete :  92\n",
      "1594693970\n"
     ]
    },
    {
     "name": "stderr",
     "output_type": "stream",
     "text": [
      "\r",
      " 78%|███████▊  | 93/119 [16:05<04:00,  9.25s/it]"
     ]
    },
    {
     "name": "stdout",
     "output_type": "stream",
     "text": [
      "complete :  93\n",
      "5090792970\n"
     ]
    },
    {
     "name": "stderr",
     "output_type": "stream",
     "text": [
      "\r",
      " 79%|███████▉  | 94/119 [16:11<03:25,  8.23s/it]"
     ]
    },
    {
     "name": "stdout",
     "output_type": "stream",
     "text": [
      "complete :  94\n",
      "1332295769\n"
     ]
    },
    {
     "name": "stderr",
     "output_type": "stream",
     "text": [
      "\r",
      " 80%|███████▉  | 95/119 [16:22<03:35,  8.96s/it]"
     ]
    },
    {
     "name": "stdout",
     "output_type": "stream",
     "text": [
      "complete :  95\n",
      "2138974311\n"
     ]
    },
    {
     "name": "stderr",
     "output_type": "stream",
     "text": [
      "\r",
      " 81%|████████  | 96/119 [16:34<03:49,  9.98s/it]"
     ]
    },
    {
     "name": "stdout",
     "output_type": "stream",
     "text": [
      "complete :  96\n",
      "4770900777\n"
     ]
    },
    {
     "name": "stderr",
     "output_type": "stream",
     "text": [
      "\r",
      " 82%|████████▏ | 97/119 [16:40<03:12,  8.76s/it]"
     ]
    },
    {
     "name": "stdout",
     "output_type": "stream",
     "text": [
      "complete :  97\n",
      "194679479\n"
     ]
    },
    {
     "name": "stderr",
     "output_type": "stream",
     "text": [
      "\r",
      " 82%|████████▏ | 98/119 [16:50<03:11,  9.11s/it]"
     ]
    },
    {
     "name": "stdout",
     "output_type": "stream",
     "text": [
      "complete :  98\n",
      "315993880\n"
     ]
    },
    {
     "name": "stderr",
     "output_type": "stream",
     "text": [
      "\r",
      " 83%|████████▎ | 99/119 [17:03<03:23, 10.18s/it]"
     ]
    },
    {
     "name": "stdout",
     "output_type": "stream",
     "text": [
      "complete :  99\n",
      "1164492759\n"
     ]
    },
    {
     "name": "stderr",
     "output_type": "stream",
     "text": [
      "\r",
      " 84%|████████▍ | 100/119 [17:14<03:17, 10.41s/it]"
     ]
    },
    {
     "name": "stdout",
     "output_type": "stream",
     "text": [
      "complete :  100\n",
      "1306899493\n"
     ]
    },
    {
     "name": "stderr",
     "output_type": "stream",
     "text": [
      "\r",
      " 85%|████████▍ | 101/119 [17:26<03:18, 11.02s/it]"
     ]
    },
    {
     "name": "stdout",
     "output_type": "stream",
     "text": [
      "complete :  101\n",
      "102671763\n"
     ]
    },
    {
     "name": "stderr",
     "output_type": "stream",
     "text": [
      "\r",
      " 86%|████████▌ | 102/119 [17:46<03:53, 13.73s/it]"
     ]
    },
    {
     "name": "stdout",
     "output_type": "stream",
     "text": [
      "complete :  102\n",
      "28624680\n"
     ]
    },
    {
     "name": "stderr",
     "output_type": "stream",
     "text": [
      "\r",
      " 87%|████████▋ | 103/119 [17:58<03:32, 13.26s/it]"
     ]
    },
    {
     "name": "stdout",
     "output_type": "stream",
     "text": [
      "complete :  103\n",
      "4667084763\n"
     ]
    },
    {
     "name": "stderr",
     "output_type": "stream",
     "text": [
      "\r",
      " 87%|████████▋ | 104/119 [18:08<03:03, 12.24s/it]"
     ]
    },
    {
     "name": "stdout",
     "output_type": "stream",
     "text": [
      "complete :  104\n",
      "144935891\n"
     ]
    },
    {
     "name": "stderr",
     "output_type": "stream",
     "text": [
      "\r",
      " 88%|████████▊ | 105/119 [18:22<02:57, 12.68s/it]"
     ]
    },
    {
     "name": "stdout",
     "output_type": "stream",
     "text": [
      "complete :  105\n",
      "161853279\n"
     ]
    },
    {
     "name": "stderr",
     "output_type": "stream",
     "text": [
      "\r",
      " 89%|████████▉ | 106/119 [18:32<02:36, 12.02s/it]"
     ]
    },
    {
     "name": "stdout",
     "output_type": "stream",
     "text": [
      "complete :  106\n",
      "2348545656\n"
     ]
    },
    {
     "name": "stderr",
     "output_type": "stream",
     "text": [
      "\r",
      " 90%|████████▉ | 107/119 [18:40<02:06, 10.56s/it]"
     ]
    },
    {
     "name": "stdout",
     "output_type": "stream",
     "text": [
      "complete :  107\n",
      "169554773\n"
     ]
    },
    {
     "name": "stderr",
     "output_type": "stream",
     "text": [
      "\r",
      " 91%|█████████ | 108/119 [18:50<01:56, 10.58s/it]"
     ]
    },
    {
     "name": "stdout",
     "output_type": "stream",
     "text": [
      "complete :  108\n",
      "3630213\n"
     ]
    },
    {
     "name": "stderr",
     "output_type": "stream",
     "text": [
      "\r",
      " 92%|█████████▏| 109/119 [19:01<01:47, 10.71s/it]"
     ]
    },
    {
     "name": "stdout",
     "output_type": "stream",
     "text": [
      "complete :  109\n",
      "2305714988\n"
     ]
    },
    {
     "name": "stderr",
     "output_type": "stream",
     "text": [
      "\r",
      " 92%|█████████▏| 110/119 [19:11<01:32, 10.30s/it]"
     ]
    },
    {
     "name": "stdout",
     "output_type": "stream",
     "text": [
      "complete :  110\n",
      "306146801\n"
     ]
    },
    {
     "name": "stderr",
     "output_type": "stream",
     "text": [
      "\r",
      " 93%|█████████▎| 111/119 [19:21<01:21, 10.22s/it]"
     ]
    },
    {
     "name": "stdout",
     "output_type": "stream",
     "text": [
      "complete :  111\n",
      "135720842\n"
     ]
    },
    {
     "name": "stderr",
     "output_type": "stream",
     "text": [
      "\r",
      " 94%|█████████▍| 112/119 [19:31<01:10, 10.14s/it]"
     ]
    },
    {
     "name": "stdout",
     "output_type": "stream",
     "text": [
      "complete :  112\n",
      "194679439\n"
     ]
    },
    {
     "name": "stderr",
     "output_type": "stream",
     "text": [
      "\r",
      " 95%|█████████▍| 113/119 [19:40<00:59,  9.92s/it]"
     ]
    },
    {
     "name": "stdout",
     "output_type": "stream",
     "text": [
      "complete :  113\n",
      "4564069611\n"
     ]
    },
    {
     "name": "stderr",
     "output_type": "stream",
     "text": [
      "\r",
      " 96%|█████████▌| 114/119 [19:50<00:49,  9.93s/it]"
     ]
    },
    {
     "name": "stdout",
     "output_type": "stream",
     "text": [
      "complete :  114\n",
      "5195865485\n"
     ]
    },
    {
     "name": "stderr",
     "output_type": "stream",
     "text": [
      "\r",
      " 97%|█████████▋| 115/119 [19:55<00:34,  8.54s/it]"
     ]
    },
    {
     "name": "stdout",
     "output_type": "stream",
     "text": [
      "complete :  115\n",
      "4704643400\n"
     ]
    },
    {
     "name": "stderr",
     "output_type": "stream",
     "text": [
      "\r",
      " 97%|█████████▋| 116/119 [20:05<00:26,  8.81s/it]"
     ]
    },
    {
     "name": "stdout",
     "output_type": "stream",
     "text": [
      "complete :  116\n",
      "4854912614\n"
     ]
    },
    {
     "name": "stderr",
     "output_type": "stream",
     "text": [
      "\r",
      " 98%|█████████▊| 117/119 [20:11<00:16,  8.04s/it]"
     ]
    },
    {
     "name": "stdout",
     "output_type": "stream",
     "text": [
      "complete :  117\n",
      "1675344733\n"
     ]
    },
    {
     "name": "stderr",
     "output_type": "stream",
     "text": [
      "\r",
      " 99%|█████████▉| 118/119 [20:20<00:08,  8.31s/it]"
     ]
    },
    {
     "name": "stdout",
     "output_type": "stream",
     "text": [
      "complete :  118\n",
      "2119263866\n"
     ]
    },
    {
     "name": "stderr",
     "output_type": "stream",
     "text": [
      "100%|██████████| 119/119 [20:30<00:00, 10.34s/it]"
     ]
    },
    {
     "name": "stdout",
     "output_type": "stream",
     "text": [
      "complete :  119\n"
     ]
    },
    {
     "name": "stderr",
     "output_type": "stream",
     "text": [
      "\n"
     ]
    }
   ],
   "source": [
    "try_count = 0\n",
    "dict_reviews = {\"product_id\" : []}\n",
    "\n",
    "for h in tqdm(product_id_list[1:]):\n",
    "    cnt = 0\n",
    "    try : \n",
    "        dict_reviews['product_id'] = h\n",
    "    except:\n",
    "        pass\n",
    "    print(h)\n",
    "    for i in range(1, 21):\n",
    "        try : \n",
    "            res = requests.get(\"https://www.coupang.com/vp/product/reviews?productId={}&page={}&size=5&sortBy=ORDER_SCORE_ASC&ratings=&q=&viRoleCode=3&ratingSummary=true\".format(h, i), headers=headers)\n",
    "            soup = BeautifulSoup(res.content, 'html.parser')\n",
    "            inside = soup.find_all('div', class_='sdp-review__article__list__review js_reviewArticleContentContainer')\n",
    "        except:\n",
    "            pass\n",
    "#         print(i)\n",
    "        for j in range(5):\n",
    "            try : \n",
    "                dict_reviews['review'+str(cnt)] = inside[j].text.strip()\n",
    "            except:\n",
    "                pass\n",
    "            cnt += 1\n",
    "    df_reviews = df_reviews.append(dict_reviews, ignore_index=True)\n",
    "    try_count += 1\n",
    "    print(\"complete : \", try_count)"
   ]
  },
  {
   "cell_type": "code",
   "execution_count": 142,
   "metadata": {},
   "outputs": [
    {
     "data": {
      "text/html": [
       "<div>\n",
       "<style scoped>\n",
       "    .dataframe tbody tr th:only-of-type {\n",
       "        vertical-align: middle;\n",
       "    }\n",
       "\n",
       "    .dataframe tbody tr th {\n",
       "        vertical-align: top;\n",
       "    }\n",
       "\n",
       "    .dataframe thead th {\n",
       "        text-align: right;\n",
       "    }\n",
       "</style>\n",
       "<table border=\"1\" class=\"dataframe\">\n",
       "  <thead>\n",
       "    <tr style=\"text-align: right;\">\n",
       "      <th></th>\n",
       "      <th>product_id</th>\n",
       "      <th>review0</th>\n",
       "      <th>review1</th>\n",
       "      <th>review2</th>\n",
       "      <th>review3</th>\n",
       "      <th>review4</th>\n",
       "      <th>review5</th>\n",
       "      <th>review6</th>\n",
       "      <th>review7</th>\n",
       "      <th>review8</th>\n",
       "      <th>...</th>\n",
       "      <th>review90</th>\n",
       "      <th>review91</th>\n",
       "      <th>review92</th>\n",
       "      <th>review93</th>\n",
       "      <th>review94</th>\n",
       "      <th>review95</th>\n",
       "      <th>review96</th>\n",
       "      <th>review97</th>\n",
       "      <th>review98</th>\n",
       "      <th>review99</th>\n",
       "    </tr>\n",
       "  </thead>\n",
       "  <tbody>\n",
       "    <tr>\n",
       "      <th>115</th>\n",
       "      <td>5195865485</td>\n",
       "      <td>슬리퍼선물하려고 230구입했는데 크게나왔네요.저는 운동화사이즈 235에요.근데 제가...</td>\n",
       "      <td>발길이 225정도 되고\\n운동화는 평소 230 신어요\\n발 앞부분이 조금 넓은 편이...</td>\n",
       "      <td>운동화230 구두225사이즈 발볼이나 발등높지않은 여성성인 작은발입니다.\\n신발사이...</td>\n",
       "      <td>배송 아주 빨리 왔어요~\\n오후 6시에 구매하였는데 다음날 아침 7시쯤에 \\n확인해...</td>\n",
       "      <td>&lt; 사이즈 고려 시 참고해주세요! &gt;\\n\\n보통 신발 크기는 260이 맞는데 제가 ...</td>\n",
       "      <td>전날밤 주문했고 오늘오후에 받았어요. 학원에서 신을 슬리퍼가 필요하다길래 주문 했거...</td>\n",
       "      <td>뚱발260아이 270잘맞아요\\n사진은 235인 제가신어봤어요ㅋ\\n폭신하고 편하네요\\...</td>\n",
       "      <td>중1  딸  슬리퍼 뭘로 할까 검색 중\\n눈에 들어온  것  가격도 착하고요\\n매장...</td>\n",
       "      <td>발사이즈가 작은편이라서 슬리퍼가 약간 큰 느낌은있는데\\n많이 크진않고 약간? 커요~...</td>\n",
       "      <td>...</td>\n",
       "      <td>가볍고 편해요\\n학교 실내화로 신어요</td>\n",
       "      <td>손이 작아서 손잡이 부분이 조금 그립감이 영 거시기하긴 한데 운동하기에는 참 좋네여...</td>\n",
       "      <td>가성비로는 좋습니다. 처음엔 냄새도 많이 났으나 사용하다보니 크게 거슬리지는 않구요...</td>\n",
       "      <td>멸치같은 몸에서 조금이라도 벗어나고자 구매했습니다.\\n이마트에서 사려고 했던것 보다...</td>\n",
       "      <td>제품을 각각 1개씩 총 2회 주문해서 받았는데 서로 물건이 다르네요. ㅡㅡ; 손잡이...</td>\n",
       "      <td>깔끔하고 편함.</td>\n",
       "      <td>편하고 잘 맞아요</td>\n",
       "      <td>미끄러워요</td>\n",
       "      <td>가격이 매리트가 너무 있다는 점 \\n하지만 아쉬운점은 그립 두께가 너무 두꺼워 손이...</td>\n",
       "      <td>재질이미끄럽고손잡는브분이너무두꺼워서잡기안좋음</td>\n",
       "    </tr>\n",
       "    <tr>\n",
       "      <th>116</th>\n",
       "      <td>4704643400</td>\n",
       "      <td>이상하게 늘 양말에 불만인것 같더라구요.\\n세일가로 구매했습니다.\\n\\n마음에 들어...</td>\n",
       "      <td>저번에 두꺼운것으로 구입하였는데 그떄보단은 비교적 많이 얇은 편입니다 .\\n여름용이...</td>\n",
       "      <td>바닥면도 살짝 도톰해서 땀흡수도 좋고 미끄럽지도 않으면서 발가락쪽에는 통기성이 아주...</td>\n",
       "      <td>너무 편하고 좋습니다\\n여자인데 발이 커서 남자양말 신는데\\n신랑이랑 같이 신기 좋...</td>\n",
       "      <td>발목 밴드 탄탄하고 마음에 듭니다^^\\n한겨울에는 두텁지 않아서 좀 추울수 있을것 ...</td>\n",
       "      <td>여름용 헬스양말로 구매하였습니다.\\n\\n매우 두꺼운 재질은 아닌데 더위를 많이 타신...</td>\n",
       "      <td>잘 받았어요 생각보단 얇지만 다른 저급 상품도 이 가격이라 생각하면 제품 가격이 싸...</td>\n",
       "      <td>빠른배송에 기사님께 항상 감사 드립니다 프로스펙스 중목 양말을 구입해 보았습니다  ...</td>\n",
       "      <td>깔끔한 양말 깨끗히 포장되어 왔어요\\n세일할 때 구매해서 한켤레에 2000원도 안 ...</td>\n",
       "      <td>...</td>\n",
       "      <td>두께감이 어느 정도 있어 일상용이나 스포츠용으로 적당한 것 같아요</td>\n",
       "      <td>생각보다  얇음.\\n그냥 일반 양말두께와 다를바 없음.</td>\n",
       "      <td>스포츠양말치고 넘 얇네요.골드박스 천원저럼해서 샀더니 가격과 \\n디자인은 만족합니다.</td>\n",
       "      <td>잘못 산것. 같네요\\n얇고 땀 차고.\\n별로네요\\n\\n그리고 이상한실밥도 있고\\n구...</td>\n",
       "      <td>두번째 구매합니다 가성비 좋아요\\n공찰때 너무 두껍지도 않고 얇지도 않고 좋습니다</td>\n",
       "      <td>운동할 때 사용하기엔 더할나위 없이 좋습니다!!</td>\n",
       "      <td>음...잘못 생각했네요\\n스포츠 양말 인줄 알았는데\\n두깨감 있는...\\n하지만 아...</td>\n",
       "      <td>스포츠양말이라해서 두꺼울줄알았는데 생각보다 얇아요</td>\n",
       "      <td>가격도 괜찮고 좋은데...\\n스포츠 양말치고 좀 얇은편이네요...</td>\n",
       "      <td>두꺼운 스포츠 양말을 원했는데.. 아니었어요..\\n내가 잘 확인안해서 그런걸... ...</td>\n",
       "    </tr>\n",
       "    <tr>\n",
       "      <th>117</th>\n",
       "      <td>4854912614</td>\n",
       "      <td>기대한 것보다 편하고 예쁘네요. 요즘 입기 딱 좋아요</td>\n",
       "      <td>저번에 두꺼운것으로 구입하였는데 그떄보단은 비교적 많이 얇은 편입니다 .\\n여름용이...</td>\n",
       "      <td>바닥면도 살짝 도톰해서 땀흡수도 좋고 미끄럽지도 않으면서 발가락쪽에는 통기성이 아주...</td>\n",
       "      <td>너무 편하고 좋습니다\\n여자인데 발이 커서 남자양말 신는데\\n신랑이랑 같이 신기 좋...</td>\n",
       "      <td>발목 밴드 탄탄하고 마음에 듭니다^^\\n한겨울에는 두텁지 않아서 좀 추울수 있을것 ...</td>\n",
       "      <td>여름용 헬스양말로 구매하였습니다.\\n\\n매우 두꺼운 재질은 아닌데 더위를 많이 타신...</td>\n",
       "      <td>잘 받았어요 생각보단 얇지만 다른 저급 상품도 이 가격이라 생각하면 제품 가격이 싸...</td>\n",
       "      <td>빠른배송에 기사님께 항상 감사 드립니다 프로스펙스 중목 양말을 구입해 보았습니다  ...</td>\n",
       "      <td>깔끔한 양말 깨끗히 포장되어 왔어요\\n세일할 때 구매해서 한켤레에 2000원도 안 ...</td>\n",
       "      <td>...</td>\n",
       "      <td>두께감이 어느 정도 있어 일상용이나 스포츠용으로 적당한 것 같아요</td>\n",
       "      <td>생각보다  얇음.\\n그냥 일반 양말두께와 다를바 없음.</td>\n",
       "      <td>스포츠양말치고 넘 얇네요.골드박스 천원저럼해서 샀더니 가격과 \\n디자인은 만족합니다.</td>\n",
       "      <td>잘못 산것. 같네요\\n얇고 땀 차고.\\n별로네요\\n\\n그리고 이상한실밥도 있고\\n구...</td>\n",
       "      <td>두번째 구매합니다 가성비 좋아요\\n공찰때 너무 두껍지도 않고 얇지도 않고 좋습니다</td>\n",
       "      <td>운동할 때 사용하기엔 더할나위 없이 좋습니다!!</td>\n",
       "      <td>음...잘못 생각했네요\\n스포츠 양말 인줄 알았는데\\n두깨감 있는...\\n하지만 아...</td>\n",
       "      <td>스포츠양말이라해서 두꺼울줄알았는데 생각보다 얇아요</td>\n",
       "      <td>가격도 괜찮고 좋은데...\\n스포츠 양말치고 좀 얇은편이네요...</td>\n",
       "      <td>두꺼운 스포츠 양말을 원했는데.. 아니었어요..\\n내가 잘 확인안해서 그런걸... ...</td>\n",
       "    </tr>\n",
       "    <tr>\n",
       "      <th>118</th>\n",
       "      <td>1675344733</td>\n",
       "      <td>서칭 많이 하다가 발견한 팸퍼필드 캠핑박스\\n전면 개방형이라 아주 만족합니다.\\n아...</td>\n",
       "      <td>약간의 흔들거림과 먼지가 많았지만\\n밖에서 쓸거라  물걸레로 닦았어요\\n이번주말 써...</td>\n",
       "      <td>좋아요... 상자가 싼티나지 않는다면요...\\n상자가 왜 이리 싼티나죠~??\\n험하...</td>\n",
       "      <td>배송도 빠르고 다른 곳들보다 저렴해서 구매했어요!!\\n캠핑용품 사는 곳에서 여러 폴...</td>\n",
       "      <td>너무 만족입니다!! 캠핑 갈때 테이블로 쓰려고 구매했는ㄷㅔ수납도 가능해서 짐옮기고 ...</td>\n",
       "      <td>완전 만족합니다~! 재입고 알림 해놓고 재입고 되자마자 샀네요!!  사고 캠핑 전이...</td>\n",
       "      <td>사고나니 조금 비싸다는 느낌 있습니다 \\n앞에 캠핑필드 글씨도 번져있고... 머 제...</td>\n",
       "      <td>후기보고 복불복인가 했는데\\n가격대비 너무~ 조아요\\n튼튼하고 마니무겁지도않고\\n상...</td>\n",
       "      <td>앞으로 열리는 제품이라 설치 완료 후 안에 물건 빼낼 때 특히 좋아요.</td>\n",
       "      <td>...</td>\n",
       "      <td>튼튼하고 실용적입니다\\n화이팅입니다</td>\n",
       "      <td>수납이 편리하게 되어 있네요.</td>\n",
       "      <td>크기도 좋고 트렁크에 넣고다니기 딱이에요</td>\n",
       "      <td>수납 보관 용이하고 튼튼하고 실용적이에요^^</td>\n",
       "      <td>두번째 구매합니다 가성비 좋아요\\n공찰때 너무 두껍지도 않고 얇지도 않고 좋습니다</td>\n",
       "      <td>다좋은데 불량임 그래서 두개줌\\n배불뚜기됨</td>\n",
       "      <td>아주좋아요아주좋아요</td>\n",
       "      <td>가성비 굿 튼튼합니다 추천이요</td>\n",
       "      <td>가격도 괜찮고 좋은데...\\n스포츠 양말치고 좀 얇은편이네요...</td>\n",
       "      <td>두꺼운 스포츠 양말을 원했는데.. 아니었어요..\\n내가 잘 확인안해서 그런걸... ...</td>\n",
       "    </tr>\n",
       "    <tr>\n",
       "      <th>119</th>\n",
       "      <td>2119263866</td>\n",
       "      <td>평소 브라 사이즈 85A사이즈하는데 스트레칭하고 운동할때 후크가 자꾸 풀려서 급 쿠...</td>\n",
       "      <td>훠우\\n지금까지 구매한 브라탑 브라렛 중 가장 좋아요\\n\\n스포츠 브라라고 하기엔 ...</td>\n",
       "      <td>완전 딱 맞아요\\n가슴이 있는것도 아니고 없는것도 아닌데\\n뽕브라는 싫고 편하게 입...</td>\n",
       "      <td>가슴 밑둘레로는 2xl도 큰데 가슴 컵사이즈가 커서 고민하다가 3xl 시켰는데 밑둘...</td>\n",
       "      <td>오홍~~~~\\n\\n신세계를 가슴이 느끼고 있네요~~^^\\n\\n제가요~~어깨가 둥글어...</td>\n",
       "      <td>보통 옷은 m사이즈 브라는  80a 입는데 요즘 살이 찐것 같기도 하고 스포츠 브라...</td>\n",
       "      <td>밴드가 조이다고해서 큰사이즈 주문했더니 아주 편해요 어깨끈도 두껍고 가슴도 편안하게...</td>\n",
       "      <td>평소 늘 운동을 하는 사람이라 브라탑이 필수입니당ㅋㅋ 평이 좋길래 사봤어요 가격도 ...</td>\n",
       "      <td>와~~~~~정말 괜찮아요!!!\\n\\n인테넷 쇼핑으로 몇번 브라 구입했는데 \\n\\n그...</td>\n",
       "      <td>...</td>\n",
       "      <td>좋아요. 66반 입는 저한텐.. 좀 .. 작아서 힘들때도 있지만.. ㅋㅋㅋㅋㅋㅋㅋㅋ...</td>\n",
       "      <td>등산할때 착용하려고 구매합니다~\\n오늘 입어보니 아주 편하네요^^ 쫀쫀하면서 답답하...</td>\n",
       "      <td>브라 패드랑 천 재질이 굉장히 좋네요. 아직 빨아보진 않았지만 세탁 이후에도 문제가...</td>\n",
       "      <td>급해서 그냥 씁니다 그런데 찝찝하고 좀 그렇네요..\\n중국어로 써져있는 상품품목 바...</td>\n",
       "      <td>스포츠 브라는 아닌거같아요..\\n요가할때나 그냥 편안하게 걸을때나 입을수 있겠어요....</td>\n",
       "      <td>제가 너무 큰 걸 사긴 했는데 가슴을 잡아주거나 받쳐주진 않아요.\\n가슴이 너무 무...</td>\n",
       "      <td>상품평이 케바케여서 살짝 불안했는데\\n전 너무 좋아요\\n보통 m입지만 사이즈를 여유...</td>\n",
       "      <td>85D 입어용 3XL 편하고 좋네요\\n안정감있게 잡아주는 느낌은 덜하지만\\n가성비 ...</td>\n",
       "      <td>7월3일 배송 이라서 시켰는데 3일 저녁 늦게까지 오늘 도착 이라 하더니 그다음날 ...</td>\n",
       "      <td>난 좋음 사이즈도 좋고 질도 좋고 !\\n빨래하면 뽕 자리잡아주기가 힘들긴하는데 이건...</td>\n",
       "    </tr>\n",
       "  </tbody>\n",
       "</table>\n",
       "<p>5 rows × 101 columns</p>\n",
       "</div>"
      ],
      "text/plain": [
       "     product_id                                            review0  \\\n",
       "115  5195865485  슬리퍼선물하려고 230구입했는데 크게나왔네요.저는 운동화사이즈 235에요.근데 제가...   \n",
       "116  4704643400  이상하게 늘 양말에 불만인것 같더라구요.\\n세일가로 구매했습니다.\\n\\n마음에 들어...   \n",
       "117  4854912614                      기대한 것보다 편하고 예쁘네요. 요즘 입기 딱 좋아요   \n",
       "118  1675344733  서칭 많이 하다가 발견한 팸퍼필드 캠핑박스\\n전면 개방형이라 아주 만족합니다.\\n아...   \n",
       "119  2119263866  평소 브라 사이즈 85A사이즈하는데 스트레칭하고 운동할때 후크가 자꾸 풀려서 급 쿠...   \n",
       "\n",
       "                                               review1  \\\n",
       "115  발길이 225정도 되고\\n운동화는 평소 230 신어요\\n발 앞부분이 조금 넓은 편이...   \n",
       "116  저번에 두꺼운것으로 구입하였는데 그떄보단은 비교적 많이 얇은 편입니다 .\\n여름용이...   \n",
       "117  저번에 두꺼운것으로 구입하였는데 그떄보단은 비교적 많이 얇은 편입니다 .\\n여름용이...   \n",
       "118  약간의 흔들거림과 먼지가 많았지만\\n밖에서 쓸거라  물걸레로 닦았어요\\n이번주말 써...   \n",
       "119  훠우\\n지금까지 구매한 브라탑 브라렛 중 가장 좋아요\\n\\n스포츠 브라라고 하기엔 ...   \n",
       "\n",
       "                                               review2  \\\n",
       "115  운동화230 구두225사이즈 발볼이나 발등높지않은 여성성인 작은발입니다.\\n신발사이...   \n",
       "116  바닥면도 살짝 도톰해서 땀흡수도 좋고 미끄럽지도 않으면서 발가락쪽에는 통기성이 아주...   \n",
       "117  바닥면도 살짝 도톰해서 땀흡수도 좋고 미끄럽지도 않으면서 발가락쪽에는 통기성이 아주...   \n",
       "118  좋아요... 상자가 싼티나지 않는다면요...\\n상자가 왜 이리 싼티나죠~??\\n험하...   \n",
       "119  완전 딱 맞아요\\n가슴이 있는것도 아니고 없는것도 아닌데\\n뽕브라는 싫고 편하게 입...   \n",
       "\n",
       "                                               review3  \\\n",
       "115  배송 아주 빨리 왔어요~\\n오후 6시에 구매하였는데 다음날 아침 7시쯤에 \\n확인해...   \n",
       "116  너무 편하고 좋습니다\\n여자인데 발이 커서 남자양말 신는데\\n신랑이랑 같이 신기 좋...   \n",
       "117  너무 편하고 좋습니다\\n여자인데 발이 커서 남자양말 신는데\\n신랑이랑 같이 신기 좋...   \n",
       "118  배송도 빠르고 다른 곳들보다 저렴해서 구매했어요!!\\n캠핑용품 사는 곳에서 여러 폴...   \n",
       "119  가슴 밑둘레로는 2xl도 큰데 가슴 컵사이즈가 커서 고민하다가 3xl 시켰는데 밑둘...   \n",
       "\n",
       "                                               review4  \\\n",
       "115  < 사이즈 고려 시 참고해주세요! >\\n\\n보통 신발 크기는 260이 맞는데 제가 ...   \n",
       "116  발목 밴드 탄탄하고 마음에 듭니다^^\\n한겨울에는 두텁지 않아서 좀 추울수 있을것 ...   \n",
       "117  발목 밴드 탄탄하고 마음에 듭니다^^\\n한겨울에는 두텁지 않아서 좀 추울수 있을것 ...   \n",
       "118  너무 만족입니다!! 캠핑 갈때 테이블로 쓰려고 구매했는ㄷㅔ수납도 가능해서 짐옮기고 ...   \n",
       "119  오홍~~~~\\n\\n신세계를 가슴이 느끼고 있네요~~^^\\n\\n제가요~~어깨가 둥글어...   \n",
       "\n",
       "                                               review5  \\\n",
       "115  전날밤 주문했고 오늘오후에 받았어요. 학원에서 신을 슬리퍼가 필요하다길래 주문 했거...   \n",
       "116  여름용 헬스양말로 구매하였습니다.\\n\\n매우 두꺼운 재질은 아닌데 더위를 많이 타신...   \n",
       "117  여름용 헬스양말로 구매하였습니다.\\n\\n매우 두꺼운 재질은 아닌데 더위를 많이 타신...   \n",
       "118  완전 만족합니다~! 재입고 알림 해놓고 재입고 되자마자 샀네요!!  사고 캠핑 전이...   \n",
       "119  보통 옷은 m사이즈 브라는  80a 입는데 요즘 살이 찐것 같기도 하고 스포츠 브라...   \n",
       "\n",
       "                                               review6  \\\n",
       "115  뚱발260아이 270잘맞아요\\n사진은 235인 제가신어봤어요ㅋ\\n폭신하고 편하네요\\...   \n",
       "116  잘 받았어요 생각보단 얇지만 다른 저급 상품도 이 가격이라 생각하면 제품 가격이 싸...   \n",
       "117  잘 받았어요 생각보단 얇지만 다른 저급 상품도 이 가격이라 생각하면 제품 가격이 싸...   \n",
       "118  사고나니 조금 비싸다는 느낌 있습니다 \\n앞에 캠핑필드 글씨도 번져있고... 머 제...   \n",
       "119  밴드가 조이다고해서 큰사이즈 주문했더니 아주 편해요 어깨끈도 두껍고 가슴도 편안하게...   \n",
       "\n",
       "                                               review7  \\\n",
       "115  중1  딸  슬리퍼 뭘로 할까 검색 중\\n눈에 들어온  것  가격도 착하고요\\n매장...   \n",
       "116  빠른배송에 기사님께 항상 감사 드립니다 프로스펙스 중목 양말을 구입해 보았습니다  ...   \n",
       "117  빠른배송에 기사님께 항상 감사 드립니다 프로스펙스 중목 양말을 구입해 보았습니다  ...   \n",
       "118  후기보고 복불복인가 했는데\\n가격대비 너무~ 조아요\\n튼튼하고 마니무겁지도않고\\n상...   \n",
       "119  평소 늘 운동을 하는 사람이라 브라탑이 필수입니당ㅋㅋ 평이 좋길래 사봤어요 가격도 ...   \n",
       "\n",
       "                                               review8  ...  \\\n",
       "115  발사이즈가 작은편이라서 슬리퍼가 약간 큰 느낌은있는데\\n많이 크진않고 약간? 커요~...  ...   \n",
       "116  깔끔한 양말 깨끗히 포장되어 왔어요\\n세일할 때 구매해서 한켤레에 2000원도 안 ...  ...   \n",
       "117  깔끔한 양말 깨끗히 포장되어 왔어요\\n세일할 때 구매해서 한켤레에 2000원도 안 ...  ...   \n",
       "118            앞으로 열리는 제품이라 설치 완료 후 안에 물건 빼낼 때 특히 좋아요.  ...   \n",
       "119  와~~~~~정말 괜찮아요!!!\\n\\n인테넷 쇼핑으로 몇번 브라 구입했는데 \\n\\n그...  ...   \n",
       "\n",
       "                                              review90  \\\n",
       "115                               가볍고 편해요\\n학교 실내화로 신어요   \n",
       "116               두께감이 어느 정도 있어 일상용이나 스포츠용으로 적당한 것 같아요   \n",
       "117               두께감이 어느 정도 있어 일상용이나 스포츠용으로 적당한 것 같아요   \n",
       "118                                튼튼하고 실용적입니다\\n화이팅입니다   \n",
       "119  좋아요. 66반 입는 저한텐.. 좀 .. 작아서 힘들때도 있지만.. ㅋㅋㅋㅋㅋㅋㅋㅋ...   \n",
       "\n",
       "                                              review91  \\\n",
       "115  손이 작아서 손잡이 부분이 조금 그립감이 영 거시기하긴 한데 운동하기에는 참 좋네여...   \n",
       "116                     생각보다  얇음.\\n그냥 일반 양말두께와 다를바 없음.   \n",
       "117                     생각보다  얇음.\\n그냥 일반 양말두께와 다를바 없음.   \n",
       "118                                   수납이 편리하게 되어 있네요.   \n",
       "119  등산할때 착용하려고 구매합니다~\\n오늘 입어보니 아주 편하네요^^ 쫀쫀하면서 답답하...   \n",
       "\n",
       "                                              review92  \\\n",
       "115  가성비로는 좋습니다. 처음엔 냄새도 많이 났으나 사용하다보니 크게 거슬리지는 않구요...   \n",
       "116    스포츠양말치고 넘 얇네요.골드박스 천원저럼해서 샀더니 가격과 \\n디자인은 만족합니다.   \n",
       "117    스포츠양말치고 넘 얇네요.골드박스 천원저럼해서 샀더니 가격과 \\n디자인은 만족합니다.   \n",
       "118                             크기도 좋고 트렁크에 넣고다니기 딱이에요   \n",
       "119  브라 패드랑 천 재질이 굉장히 좋네요. 아직 빨아보진 않았지만 세탁 이후에도 문제가...   \n",
       "\n",
       "                                              review93  \\\n",
       "115  멸치같은 몸에서 조금이라도 벗어나고자 구매했습니다.\\n이마트에서 사려고 했던것 보다...   \n",
       "116  잘못 산것. 같네요\\n얇고 땀 차고.\\n별로네요\\n\\n그리고 이상한실밥도 있고\\n구...   \n",
       "117  잘못 산것. 같네요\\n얇고 땀 차고.\\n별로네요\\n\\n그리고 이상한실밥도 있고\\n구...   \n",
       "118                           수납 보관 용이하고 튼튼하고 실용적이에요^^   \n",
       "119  급해서 그냥 씁니다 그런데 찝찝하고 좀 그렇네요..\\n중국어로 써져있는 상품품목 바...   \n",
       "\n",
       "                                              review94  \\\n",
       "115  제품을 각각 1개씩 총 2회 주문해서 받았는데 서로 물건이 다르네요. ㅡㅡ; 손잡이...   \n",
       "116      두번째 구매합니다 가성비 좋아요\\n공찰때 너무 두껍지도 않고 얇지도 않고 좋습니다   \n",
       "117      두번째 구매합니다 가성비 좋아요\\n공찰때 너무 두껍지도 않고 얇지도 않고 좋습니다   \n",
       "118      두번째 구매합니다 가성비 좋아요\\n공찰때 너무 두껍지도 않고 얇지도 않고 좋습니다   \n",
       "119  스포츠 브라는 아닌거같아요..\\n요가할때나 그냥 편안하게 걸을때나 입을수 있겠어요....   \n",
       "\n",
       "                                              review95  \\\n",
       "115                                           깔끔하고 편함.   \n",
       "116                         운동할 때 사용하기엔 더할나위 없이 좋습니다!!   \n",
       "117                         운동할 때 사용하기엔 더할나위 없이 좋습니다!!   \n",
       "118                            다좋은데 불량임 그래서 두개줌\\n배불뚜기됨   \n",
       "119  제가 너무 큰 걸 사긴 했는데 가슴을 잡아주거나 받쳐주진 않아요.\\n가슴이 너무 무...   \n",
       "\n",
       "                                              review96  \\\n",
       "115                                          편하고 잘 맞아요   \n",
       "116  음...잘못 생각했네요\\n스포츠 양말 인줄 알았는데\\n두깨감 있는...\\n하지만 아...   \n",
       "117  음...잘못 생각했네요\\n스포츠 양말 인줄 알았는데\\n두깨감 있는...\\n하지만 아...   \n",
       "118                                         아주좋아요아주좋아요   \n",
       "119  상품평이 케바케여서 살짝 불안했는데\\n전 너무 좋아요\\n보통 m입지만 사이즈를 여유...   \n",
       "\n",
       "                                              review97  \\\n",
       "115                                              미끄러워요   \n",
       "116                        스포츠양말이라해서 두꺼울줄알았는데 생각보다 얇아요   \n",
       "117                        스포츠양말이라해서 두꺼울줄알았는데 생각보다 얇아요   \n",
       "118                                   가성비 굿 튼튼합니다 추천이요   \n",
       "119  85D 입어용 3XL 편하고 좋네요\\n안정감있게 잡아주는 느낌은 덜하지만\\n가성비 ...   \n",
       "\n",
       "                                              review98  \\\n",
       "115  가격이 매리트가 너무 있다는 점 \\n하지만 아쉬운점은 그립 두께가 너무 두꺼워 손이...   \n",
       "116               가격도 괜찮고 좋은데...\\n스포츠 양말치고 좀 얇은편이네요...   \n",
       "117               가격도 괜찮고 좋은데...\\n스포츠 양말치고 좀 얇은편이네요...   \n",
       "118               가격도 괜찮고 좋은데...\\n스포츠 양말치고 좀 얇은편이네요...   \n",
       "119  7월3일 배송 이라서 시켰는데 3일 저녁 늦게까지 오늘 도착 이라 하더니 그다음날 ...   \n",
       "\n",
       "                                              review99  \n",
       "115                           재질이미끄럽고손잡는브분이너무두꺼워서잡기안좋음  \n",
       "116  두꺼운 스포츠 양말을 원했는데.. 아니었어요..\\n내가 잘 확인안해서 그런걸... ...  \n",
       "117  두꺼운 스포츠 양말을 원했는데.. 아니었어요..\\n내가 잘 확인안해서 그런걸... ...  \n",
       "118  두꺼운 스포츠 양말을 원했는데.. 아니었어요..\\n내가 잘 확인안해서 그런걸... ...  \n",
       "119  난 좋음 사이즈도 좋고 질도 좋고 !\\n빨래하면 뽕 자리잡아주기가 힘들긴하는데 이건...  \n",
       "\n",
       "[5 rows x 101 columns]"
      ]
     },
     "execution_count": 142,
     "metadata": {},
     "output_type": "execute_result"
    }
   ],
   "source": [
    "df_reviews.tail()"
   ]
  },
  {
   "cell_type": "code",
   "execution_count": 144,
   "metadata": {},
   "outputs": [],
   "source": [
    "# 데이터 pickling\n",
    "df_reviews.to_pickle('df_reviews.pkl')\n",
    "\n",
    "# to csv\n",
    "df_reviews.to_csv('df_reviews.csv')"
   ]
  },
  {
   "cell_type": "markdown",
   "metadata": {},
   "source": [
    "---\n",
    "- 여기서부터는 연습장"
   ]
  },
  {
   "cell_type": "code",
   "execution_count": null,
   "metadata": {},
   "outputs": [],
   "source": [
    "series_reviews = pd.Series()"
   ]
  },
  {
   "cell_type": "code",
   "execution_count": 119,
   "metadata": {},
   "outputs": [],
   "source": [
    "dict_test = {'A' : [0], 'B' : [1]}"
   ]
  },
  {
   "cell_type": "code",
   "execution_count": 113,
   "metadata": {},
   "outputs": [
    {
     "data": {
      "text/plain": [
       "{'A': [0], 'B': [1]}"
      ]
     },
     "execution_count": 113,
     "metadata": {},
     "output_type": "execute_result"
    }
   ],
   "source": [
    "dict_test"
   ]
  },
  {
   "cell_type": "code",
   "execution_count": 115,
   "metadata": {},
   "outputs": [],
   "source": [
    "\n",
    "dict_test.update({'A' : 1})"
   ]
  },
  {
   "cell_type": "code",
   "execution_count": 117,
   "metadata": {},
   "outputs": [
    {
     "data": {
      "text/plain": [
       "{'A': 1, 'B': [1]}"
      ]
     },
     "execution_count": 117,
     "metadata": {},
     "output_type": "execute_result"
    }
   ],
   "source": [
    "dict_test"
   ]
  },
  {
   "cell_type": "code",
   "execution_count": 120,
   "metadata": {},
   "outputs": [],
   "source": [
    "dict_test['A'].append(\"test\")"
   ]
  },
  {
   "cell_type": "code",
   "execution_count": 131,
   "metadata": {},
   "outputs": [
    {
     "data": {
      "text/plain": [
       "{'A': [0, 'test'], 'B': [1]}"
      ]
     },
     "execution_count": 131,
     "metadata": {},
     "output_type": "execute_result"
    }
   ],
   "source": [
    "dict_test"
   ]
  },
  {
   "cell_type": "code",
   "execution_count": null,
   "metadata": {},
   "outputs": [],
   "source": [
    "dict_"
   ]
  },
  {
   "cell_type": "code",
   "execution_count": 132,
   "metadata": {},
   "outputs": [],
   "source": [
    "dict_test2 = {\"product_id\" : []}"
   ]
  },
  {
   "cell_type": "code",
   "execution_count": 133,
   "metadata": {},
   "outputs": [],
   "source": [
    "dict_test2[\"count\"] = \"test\""
   ]
  },
  {
   "cell_type": "code",
   "execution_count": 134,
   "metadata": {},
   "outputs": [
    {
     "data": {
      "text/plain": [
       "{'product_id': [], 'count': 'test'}"
      ]
     },
     "execution_count": 134,
     "metadata": {},
     "output_type": "execute_result"
    }
   ],
   "source": [
    "dict_test2"
   ]
  },
  {
   "cell_type": "code",
   "execution_count": null,
   "metadata": {},
   "outputs": [],
   "source": []
  }
 ],
 "metadata": {
  "kernelspec": {
   "display_name": "Python 3",
   "language": "python",
   "name": "python3"
  },
  "language_info": {
   "codemirror_mode": {
    "name": "ipython",
    "version": 3
   },
   "file_extension": ".py",
   "mimetype": "text/x-python",
   "name": "python",
   "nbconvert_exporter": "python",
   "pygments_lexer": "ipython3",
   "version": "3.8.5"
  }
 },
 "nbformat": 4,
 "nbformat_minor": 4
}
