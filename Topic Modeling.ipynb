{
 "cells": [
  {
   "cell_type": "code",
   "execution_count": 34,
   "metadata": {
    "ExecuteTime": {
     "end_time": "2021-06-03T23:57:57.918225Z",
     "start_time": "2021-06-03T23:57:57.905356Z"
    }
   },
   "outputs": [
    {
     "name": "stderr",
     "output_type": "stream",
     "text": [
      "/Users/johanjun/opt/anaconda3/lib/python3.8/site-packages/ipykernel/ipkernel.py:287: DeprecationWarning: `should_run_async` will not call `transform_cell` automatically in the future. Please pass the result to `transformed_cell` argument and any exception that happen during thetransform in `preprocessing_exc_tuple` in IPython 7.17 and above.\n",
      "  and should_run_async(code)\n"
     ]
    }
   ],
   "source": [
    "import pickle\n",
    "import sys\n",
    "from sklearn.feature_extraction.text import CountVectorizer\n",
    "from tqdm import tqdm_notebook # progress bar\n",
    "from konlpy.tag import Mecab; mecab = Mecab()\n",
    "\n",
    "import numpy as np\n",
    "import pandas as pd\n",
    "import string\n",
    "import re\n",
    "import warnings\n",
    "warnings.filterwarnings('ignore')\n",
    "import matplotlib.pyplot as plt\n",
    "import platform\n",
    "from matplotlib import font_manager, rc\n",
    "%matplotlib inline"
   ]
  },
  {
   "cell_type": "code",
   "execution_count": 6,
   "metadata": {
    "ExecuteTime": {
     "end_time": "2021-06-03T23:46:02.204700Z",
     "start_time": "2021-06-03T23:46:02.200869Z"
    }
   },
   "outputs": [],
   "source": [
    "## 글꼴 세팅\n",
    "\n",
    "path = \"c:/Windows/Fonts/malgun.ttf\"\n",
    "font_name = 'AppleGothic'\n",
    "rc('font', family='AppleGothic')\n",
    "\n",
    "warnings.simplefilter(action='ignore')\n",
    "\n",
    "tokenizer = \"nouns\" # nouns, morphs, word, predefined"
   ]
  },
  {
   "cell_type": "code",
   "execution_count": 7,
   "metadata": {
    "ExecuteTime": {
     "end_time": "2021-06-03T23:47:03.996628Z",
     "start_time": "2021-06-03T23:47:03.984228Z"
    }
   },
   "outputs": [],
   "source": [
    "with open('tokenized_documents.pkl', 'rb') as f:\n",
    "    tokenized_documents = pickle.load(f)"
   ]
  },
  {
   "cell_type": "code",
   "execution_count": 8,
   "metadata": {
    "ExecuteTime": {
     "end_time": "2021-06-03T23:47:07.950468Z",
     "start_time": "2021-06-03T23:47:07.945744Z"
    }
   },
   "outputs": [
    {
     "name": "stdout",
     "output_type": "stream",
     "text": [
      "100\n",
      "['말', '병', '일요일', '상품', '수', '쿠팡', '주식', '응원', '기사', '덕분', '일요일', '거', '생각', '응원', '감사', '사람', '거', '디자인', '색인', '로즈', '골드', '아이폰', '골', '실버', '줄질', '줄질', '관심', '고민', 'ㄴ', 'ㄴ', '거', '필요', '기능', '중요', '대신', '구매', '일요일', '강아지', '강아지', '밤', '기인', '산책', '축어', '이건', '검색', '기기', '결함', '교환', '신청', '인터넷', '방법', '나머지', '시계', '역할', '팟', '소리', '조절', '버튼', '거', '그건', '알람', '시리', '날씨', '계산기', '운동', '플', '다운', '기본', '플', '사용', '노래', '검색', '정도', '나름', '사용', '거', '핸드폰', '손목', '부담', '시계', '편', '봄', '여름', '시계', '겨울', '손', '옷', '때문', '불편', '겨울', '이유', '트랩', '트랩', '디자인', '생각', '기본', '며칠', '인터넷', '가지', '알리', '건', '네이버', '밀레', '니즈', '건', '사용', '여름', '사용', '거', '밀레', '니즈', '스포츠', '훠', '건', '밀레', '니즈', '여름', '밀레', '니즈', '겨울', '스포츠', '사용', '옷', '스포츠', '여름', '땀', '군요', '줄질', '종류', '케이스', '터치', '거', '쿠팡', '액정', '필름', '사용', '네이버', '검색', '사용', '아이폰', '맥북', '사용', '거', '생태', '계란', '앞', '아이폰', '맥북', '해제', '기대', '지금', '마스크', '불편', '페이스', '아이디', '폰', '생활', '단계', '정리', '느낌', '뭐', '추천', '추천', '시계', '사용', '분', '시계', '화면', '데', '신경', '시계', '나머지', '기능', '한글', '소린지', '왕', '거', '검색', '사용']\n"
     ]
    }
   ],
   "source": [
    "print(len(tokenized_documents))\n",
    "print(tokenized_documents[0])"
   ]
  },
  {
   "cell_type": "markdown",
   "metadata": {},
   "source": [
    "### gensim LDA modeling"
   ]
  },
  {
   "cell_type": "code",
   "execution_count": 9,
   "metadata": {
    "ExecuteTime": {
     "end_time": "2021-06-03T23:47:34.887107Z",
     "start_time": "2021-06-03T23:47:30.737792Z"
    }
   },
   "outputs": [],
   "source": [
    "from gensim.corpora import Dictionary"
   ]
  },
  {
   "cell_type": "code",
   "execution_count": 10,
   "metadata": {
    "ExecuteTime": {
     "end_time": "2021-06-03T23:47:39.826823Z",
     "start_time": "2021-06-03T23:47:39.747189Z"
    }
   },
   "outputs": [],
   "source": [
    "# 문서-단어 행렬 만들기 # LDA의 input.\n",
    "# 어휘(vocabulary) 학습\n",
    "dictionary = Dictionary(tokenized_documents)\n",
    "# dictionary.token2id\n",
    "# dictionary.id2token\n",
    "\n",
    "# 문서-단어 행렬 생성\n",
    "corpus = [dictionary.doc2bow(document) for document in tokenized_documents]"
   ]
  },
  {
   "cell_type": "code",
   "execution_count": 11,
   "metadata": {
    "ExecuteTime": {
     "end_time": "2021-06-03T23:47:42.914495Z",
     "start_time": "2021-06-03T23:47:42.908913Z"
    }
   },
   "outputs": [
    {
     "name": "stdout",
     "output_type": "stream",
     "text": [
      "Dictionary(1361 unique tokens: ['ㄴ', '가지', '감사', '강아지', '거']...)\n",
      "1361\n"
     ]
    }
   ],
   "source": [
    "NUM_TOTAL_WORDS = len(dictionary)\n",
    "print(dictionary)\n",
    "print(NUM_TOTAL_WORDS)"
   ]
  },
  {
   "cell_type": "code",
   "execution_count": 12,
   "metadata": {
    "ExecuteTime": {
     "end_time": "2021-06-03T23:47:48.771407Z",
     "start_time": "2021-06-03T23:47:48.759221Z"
    },
    "collapsed": true
   },
   "outputs": [
    {
     "data": {
      "text/plain": [
       "[(0, 2),\n",
       " (1, 1),\n",
       " (2, 1),\n",
       " (3, 2),\n",
       " (4, 9),\n",
       " (5, 3),\n",
       " (6, 4),\n",
       " (7, 3),\n",
       " (8, 1),\n",
       " (9, 1),\n",
       " (10, 1),\n",
       " (11, 1),\n",
       " (12, 1),\n",
       " (13, 1),\n",
       " (14, 1),\n",
       " (15, 1),\n",
       " (16, 1),\n",
       " (17, 1),\n",
       " (18, 1),\n",
       " (19, 1),\n",
       " (20, 2),\n",
       " (21, 1),\n",
       " (22, 2),\n",
       " (23, 1),\n",
       " (24, 1),\n",
       " (25, 1),\n",
       " (26, 2),\n",
       " (27, 1),\n",
       " (28, 2),\n",
       " (29, 1),\n",
       " (30, 1),\n",
       " (31, 4),\n",
       " (32, 1),\n",
       " (33, 1),\n",
       " (34, 1),\n",
       " (35, 1),\n",
       " (36, 1),\n",
       " (37, 2),\n",
       " (38, 1),\n",
       " (39, 1),\n",
       " (40, 1),\n",
       " (41, 1),\n",
       " (42, 1),\n",
       " (43, 2),\n",
       " (44, 1),\n",
       " (45, 1),\n",
       " (46, 4),\n",
       " (47, 1),\n",
       " (48, 1),\n",
       " (49, 1),\n",
       " (50, 1),\n",
       " (51, 1),\n",
       " (52, 1),\n",
       " (53, 1),\n",
       " (54, 2),\n",
       " (55, 1),\n",
       " (56, 10),\n",
       " (57, 1),\n",
       " (58, 1),\n",
       " (59, 1),\n",
       " (60, 2),\n",
       " (61, 1),\n",
       " (62, 1),\n",
       " (63, 1),\n",
       " (64, 1),\n",
       " (65, 1),\n",
       " (66, 1),\n",
       " (67, 1),\n",
       " (68, 3),\n",
       " (69, 6),\n",
       " (70, 1),\n",
       " (71, 1),\n",
       " (72, 1),\n",
       " (73, 1),\n",
       " (74, 1),\n",
       " (75, 3),\n",
       " (76, 1),\n",
       " (77, 1),\n",
       " (78, 1),\n",
       " (79, 1),\n",
       " (80, 4),\n",
       " (81, 1),\n",
       " (82, 2),\n",
       " (83, 1),\n",
       " (84, 1),\n",
       " (85, 2),\n",
       " (86, 1),\n",
       " (87, 1),\n",
       " (88, 2),\n",
       " (89, 3),\n",
       " (90, 1),\n",
       " (91, 1),\n",
       " (92, 1),\n",
       " (93, 1),\n",
       " (94, 1),\n",
       " (95, 3),\n",
       " (96, 1),\n",
       " (97, 1),\n",
       " (98, 2),\n",
       " (99, 1),\n",
       " (100, 1),\n",
       " (101, 2),\n",
       " (102, 1),\n",
       " (103, 2),\n",
       " (104, 1),\n",
       " (105, 1),\n",
       " (106, 1),\n",
       " (107, 1),\n",
       " (108, 2),\n",
       " (109, 1),\n",
       " (110, 1),\n",
       " (111, 1),\n",
       " (112, 1),\n",
       " (113, 1),\n",
       " (114, 1),\n",
       " (115, 1)]"
      ]
     },
     "execution_count": 12,
     "metadata": {},
     "output_type": "execute_result"
    }
   ],
   "source": [
    "corpus[0]"
   ]
  },
  {
   "cell_type": "code",
   "execution_count": 13,
   "metadata": {
    "ExecuteTime": {
     "end_time": "2021-06-03T23:48:02.240835Z",
     "start_time": "2021-06-03T23:48:02.231111Z"
    }
   },
   "outputs": [
    {
     "data": {
      "text/plain": [
       "[(0, 0.14992366028163676),\n",
       " (1, 0.03767447629336458),\n",
       " (2, 0.0671923445013273),\n",
       " (3, 0.14992366028163676),\n",
       " (4, 0.09694144569903726)]"
      ]
     },
     "execution_count": 13,
     "metadata": {},
     "output_type": "execute_result"
    }
   ],
   "source": [
    "from gensim import models\n",
    "tfidf = models.TfidfModel(corpus)\n",
    "corpus_tfidf = tfidf[corpus]\n",
    "corpus_tfidf[0][:5]"
   ]
  },
  {
   "cell_type": "code",
   "execution_count": 14,
   "metadata": {
    "ExecuteTime": {
     "end_time": "2021-06-03T23:48:15.426474Z",
     "start_time": "2021-06-03T23:48:15.421925Z"
    }
   },
   "outputs": [],
   "source": [
    "# gensim에서 ldamodel 불러오기\n",
    "from gensim.models import LdaModel\n",
    "# lda를 측정하는 지표인 coherence score 계산\n",
    "from gensim.models import CoherenceModel\n",
    "\n",
    "from time import time\n",
    "import os\n",
    "import gensim"
   ]
  },
  {
   "cell_type": "code",
   "execution_count": 15,
   "metadata": {
    "ExecuteTime": {
     "end_time": "2021-06-03T23:48:26.992722Z",
     "start_time": "2021-06-03T23:48:26.985910Z"
    }
   },
   "outputs": [],
   "source": [
    "# 토픽 개수와 토픽 별 단어 출력 개수 지정.\n",
    "NUM_TOPIC_WORDS = 30\n",
    "\n",
    "\n",
    "def build_doc_term_mat(documents):\n",
    "    \"\"\"주어진 문서 집합으로 문서-어휘 행렬을 만들어 돌려준다.\"\"\"\n",
    "    \n",
    "    print_log_msg(\"Building document-term matrix.\")\n",
    "    dictionary = Dictionary(documents)\n",
    "    corpus = [dictionary.doc2bow(document) for document in documents]\n",
    "\n",
    "    return corpus, dictionary\n",
    "\n",
    "\n",
    "def print_topic_words(model): # model <- (학습이 완료된)ldamodel\n",
    "    \"\"\"토픽별 토픽 단어들을 화면에 인쇄한다.\"\"\"\n",
    "    \n",
    "    print_log_msg(\"Printing topic words.\")\n",
    "    for topic_id in range(model.num_topics):\n",
    "        print(\"==== Topic : %d ====\" % topic_id)\n",
    "        topic_probs = model.show_topic(topic_id, NUM_TOPIC_WORDS)\n",
    "        for word, prob in topic_probs:\n",
    "            print(\"%s\\t%.4f\" % (word, prob))\n",
    "    \n",
    "    \n",
    "    \n",
    "\n",
    "def print_log_msg(msg):\n",
    "    \"\"\"로그 메시지를 출력한다.\"\"\"\n",
    "    \n",
    "    print(msg, flush=True)"
   ]
  },
  {
   "cell_type": "code",
   "execution_count": 18,
   "metadata": {
    "ExecuteTime": {
     "end_time": "2021-06-03T23:51:58.520216Z",
     "start_time": "2021-06-03T23:51:58.506391Z"
    }
   },
   "outputs": [],
   "source": [
    "def compute_coherence(dictionary, corpus, texts, start=8, end=81, step=4):\n",
    "    coherence_score_list = []\n",
    "    model_list = []\n",
    "    # 토픽개수를 2부터 10까지 하고 싶다. -> range(2, 11, 1)\n",
    "    for num_topics in tqdm_notebook(range(start, end, step)):\n",
    "        # LDA model 학습코드\n",
    "        \n",
    "        model = LdaModel(corpus=corpus, id2word=dictionary, num_topics=num_topics)\n",
    "        model_list.append(model)\n",
    "        \n",
    "        # Coherence Score 학습 코드\n",
    "        coherence_model = CoherenceModel(model=model, texts=tokenized_documents,\n",
    "                                        corpus=corpus, dictionary=dictionary, coherence='c_v')\n",
    "        coherence_score_list.append(coherence_model.get_coherence())\n",
    "        \n",
    "    return model_list, coherence_score_list"
   ]
  },
  {
   "cell_type": "code",
   "execution_count": 20,
   "metadata": {
    "ExecuteTime": {
     "end_time": "2021-06-03T23:55:16.732913Z",
     "start_time": "2021-06-03T23:55:15.166053Z"
    }
   },
   "outputs": [
    {
     "name": "stdout",
     "output_type": "stream",
     "text": [
      "원하는 토픽 갯수들을 입력하세요(e.g. 2,5,1)2,5,1\n"
     ]
    },
    {
     "data": {
      "text/plain": [
       "(2, 5, 1)"
      ]
     },
     "execution_count": 20,
     "metadata": {},
     "output_type": "execute_result"
    }
   ],
   "source": [
    "start, end, step = [int(x) for x in input(\"원하는 토픽 갯수들을 입력하세요(e.g. 2,5,1)\").split(\",\")]\n",
    "start, end, step"
   ]
  },
  {
   "cell_type": "code",
   "execution_count": 21,
   "metadata": {
    "ExecuteTime": {
     "end_time": "2021-06-03T23:55:28.134284Z",
     "start_time": "2021-06-03T23:55:22.972763Z"
    }
   },
   "outputs": [
    {
     "name": "stdout",
     "output_type": "stream",
     "text": [
      "Building document-term matrix.\n",
      "100 1361\n"
     ]
    },
    {
     "data": {
      "application/vnd.jupyter.widget-view+json": {
       "model_id": "019099b63c8a4fd7927bc60074979339",
       "version_major": 2,
       "version_minor": 0
      },
      "text/plain": [
       "HBox(children=(HTML(value=''), FloatProgress(value=0.0, max=3.0), HTML(value='')))"
      ]
     },
     "metadata": {},
     "output_type": "display_data"
    },
    {
     "name": "stdout",
     "output_type": "stream",
     "text": [
      "\n"
     ]
    }
   ],
   "source": [
    "import pickle\n",
    "\n",
    "corpus, dictionary = build_doc_term_mat(tokenized_documents)\n",
    "print(len(corpus), len(dictionary))\n",
    "\n",
    "write_flag = False\n",
    "\n",
    "\n",
    "model_path = f\"model-test_K({start}-{end})_with_{tokenizer}words.pk\"\n",
    "if os.path.exists(model_path):\n",
    "    with open(model_path, 'rb') as f:\n",
    "        model_list = pickle.load(f)\n",
    "else:\n",
    "    write_flag = True\n",
    "    \n",
    "csScore_path = f\"Coherence-test_K({start}-{end})_with_{tokenizer}words.pk\"\n",
    "if os.path.exists(csScore_path):\n",
    "    with open(csScore_path, 'rb') as f:\n",
    "        coherence_scores = pickle.load(f)\n",
    "else:\n",
    "    write_flag = True\n",
    "\n",
    "\n",
    "if write_flag:\n",
    "    # 주어진 토픽 개수들에 대해 LDA model, Coherence model 학습\n",
    "    model_list, coherence_scores = compute_coherence(dictionary=dictionary,\n",
    "                                                    corpus=corpus,\n",
    "                                                    texts=tokenized_documents,\n",
    "                                                    start=start,\n",
    "                                                    end=end,\n",
    "                                                    step=step)\n",
    "    \n",
    "\n",
    "    with open(model_path, 'wb') as f:\n",
    "        pickle.dump(model_list, f)\n",
    "    \n",
    "    with open(csScore_path, 'wb') as f:\n",
    "        pickle.dump(coherence_scores, f)"
   ]
  },
  {
   "cell_type": "code",
   "execution_count": 22,
   "metadata": {
    "ExecuteTime": {
     "end_time": "2021-06-03T23:55:42.924947Z",
     "start_time": "2021-06-03T23:55:42.918518Z"
    }
   },
   "outputs": [
    {
     "data": {
      "text/plain": [
       "[<gensim.models.ldamodel.LdaModel at 0x7fc67bafaaf0>,\n",
       " <gensim.models.ldamodel.LdaModel at 0x7fc67bb4ed30>,\n",
       " <gensim.models.ldamodel.LdaModel at 0x7fc67bbb3520>]"
      ]
     },
     "execution_count": 22,
     "metadata": {},
     "output_type": "execute_result"
    }
   ],
   "source": [
    "model_list"
   ]
  },
  {
   "cell_type": "code",
   "execution_count": 27,
   "metadata": {
    "ExecuteTime": {
     "end_time": "2021-06-03T23:56:16.947697Z",
     "start_time": "2021-06-03T23:56:16.938191Z"
    },
    "scrolled": false
   },
   "outputs": [
    {
     "name": "stdout",
     "output_type": "stream",
     "text": [
      "Printing topic words.\n",
      "==== Topic : 0 ====\n",
      "거\t0.0248\n",
      "고민\t0.0163\n",
      "구매\t0.0144\n",
      "사용\t0.0133\n",
      "핸드폰\t0.0128\n",
      "실버\t0.0126\n",
      "수\t0.0121\n",
      "기능\t0.0119\n",
      "쿠팡\t0.0103\n",
      "밴드\t0.0100\n",
      "생각\t0.0094\n",
      "손목\t0.0088\n",
      "배송\t0.0086\n",
      "주문\t0.0081\n",
      "시계\t0.0079\n",
      "정도\t0.0072\n",
      "운동\t0.0072\n",
      "분\t0.0068\n",
      "화면\t0.0067\n",
      "만\t0.0062\n",
      "제품\t0.0060\n",
      "아이폰\t0.0059\n",
      "만족\t0.0059\n",
      "여자\t0.0058\n",
      "공홈\t0.0051\n",
      "원\t0.0051\n",
      "트랩\t0.0050\n",
      "사이즈\t0.0050\n",
      "그레이\t0.0047\n",
      "번\t0.0047\n",
      "==== Topic : 1 ====\n",
      "구매\t0.0255\n",
      "고민\t0.0201\n",
      "생각\t0.0192\n",
      "기능\t0.0158\n",
      "배송\t0.0129\n",
      "수\t0.0129\n",
      "거\t0.0119\n",
      "사용\t0.0105\n",
      "손목\t0.0097\n",
      "운동\t0.0095\n",
      "만족\t0.0095\n",
      "쿠팡\t0.0088\n",
      "시계\t0.0076\n",
      "아이폰\t0.0074\n",
      "필요\t0.0071\n",
      "폰\t0.0067\n",
      "추천\t0.0066\n",
      "만\t0.0066\n",
      "게\t0.0064\n",
      "분\t0.0064\n",
      "중\t0.0060\n",
      "확인\t0.0055\n",
      "말\t0.0053\n",
      "정도\t0.0052\n",
      "주문\t0.0052\n",
      "착용\t0.0048\n",
      "여자\t0.0048\n",
      "전화\t0.0047\n",
      "화면\t0.0047\n",
      "상품\t0.0046\n",
      "==== Topic : 2 ====\n",
      "사용\t0.0248\n",
      "기능\t0.0193\n",
      "거\t0.0183\n",
      "수\t0.0153\n",
      "구매\t0.0126\n",
      "운동\t0.0121\n",
      "고민\t0.0109\n",
      "생각\t0.0102\n",
      "만족\t0.0082\n",
      "손\t0.0079\n",
      "앱\t0.0077\n",
      "중\t0.0077\n",
      "핸드폰\t0.0075\n",
      "가격\t0.0073\n",
      "필요\t0.0073\n",
      "아이폰\t0.0071\n",
      "시계\t0.0068\n",
      "정도\t0.0067\n",
      "실버\t0.0067\n",
      "폰\t0.0066\n",
      "배송\t0.0063\n",
      "쿠팡\t0.0059\n",
      "원\t0.0057\n",
      "분\t0.0052\n",
      "트랩\t0.0052\n",
      "손목\t0.0052\n",
      "확인\t0.0051\n",
      "게\t0.0045\n",
      "번\t0.0044\n",
      "때문\t0.0042\n",
      "==== Topic : 3 ====\n",
      "구매\t0.0213\n",
      "거\t0.0170\n",
      "고민\t0.0137\n",
      "기능\t0.0120\n",
      "수\t0.0114\n",
      "분\t0.0114\n",
      "사용\t0.0108\n",
      "운동\t0.0097\n",
      "시계\t0.0095\n",
      "정도\t0.0084\n",
      "원\t0.0083\n",
      "핸드폰\t0.0083\n",
      "아이폰\t0.0079\n",
      "손목\t0.0078\n",
      "생각\t0.0076\n",
      "가격\t0.0071\n",
      "전화\t0.0070\n",
      "중\t0.0068\n",
      "확인\t0.0066\n",
      "만족\t0.0064\n",
      "게\t0.0060\n",
      "만\t0.0059\n",
      "때문\t0.0056\n",
      "폰\t0.0055\n",
      "병\t0.0050\n",
      "실버\t0.0049\n",
      "배송\t0.0049\n",
      "화면\t0.0048\n",
      "쿠팡\t0.0048\n",
      "필요\t0.0046\n"
     ]
    }
   ],
   "source": [
    "print_topic_words(model_list[2])"
   ]
  },
  {
   "cell_type": "code",
   "execution_count": 28,
   "metadata": {
    "ExecuteTime": {
     "end_time": "2021-06-03T23:56:38.399327Z",
     "start_time": "2021-06-03T23:56:38.391784Z"
    }
   },
   "outputs": [
    {
     "data": {
      "text/plain": [
       "[('거', 0.020831076),\n",
       " ('구매', 0.01701285),\n",
       " ('기능', 0.016062064),\n",
       " ('수', 0.016003728),\n",
       " ('고민', 0.012656386),\n",
       " ('시계', 0.011858461),\n",
       " ('생각', 0.011401884),\n",
       " ('사용', 0.01029409),\n",
       " ('쿠팡', 0.008830393),\n",
       " ('분', 0.008604475),\n",
       " ('운동', 0.008378202),\n",
       " ('실버', 0.00805488),\n",
       " ('확인', 0.0076926914),\n",
       " ('핸드폰', 0.0074902195),\n",
       " ('손목', 0.0074868477),\n",
       " ('폰', 0.007463421),\n",
       " ('정도', 0.007098145),\n",
       " ('만족', 0.007041561),\n",
       " ('만', 0.006152858),\n",
       " ('배송', 0.0061400197),\n",
       " ('원', 0.0057893666),\n",
       " ('가격', 0.005540407),\n",
       " ('게', 0.0053548533),\n",
       " ('화면', 0.005093483),\n",
       " ('때문', 0.0050921235),\n",
       " ('추천', 0.0050262655),\n",
       " ('아이폰', 0.004895087),\n",
       " ('필요', 0.0048078867),\n",
       " ('주문', 0.0047575156),\n",
       " ('밴드', 0.0045705256)]"
      ]
     },
     "execution_count": 28,
     "metadata": {},
     "output_type": "execute_result"
    }
   ],
   "source": [
    "model_list[0].show_topic(0, NUM_TOPIC_WORDS)"
   ]
  },
  {
   "cell_type": "code",
   "execution_count": 30,
   "metadata": {
    "ExecuteTime": {
     "end_time": "2021-06-03T23:56:48.804604Z",
     "start_time": "2021-06-03T23:56:48.797313Z"
    }
   },
   "outputs": [
    {
     "data": {
      "text/plain": [
       "[('거', 0.024779644),\n",
       " ('고민', 0.01627922),\n",
       " ('구매', 0.014352321),\n",
       " ('사용', 0.0133450795),\n",
       " ('핸드폰', 0.012808723),\n",
       " ('실버', 0.01258032),\n",
       " ('수', 0.012107962),\n",
       " ('기능', 0.011920761),\n",
       " ('쿠팡', 0.010313151),\n",
       " ('밴드', 0.010031216),\n",
       " ('생각', 0.009428467),\n",
       " ('손목', 0.008768265),\n",
       " ('배송', 0.00857113),\n",
       " ('주문', 0.008079448),\n",
       " ('시계', 0.007907029),\n",
       " ('정도', 0.0071872915),\n",
       " ('운동', 0.0071687256),\n",
       " ('분', 0.006805515),\n",
       " ('화면', 0.0067007155),\n",
       " ('만', 0.0061664544),\n",
       " ('제품', 0.0060009477),\n",
       " ('아이폰', 0.0059306594),\n",
       " ('만족', 0.0058801305),\n",
       " ('여자', 0.0057792403),\n",
       " ('공홈', 0.0050788997),\n",
       " ('원', 0.0050514713),\n",
       " ('트랩', 0.005045247),\n",
       " ('사이즈', 0.0049836845),\n",
       " ('그레이', 0.0047239475),\n",
       " ('번', 0.004709086)]"
      ]
     },
     "execution_count": 30,
     "metadata": {},
     "output_type": "execute_result"
    }
   ],
   "source": [
    "model_list[2].show_topic(0, NUM_TOPIC_WORDS)"
   ]
  },
  {
   "cell_type": "code",
   "execution_count": 31,
   "metadata": {
    "ExecuteTime": {
     "end_time": "2021-06-03T23:57:04.212008Z",
     "start_time": "2021-06-03T23:57:03.985486Z"
    }
   },
   "outputs": [
    {
     "data": {
      "image/png": "[encoded data removed]",
      "text/plain": [
       "<Figure size 1152x864 with 1 Axes>"
      ]
     },
     "metadata": {
      "needs_background": "light"
     },
     "output_type": "display_data"
    }
   ],
   "source": [
    "import matplotlib.pyplot as plt\n",
    "%matplotlib inline\n",
    "\n",
    "\n",
    "coherence_list = coherence_scores\n",
    "label = \"Coherenece Score(C_V)\"\n",
    "\n",
    "x = range(start, end, step)\n",
    "plt.figure(figsize=(16, 12))\n",
    "plt.xticks(x)\n",
    "plt.plot(x, coherence_list, label=label)\n",
    "plt.scatter(x, coherence_list)\n",
    "plt.title(f\"Coherence Scores for LDA with Naver News\")\n",
    "plt.xlabel(\"Num Topics\")\n",
    "plt.ylabel(\"Coherence Score\")\n",
    "plt.legend(loc='best')\n",
    "plt.show()"
   ]
  },
  {
   "cell_type": "code",
   "execution_count": 32,
   "metadata": {
    "ExecuteTime": {
     "end_time": "2021-06-03T23:57:19.762524Z",
     "start_time": "2021-06-03T23:57:19.756411Z"
    }
   },
   "outputs": [
    {
     "data": {
      "text/plain": [
       "4"
      ]
     },
     "execution_count": 32,
     "metadata": {},
     "output_type": "execute_result"
    }
   ],
   "source": [
    "# 학습한 LDA 모델중에 가장 coherence score가 높은 모델을 선정\n",
    "# model_list, coherence_list는 여러개의 토픽에 대해서 학습한 모델과 cs를 저장하고 있는 리스트.\n",
    "# np.argmax는 리스트의 최대값을 가지는 원소의 index를 return.\n",
    "# e.g. start,end,step = (2,5,1) -> 2,3,4  -> [0, 1, 2]\n",
    "# 만약에 K=4일 때 베스트라면, np.argmax는 2.\n",
    "selected_model = model_list[np.argmax(coherence_list)]\n",
    "selected_model.num_topics"
   ]
  },
  {
   "cell_type": "code",
   "execution_count": 35,
   "metadata": {
    "ExecuteTime": {
     "end_time": "2021-06-03T23:58:01.921459Z",
     "start_time": "2021-06-03T23:58:01.360784Z"
    }
   },
   "outputs": [
    {
     "data": {
      "text/html": [
       "\n",
       "<link rel=\"stylesheet\" type=\"text/css\" href=\"https://cdn.jsdelivr.net/gh/bmabey/pyLDAvis@3.3.1/pyLDAvis/js/ldavis.v1.0.0.css\">\n",
       "\n",
       "\n",
       "<div id=\"ldavis_el503081404904552240965931779898\"></div>\n",
       "<script type=\"text/javascript\">\n",
       "\n",
       "var ldavis_el503081404904552240965931779898_data = {\"mdsDat\": {\"x\": [-0.008000910134531372, -0.0211022852945001, 0.005520372516748309, 0.02358282291228315], \"y\": [0.023385110300930483, -0.017464050722061072, 0.0023138563325538755, -0.008234915911423292], \"topics\": [1, 2, 3, 4], \"cluster\": [1, 1, 1, 1], \"Freq\": [27.08441473790141, 26.09837272789179, 25.608216749037876, 21.208995785168916]}, \"tinfo\": {\"Term\": [\"\\uad6c\\ub9e4\", \"\\uc0dd\\uac01\", \"\\ubc30\\uc1a1\", \"\\uc0ac\\uc6a9\", \"\\uace0\\ubbfc\", \"\\ubc34\\ub4dc\", \"\\uc190\", \"\\ub9d0\", \"\\uc2e4\\ubc84\", \"\\uc571\", \"\\uc0c1\\ud488\", \"\\uc8fc\\ubb38\", \"\\ud578\\ub4dc\\ud3f0\", \"\\ucfe0\\ud321\", \"\\uc5ec\\uc790\", \"\\uadf8\\ub808\\uc774\", \"\\ubcd1\", \"\\uc545\\uc138\\uc0ac\\ub9ac\", \"\\uae30\\ub2a5\", \"\\uacf5\\ud648\", \"\\ubd84\", \"\\uac70\", \"\\uc190\\ubaa9\", \"\\ucd94\\ucc9c\", \"\\ud31f\", \"\\ucc29\\uc6a9\", \"\\uc2a4\\ud398\\uc774\\uc2a4\", \"\\uacb0\\uc81c\", \"\\uccb4\\ud06c\", \"\\uc140\\ub8f0\\ub7ec\", \"\\uc140\", \"\\uce21\\uc815\", \"\\uc6d4\\uc77c\", \"\\uacb8\", \"\\ub55c\", \"\\ub450\\uaed8\", \"\\uc2dc\\ub9ac\\uc988\", \"\\ud3ec\\uc778\\ud2b8\", \"\\uc544\\ub4e4\", \"\\ud314\\ub69d\", \"\\uc0ac\\uc81c\", \"\\uc2ac\\ub9bd\", \"\\uc553\", \"\\ub300\\ube44\", \"\\uc2ec\\uc804\", \"\\uc720\\uc758\", \"\\ucca8\\ubd80\", \"\\ud574\", \"\\uc0c1\\ub2f4\", \"\\uc571\", \"\\uc2dc\\uae30\", \"\\uace0\\uc0dd\", \"\\ub098\\ub984\", \"\\uc6a9\", \"\\uc720\\ub8cc\", \"\\uc885\\uad6d\", \"\\ub85c\\ub9cc\", \"\\ucd08\", \"\\ud1b5\\uc2e0\\uc0ac\", \"\\uace0\\uc815\", \"\\uc190\", \"\\uac10\\uc131\", \"\\ubb34\\uc74c\", \"\\uc0ac\\uc6a9\", \"\\uc804\", \"\\uc18c\\ub9ac\", \"\\uae30\\ub2a5\", \"\\uace8\\ub4dc\", \"\\ubaa8\\ub378\", \"\\uc6b4\\ub3d9\", \"\\uc6cc\", \"\\uc218\", \"\\uc2dc\", \"\\uc911\", \"\\uac00\\uaca9\", \"\\ud6c4\\uae30\", \"\\ud544\\uc694\", \"\\uac70\", \"\\ub9cc\\uc871\", \"\\ud3f0\", \"\\ud2b8\\ub7a9\", \"\\uc0dd\\uac01\", \"\\uc544\\uc774\\ud3f0\", \"\\uc815\\ub3c4\", \"\\uad6c\\ub9e4\", \"\\ud578\\ub4dc\\ud3f0\", \"\\uace0\\ubbfc\", \"\\uc2e4\\ubc84\", \"\\uc2dc\\uacc4\", \"\\uc6d0\", \"\\ubc30\\uc1a1\", \"\\ud655\\uc778\", \"\\ucfe0\\ud321\", \"\\ubc88\", \"\\uc0ac\\ub78c\", \"\\ubd84\", \"\\uc190\\ubaa9\", \"\\uac8c\", \"\\ub54c\\ubb38\", \"\\uad73\", \"\\uc0c1\\uc704\", \"\\uc18c\\uc18c\", \"\\uc9c0\\uc7a5\", \"\\ub300\\ub300\", \"\\ubbf8\\ud130\", \"\\uad6c\\uc5ec\", \"\\uadf8\\uc9c0\", \"\\uac00\\ub85c\\uc218\\uae38\", \"\\ucfe8\\ud1a4\", \"\\uc6d0\\ub798\", \"\\uae30\\uc068\", \"\\uc2e0\", \"\\uc624\\ub7ab\\ub3d9\\uc548\", \"\\ud074\\ub798\\uc2dd\", \"\\uc601\\uc6d0\", \"\\ud130\\ub9ac\", \"\\ud68c\\uc911\", \"\\ud55c\\ucabd\", \"\\ub300\\uc694\", \"\\uac00\\uc131\", \"\\uacf5\\uc2dd\", \"\\ube44\\uac00\", \"\\ub0ab\", \"\\ubca0\\ub4dc\", \"\\uc9c1\\uc885\", \"\\uc11c\\ube44\\uc2a4\", \"\\ucd94\\uc774\", \"\\uc870\\ubc14\\uc2ec\", \"\\ud3b8\\ucc28\", \"\\uc2e4\\uc6a9\", \"\\ubc30\", \"\\uadf8\\ub808\\uc774\", \"\\ubc34\\ub4dc\", \"\\uc0ac\\uace0\", \"\\uc2e4\\ubc84\", \"\\uc2a4\\ud398\\uc774\\uc2a4\", \"\\uacf5\\ud648\", \"\\uc8fc\\ubb38\", \"\\ud578\\ub4dc\\ud3f0\", \"\\uac70\", \"\\ube14\\ub799\", \"\\uc5ec\\uc790\", \"\\ub0a0\", \"\\ucfe0\\ud321\", \"\\uc824\", \"\\ubc84\", \"\\uc0c1\\uc790\", \"\\uc81c\\ud488\", \"\\uc2a4\\ud3ec\\uce20\", \"\\ud654\\uba74\", \"\\uc55e\", \"\\uc785\\ubb38\", \"\\uace0\\ubbfc\", \"\\uc0ac\\uc774\\uc988\", \"\\ubd88\\ud3b8\", \"\\ud3c9\\uc18c\", \"\\uac80\\uc0c9\", \"\\uc190\\ubaa9\", \"\\ubc30\\uc1a1\", \"\\uc218\", \"\\uc0ac\\uc6a9\", \"\\uad6c\\ub9e4\", \"\\uc2dc\\uacc4\", \"\\uae30\\ub2a5\", \"\\uc815\\ub3c4\", \"\\ub9cc\", \"\\uc0dd\\uac01\", \"\\ud2b8\\ub7a9\", \"\\ubd84\", \"\\ubc88\", \"\\uc6b4\\ub3d9\", \"\\uc544\\uc774\\ud3f0\", \"\\ub9cc\\uc871\", \"\\uc6d0\", \"\\uc9c1\\uc7a5\\uc778\", \"\\uc790\\ub3d9\\ucc28\", \"\\uae30\\uc544\", \"\\uc0b0\\uc9c0\", \"\\uccab\\ub0a0\", \"\\u3137\", \"\\uc8fc\\uc815\", \"\\uc218\\uace0\", \"\\uc900\\ube44\", \"\\uc800\\uac00\", \"\\ud3ec\\ud654\\ub3c4\", \"\\ud3c9\\uac00\", \"\\ud328\\ud134\", \"\\ubcf8\\ub3c4\", \"\\ud2b8\\ub798\\ud0b9\", \"\\uba54\\ud0c8\", \"\\ub300\\uae30\", \"\\uc18c\\uc2dd\", \"\\uc218\\uc2e0\", \"\\ubdf0\", \"\\uc5f0\\uacac\", \"\\uc720\\ud22c\", \"\\ub7c9\", \"\\uc124\\uce58\", \"\\ud3b8\\uc758\", \"\\uc0ac\\uac01\", \"\\ub098\\uc911\", \"\\ub178\\uce58\", \"\\uc81c\\uacf5\", \"\\ub2f4\\ub0a0\", \"\\ubd80\\ubd84\", \"\\ubd80\\ub2f4\", \"\\uc54c\\ub78c\", \"\\ubd84\", \"\\ub2ec\", \"\\uc804\\ud654\", \"\\uc644\\uce58\", \"\\uc6d0\", \"\\uad6c\\ub9e4\", \"\\ubcd1\", \"\\uccb4\\ud06c\", \"\\uac24\", \"\\uc7a5\\uc810\", \"\\uc2dc\\uacc4\", \"\\uc815\\ub3c4\", \"\\uac00\\uaca9\", \"\\ubc30\\ud130\\ub9ac\", \"\\ud655\\uc778\", \"\\uac70\", \"\\ub54c\\ubb38\", \"\\uac24\\ub7ed\\uc2dc\", \"\\uc544\\uc774\\ud3f0\", \"\\uac00\\ub2a5\", \"\\uc911\", \"\\uace0\\ubbfc\", \"\\ucc29\\uc6a9\", \"\\uc6b4\\ub3d9\", \"\\uac8c\", \"\\uc218\", \"\\ud578\\ub4dc\\ud3f0\", \"\\uc190\\ubaa9\", \"\\uae30\\ub2a5\", \"\\ub9cc\", \"\\uc0ac\\uc6a9\", \"\\ub9cc\\uc871\", \"\\uc0dd\\uac01\", \"\\ud3f0\", \"\\ud654\\uba74\", \"\\uc2e4\\ubc84\", \"\\ucd94\\ucc9c\", \"\\ubc30\\uc1a1\", \"\\ucfe0\\ud321\", \"\\ud544\\uc694\", \"\\uc8fc\\ubcc0\\uae30\\uae30\", \"\\uad7f\", \"\\uc8fc\\ub9d0\", \"\\ub09c\", \"\\uc7a5\\ub2e8\\uc810\", \"\\ub204\\ub098\", \"\\uc695\\uc2ec\", \"\\ub189\", \"\\uac70\\uc9d3\\ub9d0\", \"\\uc4f0\\uc784\\uc0c8\", \"\\uc5b4\\ud0dc\", \"\\uacb0\\uc7ac\", \"\\uc911\\uc810\", \"\\ucde8\\ud5a5\", \"\\ubd84\\uc11d\", \"\\ub098\\ud758\", \"\\uad6c\\uc11d\", \"\\ub3d9\\uac10\", \"\\uc808\", \"\\uc0dd\\uc77c\", \"\\uc0bf\", \"\\ub2e4\\ud589\", \"\\uc815\\ub2f5\", \"\\uc138\\uc5ec\", \"\\uc545\\uc138\\uc0ac\\ub9ac\", \"\\uc5b5\", \"\\uc778\\uad6c\", \"\\uae30\\ub300\", \"\\uae00\\uc790\", \"\\ud328\\ub4dc\", \"\\ud15c\", \"\\uacb0\\uc81c\", \"\\uc5f0\\ub77d\", \"\\uc0c1\\ud488\", \"\\ub9d0\", \"\\uc0dd\\uac01\", \"\\ubc30\\uc1a1\", \"\\uad6c\\ub9e4\", \"\\uace0\\ubbfc\", \"\\ub85c\\ucf13\", \"\\ud31f\", \"\\ucd94\\ucc9c\", \"\\uc7ac\\ubbf8\", \"\\ucd5c\\uace0\", \"\\ub9cc\\uc871\", \"\\uc190\\ubaa9\", \"\\uae30\\ub2a5\", \"\\uc0b6\", \"\\uc140\\ub8f0\\ub7ec\", \"\\ucfe0\\ud321\", \"\\ucc29\\uc6a9\", \"\\uc218\", \"\\ud544\\uc694\", \"\\uac8c\", \"\\ud3ec\\uc7a5\", \"\\uc120\\ubb3c\", \"\\ud3f0\", \"\\ub9cc\", \"\\uc6b4\\ub3d9\", \"\\ubcd1\", \"\\uc544\\uc774\\ud3f0\", \"\\uc5ec\\uc790\", \"\\uc2dc\\uacc4\", \"\\uac70\", \"\\uc0ac\\uc6a9\", \"\\uc911\", \"\\ud655\\uc778\", \"\\ubd84\", \"\\uc8fc\\ubb38\", \"\\uc815\\ub3c4\", \"\\uc804\\ud654\", \"\\ud654\\uba74\"], \"Freq\": [116.0, 72.0, 51.0, 97.0, 96.0, 33.0, 26.0, 16.0, 47.0, 24.0, 14.0, 31.0, 53.0, 47.0, 23.0, 14.0, 21.0, 7.0, 95.0, 17.0, 47.0, 117.0, 49.0, 27.0, 16.0, 21.0, 13.0, 6.0, 18.0, 18.0, 2.908104574338177, 4.230220680144945, 2.6353626189306647, 2.079552143616196, 0.998556951815246, 0.9920920837017863, 3.452101451740526, 3.4513726611539015, 1.46410220373682, 0.9731553093453124, 0.9666605827546415, 1.915963640542722, 0.9520116482208123, 1.4291229976838806, 0.9407936964612229, 0.9404362072102587, 0.9336579266455275, 0.9305843315628056, 0.9285762981906283, 13.390714553659944, 0.9217161607121819, 0.9202226274949433, 2.283618382724556, 1.8151748273245685, 2.266147720534821, 0.899398980185724, 0.9053800190970265, 2.695880877384377, 0.9031720151750909, 2.7087265223897625, 13.81764690409953, 1.337811508875238, 3.410900409329115, 43.19251428156215, 5.505106159213669, 4.631943132349206, 33.715626983907974, 6.931607704469741, 6.564547085048742, 21.168236885552755, 2.7763665354555815, 26.71712816572941, 7.060301397390148, 13.363065197524572, 12.789210452267685, 5.80640500596866, 12.67634622088486, 31.92738775293021, 14.24682737444234, 11.48637418862698, 9.031060015349981, 17.77920303748688, 12.306556089785191, 11.7591872356469, 21.990177796320825, 13.07977527802469, 18.948717747358334, 11.60543029633162, 11.865760468688327, 9.925762988298395, 10.992411791156032, 8.918218533283126, 10.284024903530037, 7.621666768179258, 7.245679885904354, 9.047185217995178, 9.01786378713598, 7.824488294713807, 7.30917160182674, 1.8302312801351022, 1.6348551824360966, 1.018885717311487, 1.0188727995212077, 1.018787855263917, 1.0187248321052818, 1.0184665741617442, 1.0182969792333054, 1.0179375319325805, 1.017772145072187, 1.0177032501906977, 1.0176346488953512, 1.0174220925280288, 1.017351240405588, 1.0172459408424026, 1.017199652093902, 1.0164181257820073, 1.0161349130163395, 1.016055351171665, 1.0157361251724915, 1.0051111448057601, 1.0040630422762844, 1.0010005473596262, 0.9791483435854171, 0.9712517571049396, 0.9701054010797037, 0.96805802918249, 0.9700243713043156, 0.9670526923678026, 0.9646709258540419, 2.385753217854576, 3.7892176990172106, 7.942169839339284, 16.86505205350825, 4.79095514759504, 21.15075053832543, 6.956457888223341, 8.538935737007169, 13.583627992990108, 21.534754949819387, 41.66094778441821, 4.061128181087065, 9.716388406478984, 5.6098812024854805, 17.339058232911462, 1.8244041823745893, 1.8194277015315554, 2.5588279249810255, 10.08913476802048, 7.683121953353851, 11.265624474944206, 3.8451082801772456, 3.8370283980816695, 27.36955327913157, 8.378854565384788, 7.666728886041291, 5.336647234084289, 3.368353743030075, 14.74170710862857, 14.410272623296498, 20.356594542019543, 22.436507527291244, 24.12993901692089, 13.293748081745434, 20.041862368070355, 12.083683863541365, 10.367394148288492, 15.851675675888815, 8.48235659848043, 11.441819219871284, 7.91718370135369, 12.052469784848412, 9.970962039649512, 9.886009953394876, 8.492821574399384, 1.0513284057976526, 1.05098108665941, 1.0490636776042745, 1.0430216497313156, 1.042953280578308, 1.5699165934083708, 1.4590439127709767, 0.9775036440426392, 0.9596939598046053, 0.9566664162299171, 0.9449192129962897, 0.9457733472884287, 0.9463252937652376, 0.9413243590901842, 0.9388241798249315, 1.398508597180006, 1.3871951347667935, 1.8310785958497988, 0.9190999672545009, 0.9086228746765365, 0.907954066880612, 0.8788362015543872, 1.7310531806623417, 1.3102598646222063, 1.2706430132252, 1.279060965189266, 1.2717671672620827, 0.8457076019826244, 2.4938816212487316, 1.2246356625278967, 4.309032316977758, 3.139845093804063, 7.24153470296155, 18.74752081007986, 6.340231840789122, 11.504668656585634, 2.3520582634544147, 13.688529201232122, 35.10109188663351, 8.167103237102577, 7.227205603960971, 4.44487951942575, 6.509900264579445, 15.636226559342878, 13.79407427323585, 11.651174533168243, 6.8529113779897015, 10.830210803128907, 27.96263942978196, 9.165611670997261, 7.200003899376695, 13.03753041737705, 5.979632954815832, 11.290103976858473, 22.669336747071537, 7.228128971622939, 16.008558821080648, 9.879041478053805, 18.874131263137244, 13.681300507638841, 12.826761377930909, 19.856654374504558, 9.715314256840575, 17.812044894294566, 10.625665661184653, 12.56232101698831, 9.126335513076198, 7.869729685614017, 8.108358002621674, 7.50530443165049, 8.107635133262347, 7.841198239413378, 7.549513155093599, 1.7146958418216351, 1.711657229602684, 0.9549668376839898, 0.9549484666773269, 0.9548722786929845, 0.9548089742717564, 0.9546938174854016, 0.9544871237784016, 0.953977586810049, 0.9538486716507388, 0.9537927633490764, 0.9535818546492056, 0.9530594341177386, 0.9507041279128481, 0.9501991240500356, 0.9497493922635466, 0.9490407167640943, 0.9489351828859917, 0.9472465613081809, 0.9473299068275868, 1.7972743915814056, 0.8577763391484508, 0.8519759522611704, 0.8447832657477077, 3.79539048949486, 0.8301836438378818, 0.8233482773804216, 1.6452287829038248, 0.8206695301188289, 1.6348599004418571, 2.434890360092459, 3.1404722138340087, 2.7257086444258958, 6.323912542161127, 7.175438444523139, 26.228806963123883, 17.685914128130662, 34.88001079982445, 27.428109541403863, 3.8157678327642652, 6.000479756388413, 9.011853259902036, 2.266635638453777, 2.8477846994546594, 12.962645923906582, 13.302324087484719, 21.587158835186404, 3.2290665922864705, 6.0858910994699755, 11.980801349136698, 6.557818243134439, 17.619406948546107, 9.68415575672508, 8.774746073022996, 6.169596086192404, 4.47555673150765, 9.218769009545293, 8.963281272623224, 12.978996915118275, 6.238384133617192, 10.10476878189974, 6.5013373386668105, 10.374214666533613, 16.20105580340859, 14.412602198983087, 8.199073480683687, 7.495983403482239, 8.70460095695017, 7.074856944459023, 7.154169431441158, 6.372859266164597, 6.365709365805181], \"Total\": [116.0, 72.0, 51.0, 97.0, 96.0, 33.0, 26.0, 16.0, 47.0, 24.0, 14.0, 31.0, 53.0, 47.0, 23.0, 14.0, 21.0, 7.0, 95.0, 17.0, 47.0, 117.0, 49.0, 27.0, 16.0, 21.0, 13.0, 6.0, 18.0, 18.0, 4.26011954659647, 6.782587970150297, 4.248726302052612, 3.3936231862230413, 1.6903796001525975, 1.6900050388789611, 5.923129682021719, 5.932104379191714, 2.5341201145512415, 1.688886683539521, 1.6917720364929874, 3.373164830200514, 1.6872058602104292, 2.5383388181748963, 1.6867750616701587, 1.6868321107434399, 1.6906640025002542, 1.6862598009234098, 1.6854662182548505, 24.467461601626795, 1.685004077995023, 1.6853646688792592, 4.213617760506082, 3.3554950903766922, 4.2047251922805975, 1.672678761026201, 1.6842312451001802, 5.024848799011581, 1.6840470263731568, 5.069642326004676, 26.73558220496266, 2.528480864224353, 6.70864835336865, 97.85366890213103, 11.779659493553599, 10.038850000863416, 95.2013025616693, 16.67427542847072, 15.914311009549046, 62.20826240660009, 5.89518330955863, 83.5672609194323, 17.574165677613003, 38.21082351414881, 36.70451397308945, 14.177522747094919, 37.13040383163787, 117.75203077053898, 47.721148912928456, 36.32103794485952, 27.51320063984035, 72.42200669348789, 45.41981732871149, 44.79111480386527, 116.10121949969968, 53.94982471716615, 96.41571731496529, 47.1058184324136, 51.169949776310254, 38.21176269506892, 51.19623367584554, 34.69660374787414, 47.44508272499158, 25.743080852039277, 23.946289848944975, 47.94112620489649, 49.888656361180175, 32.87939088384153, 28.241005437510648, 2.4567966379295734, 2.466441069759354, 1.6404942027250766, 1.6405211282957926, 1.640469032387212, 1.640503526022887, 1.6405194284323177, 1.6405206951034106, 1.640563346240361, 1.6404796816292477, 1.6404385941373485, 1.640501408447374, 1.6405127274719415, 1.6404625684252248, 1.640475746242173, 1.640495240227676, 1.640541762199028, 1.6404631840275063, 1.6405124312469055, 1.6405050809607382, 1.639619028852208, 1.6395581775547647, 1.6393793053721746, 1.6381182243334211, 1.6376012848153922, 1.6374882522308587, 1.637413157121934, 1.641500658048716, 1.6372749935667759, 1.6412573588669228, 4.086250060646037, 6.560452708608632, 14.793282467704767, 33.73334721252138, 9.067439911620754, 47.1058184324136, 13.956043162290603, 17.94785231998695, 31.0416169768084, 53.94982471716615, 117.75203077053898, 8.267749949069088, 23.593743185247483, 12.287484217426195, 47.44508272499158, 3.2846226238740353, 3.292222275703827, 4.967022198404024, 26.347540271216314, 18.97183647329111, 30.3356872207357, 8.278569465437101, 8.316704233083028, 96.41571731496529, 22.15179782153398, 19.86793628114109, 13.106541241572543, 7.371786406459208, 49.888656361180175, 51.19623367584554, 83.5672609194323, 97.85366890213103, 116.10121949969968, 51.169949776310254, 95.2013025616693, 44.79111480386527, 36.074927080699325, 72.42200669348789, 27.51320063984035, 47.94112620489649, 25.743080852039277, 62.20826240660009, 45.41981732871149, 47.721148912928456, 38.21176269506892, 1.6680034018442205, 1.6679646115691127, 1.6678772059796376, 1.6671796637715663, 1.6671967223243178, 2.5186546564586596, 2.488394595054649, 1.670365341079903, 1.6709960973686442, 1.6694267278142114, 1.665985184282748, 1.669545769101054, 1.6714451902426068, 1.6697259298799338, 1.6715588789132578, 2.4972148349725205, 2.5078285939002556, 3.3182637530159558, 1.6702547586423675, 1.6700539510006422, 1.670686729904095, 1.6714531240191735, 3.2983764944918312, 2.499555856501579, 2.474801599879167, 2.495392730085177, 2.4990429207385434, 1.67235143265003, 4.973968436781622, 2.4870103973463618, 9.132346958408956, 6.688359313448988, 16.64967341076934, 47.94112620489649, 15.037896416303921, 29.691428829454786, 4.963355393282149, 38.21176269506892, 116.10121949969968, 21.265875187817816, 18.850653371572434, 10.919713980299088, 17.391618593895902, 51.169949776310254, 44.79111480386527, 36.70451397308945, 19.17236755692378, 34.69660374787414, 117.75203077053898, 28.241005437510648, 20.79660443986988, 45.41981732871149, 16.546194392505015, 38.21082351414881, 96.41571731496529, 21.282444246785232, 62.20826240660009, 32.87939088384153, 83.5672609194323, 53.94982471716615, 49.888656361180175, 95.2013025616693, 36.074927080699325, 97.85366890213103, 47.721148912928456, 72.42200669348789, 36.32103794485952, 30.3356872207357, 47.1058184324136, 27.71493609945954, 51.19623367584554, 47.44508272499158, 37.13040383163787, 2.3549312750747244, 2.3551464990835207, 1.589414713462343, 1.589396653941189, 1.5893714054080657, 1.5893909002932602, 1.5894810578048784, 1.5894484350570401, 1.5894531675727492, 1.5895588727153682, 1.5895113160362055, 1.5896103864265458, 1.5896416663918038, 1.5897160565488682, 1.589703379311398, 1.589957256682207, 1.5897978345317751, 1.5898208924184, 1.5898977987018088, 1.5901110815455457, 3.184969459334673, 1.5961165721076527, 1.5964291485300017, 1.5969136003738114, 7.227513294152592, 1.6024330851146926, 1.6030710054820592, 3.2075748204664642, 1.6033846788661466, 3.214878182490093, 4.791155631066145, 6.415508999363931, 5.604943980515638, 14.467704527789008, 16.94067376352941, 72.42200669348789, 51.19623367584554, 116.10121949969968, 96.41571731496529, 8.900378683399188, 16.266187898665553, 27.71493609945954, 4.8137610670221935, 6.480574215240219, 47.721148912928456, 49.888656361180175, 95.2013025616693, 8.067690785802363, 18.86229951775975, 47.44508272499158, 21.282444246785232, 83.5672609194323, 37.13040383163787, 32.87939088384153, 20.42886679156381, 13.11337004499448, 36.32103794485952, 36.074927080699325, 62.20826240660009, 21.265875187817816, 45.41981732871149, 23.593743185247483, 51.169949776310254, 117.75203077053898, 97.85366890213103, 38.21082351414881, 34.69660374787414, 47.94112620489649, 31.0416169768084, 44.79111480386527, 29.691428829454786, 30.3356872207357], \"Category\": [\"Default\", \"Default\", \"Default\", \"Default\", \"Default\", \"Default\", \"Default\", \"Default\", \"Default\", \"Default\", \"Default\", \"Default\", \"Default\", \"Default\", \"Default\", \"Default\", \"Default\", \"Default\", \"Default\", \"Default\", \"Default\", \"Default\", \"Default\", \"Default\", \"Default\", \"Default\", \"Default\", \"Default\", \"Default\", \"Default\", \"Topic1\", \"Topic1\", \"Topic1\", \"Topic1\", \"Topic1\", \"Topic1\", \"Topic1\", \"Topic1\", \"Topic1\", \"Topic1\", \"Topic1\", \"Topic1\", \"Topic1\", \"Topic1\", \"Topic1\", \"Topic1\", \"Topic1\", \"Topic1\", \"Topic1\", \"Topic1\", \"Topic1\", \"Topic1\", \"Topic1\", \"Topic1\", \"Topic1\", \"Topic1\", \"Topic1\", \"Topic1\", \"Topic1\", \"Topic1\", \"Topic1\", \"Topic1\", \"Topic1\", \"Topic1\", \"Topic1\", \"Topic1\", \"Topic1\", \"Topic1\", \"Topic1\", \"Topic1\", \"Topic1\", \"Topic1\", \"Topic1\", \"Topic1\", \"Topic1\", \"Topic1\", \"Topic1\", \"Topic1\", \"Topic1\", \"Topic1\", \"Topic1\", \"Topic1\", \"Topic1\", \"Topic1\", \"Topic1\", \"Topic1\", \"Topic1\", \"Topic1\", \"Topic1\", \"Topic1\", \"Topic1\", \"Topic1\", \"Topic1\", \"Topic1\", \"Topic1\", \"Topic1\", \"Topic1\", \"Topic1\", \"Topic1\", \"Topic2\", \"Topic2\", \"Topic2\", \"Topic2\", \"Topic2\", \"Topic2\", \"Topic2\", \"Topic2\", \"Topic2\", \"Topic2\", \"Topic2\", \"Topic2\", \"Topic2\", \"Topic2\", \"Topic2\", \"Topic2\", \"Topic2\", \"Topic2\", \"Topic2\", \"Topic2\", \"Topic2\", \"Topic2\", \"Topic2\", \"Topic2\", \"Topic2\", \"Topic2\", \"Topic2\", \"Topic2\", \"Topic2\", \"Topic2\", \"Topic2\", \"Topic2\", \"Topic2\", \"Topic2\", \"Topic2\", \"Topic2\", \"Topic2\", \"Topic2\", \"Topic2\", \"Topic2\", \"Topic2\", \"Topic2\", \"Topic2\", \"Topic2\", \"Topic2\", \"Topic2\", \"Topic2\", \"Topic2\", \"Topic2\", \"Topic2\", \"Topic2\", \"Topic2\", \"Topic2\", \"Topic2\", \"Topic2\", \"Topic2\", \"Topic2\", \"Topic2\", \"Topic2\", \"Topic2\", \"Topic2\", \"Topic2\", \"Topic2\", \"Topic2\", \"Topic2\", \"Topic2\", \"Topic2\", \"Topic2\", \"Topic2\", \"Topic2\", \"Topic2\", \"Topic2\", \"Topic2\", \"Topic2\", \"Topic2\", \"Topic3\", \"Topic3\", \"Topic3\", \"Topic3\", \"Topic3\", \"Topic3\", \"Topic3\", \"Topic3\", \"Topic3\", \"Topic3\", \"Topic3\", \"Topic3\", \"Topic3\", \"Topic3\", \"Topic3\", \"Topic3\", \"Topic3\", \"Topic3\", \"Topic3\", \"Topic3\", \"Topic3\", \"Topic3\", \"Topic3\", \"Topic3\", \"Topic3\", \"Topic3\", \"Topic3\", \"Topic3\", \"Topic3\", \"Topic3\", \"Topic3\", \"Topic3\", \"Topic3\", \"Topic3\", \"Topic3\", \"Topic3\", \"Topic3\", \"Topic3\", \"Topic3\", \"Topic3\", \"Topic3\", \"Topic3\", \"Topic3\", \"Topic3\", \"Topic3\", \"Topic3\", \"Topic3\", \"Topic3\", \"Topic3\", \"Topic3\", \"Topic3\", \"Topic3\", \"Topic3\", \"Topic3\", \"Topic3\", \"Topic3\", \"Topic3\", \"Topic3\", \"Topic3\", \"Topic3\", \"Topic3\", \"Topic3\", \"Topic3\", \"Topic3\", \"Topic3\", \"Topic3\", \"Topic3\", \"Topic3\", \"Topic3\", \"Topic3\", \"Topic3\", \"Topic3\", \"Topic3\", \"Topic4\", \"Topic4\", \"Topic4\", \"Topic4\", \"Topic4\", \"Topic4\", \"Topic4\", \"Topic4\", \"Topic4\", \"Topic4\", \"Topic4\", \"Topic4\", \"Topic4\", \"Topic4\", \"Topic4\", \"Topic4\", \"Topic4\", \"Topic4\", \"Topic4\", \"Topic4\", \"Topic4\", \"Topic4\", \"Topic4\", \"Topic4\", \"Topic4\", \"Topic4\", \"Topic4\", \"Topic4\", \"Topic4\", \"Topic4\", \"Topic4\", \"Topic4\", \"Topic4\", \"Topic4\", \"Topic4\", \"Topic4\", \"Topic4\", \"Topic4\", \"Topic4\", \"Topic4\", \"Topic4\", \"Topic4\", \"Topic4\", \"Topic4\", \"Topic4\", \"Topic4\", \"Topic4\", \"Topic4\", \"Topic4\", \"Topic4\", \"Topic4\", \"Topic4\", \"Topic4\", \"Topic4\", \"Topic4\", \"Topic4\", \"Topic4\", \"Topic4\", \"Topic4\", \"Topic4\", \"Topic4\", \"Topic4\", \"Topic4\", \"Topic4\", \"Topic4\", \"Topic4\", \"Topic4\", \"Topic4\", \"Topic4\", \"Topic4\", \"Topic4\", \"Topic4\"], \"logprob\": [30.0, 29.0, 28.0, 27.0, 26.0, 25.0, 24.0, 23.0, 22.0, 21.0, 20.0, 19.0, 18.0, 17.0, 16.0, 15.0, 14.0, 13.0, 12.0, 11.0, 10.0, 9.0, 8.0, 7.0, 6.0, 5.0, 4.0, 3.0, 2.0, 1.0, -6.3969, -6.0221, -6.4954, -6.7322, -7.4658, -7.4723, -6.2254, -6.2256, -7.0831, -7.4916, -7.4983, -6.8142, -7.5136, -7.1073, -7.5254, -7.5258, -7.533, -7.5363, -7.5385, -4.8698, -7.5459, -7.5475, -6.6386, -6.8682, -6.6463, -7.5704, -7.5638, -6.4727, -7.5662, -6.4679, -4.8384, -7.1733, -6.2374, -3.6987, -5.7587, -5.9314, -3.9464, -5.5283, -5.5827, -4.4119, -6.4432, -4.1791, -5.5099, -4.8719, -4.9158, -5.7054, -4.9246, -4.0009, -4.8078, -5.0232, -5.2637, -4.5864, -4.9543, -4.9997, -4.3738, -4.8933, -4.5226, -5.0129, -4.9907, -5.1692, -5.0672, -5.2763, -5.1338, -5.4334, -5.484, -5.2619, -5.2652, -5.4071, -5.4753, -6.8229, -6.9357, -7.4086, -7.4086, -7.4087, -7.4087, -7.409, -7.4092, -7.4095, -7.4097, -7.4097, -7.4098, -7.41, -7.4101, -7.4102, -7.4102, -7.411, -7.4113, -7.4114, -7.4117, -7.4222, -7.4232, -7.4263, -7.4484, -7.4565, -7.4576, -7.4598, -7.4577, -7.4608, -7.4633, -6.5578, -6.0951, -5.3551, -4.6021, -5.8606, -4.3756, -5.4876, -5.2827, -4.8184, -4.3576, -3.6977, -6.0258, -5.1535, -5.7028, -4.5743, -6.826, -6.8288, -6.4877, -5.1158, -5.3883, -5.0055, -6.0805, -6.0826, -4.1179, -5.3016, -5.3904, -5.7527, -6.2129, -4.7366, -4.7594, -4.4139, -4.3166, -4.2438, -4.84, -4.4295, -4.9354, -5.0886, -4.664, -5.2893, -4.99, -5.3583, -4.938, -5.1276, -5.1362, -5.2881, -7.3583, -7.3586, -7.3604, -7.3662, -7.3663, -6.9573, -7.0306, -7.4311, -7.4495, -7.4526, -7.465, -7.4641, -7.4635, -7.4688, -7.4715, -7.0729, -7.0811, -6.8034, -7.4927, -7.5042, -7.5049, -7.5375, -6.8596, -7.1381, -7.1688, -7.1622, -7.1679, -7.5759, -6.4945, -7.2057, -5.9476, -6.2642, -5.4285, -4.4773, -5.5614, -4.9656, -6.553, -4.7918, -3.8501, -5.3082, -5.4305, -5.9166, -5.535, -4.6587, -4.7841, -4.9529, -5.4837, -5.026, -4.0775, -5.1929, -5.4343, -4.8405, -5.62, -4.9844, -4.2873, -5.4304, -4.6352, -5.1179, -4.4705, -4.7923, -4.8568, -4.4198, -5.1346, -4.5285, -5.0451, -4.8776, -5.1972, -5.3453, -5.3154, -5.3927, -5.3155, -5.3489, -5.3869, -6.6806, -6.6824, -7.2659, -7.2659, -7.266, -7.2661, -7.2662, -7.2664, -7.267, -7.2671, -7.2672, -7.2674, -7.2679, -7.2704, -7.2709, -7.2714, -7.2722, -7.2723, -7.274, -7.274, -6.6336, -7.3733, -7.38, -7.3885, -5.8861, -7.406, -7.4142, -6.722, -7.4175, -6.7283, -6.3299, -6.0755, -6.2171, -5.3755, -5.2492, -3.953, -4.3471, -3.6679, -3.9083, -5.8807, -5.428, -5.0213, -6.4016, -6.1733, -4.6578, -4.6319, -4.1478, -6.0477, -5.4139, -4.7365, -5.3392, -4.3508, -4.9494, -5.048, -5.4002, -5.7212, -4.9986, -5.0267, -4.6565, -5.3891, -4.9068, -5.3478, -4.8805, -4.4348, -4.5517, -5.1158, -5.2055, -5.056, -5.2633, -5.2522, -5.3678, -5.3689], \"loglift\": [30.0, 29.0, 28.0, 27.0, 26.0, 25.0, 24.0, 23.0, 22.0, 21.0, 20.0, 19.0, 18.0, 17.0, 16.0, 15.0, 14.0, 13.0, 12.0, 11.0, 10.0, 9.0, 8.0, 7.0, 6.0, 5.0, 4.0, 3.0, 2.0, 1.0, 0.9244, 0.8341, 0.8286, 0.8165, 0.7798, 0.7735, 0.7663, 0.7646, 0.7576, 0.7549, 0.7465, 0.7406, 0.734, 0.7318, 0.7224, 0.7219, 0.7124, 0.7118, 0.7101, 0.7034, 0.7029, 0.7011, 0.6937, 0.6918, 0.6881, 0.6858, 0.6855, 0.6835, 0.6832, 0.6794, 0.6462, 0.6696, 0.6298, 0.4884, 0.5455, 0.5327, 0.2682, 0.4284, 0.4207, 0.2282, 0.5532, 0.1659, 0.3943, 0.2556, 0.2519, 0.4135, 0.2315, 0.0011, 0.0974, 0.155, 0.1922, -0.0983, 0.0004, -0.0312, -0.3577, -0.1108, -0.3207, -0.0947, -0.1553, -0.0418, -0.2322, -0.0523, -0.2228, 0.089, 0.1108, -0.3613, -0.4044, -0.1294, -0.0454, 1.0489, 0.9321, 0.867, 0.867, 0.8669, 0.8668, 0.8666, 0.8664, 0.866, 0.8659, 0.8659, 0.8658, 0.8656, 0.8655, 0.8654, 0.8654, 0.8646, 0.8643, 0.8642, 0.8639, 0.8539, 0.8529, 0.85, 0.8287, 0.8209, 0.8198, 0.8177, 0.8173, 0.8168, 0.8119, 0.8052, 0.7944, 0.7213, 0.6501, 0.7053, 0.5426, 0.6471, 0.6005, 0.5168, 0.4249, 0.3043, 0.6324, 0.4561, 0.5592, 0.3367, 0.7553, 0.7503, 0.68, 0.3834, 0.4394, 0.3527, 0.5764, 0.5697, 0.0841, 0.3711, 0.3911, 0.4448, 0.5601, 0.1242, 0.0756, -0.0689, -0.1295, -0.2277, -0.0046, -0.2149, 0.0331, 0.0964, -0.1759, 0.1666, -0.0894, 0.1642, -0.2979, -0.173, -0.231, -0.1606, 0.9007, 0.9004, 0.8986, 0.8932, 0.8932, 0.8896, 0.8284, 0.8265, 0.8077, 0.8055, 0.7952, 0.794, 0.7934, 0.7891, 0.7854, 0.7825, 0.7701, 0.7677, 0.7649, 0.7536, 0.7525, 0.7194, 0.7176, 0.7164, 0.6956, 0.6939, 0.6868, 0.6804, 0.6719, 0.6538, 0.6111, 0.6061, 0.5297, 0.4233, 0.4986, 0.4142, 0.6155, 0.3357, 0.166, 0.4053, 0.4036, 0.4634, 0.3796, 0.1767, 0.1845, 0.2148, 0.3335, 0.198, -0.0755, 0.2369, 0.3015, 0.1141, 0.3445, 0.1431, -0.0854, 0.2824, 0.0049, 0.1598, -0.1256, -0.0098, 0.004, -0.2052, 0.0504, -0.3413, -0.1398, -0.3896, -0.019, 0.013, -0.3972, 0.0559, -0.4806, -0.4379, -0.2307, 1.2335, 1.2316, 1.0413, 1.0413, 1.0412, 1.0411, 1.041, 1.0408, 1.0402, 1.04, 1.04, 1.0397, 1.0392, 1.0366, 1.0361, 1.0355, 1.0348, 1.0347, 1.0329, 1.0328, 0.9786, 0.9298, 0.9228, 0.914, 0.9066, 0.8931, 0.8844, 0.8831, 0.881, 0.8745, 0.8739, 0.8364, 0.8298, 0.7232, 0.6917, 0.5351, 0.4878, 0.3482, 0.2936, 0.7038, 0.5535, 0.4273, 0.7976, 0.7285, 0.2474, 0.2289, 0.0668, 0.6351, 0.4196, 0.1745, 0.3735, -0.0059, 0.2068, 0.2298, 0.3534, 0.4757, 0.1796, 0.1583, -0.0164, 0.3244, 0.0478, 0.2618, -0.0451, -0.4328, -0.3646, 0.0116, 0.0185, -0.1554, 0.072, -0.2836, 0.0119, -0.0107]}, \"token.table\": {\"Topic\": [1, 3, 1, 2, 3, 4, 1, 2, 3, 4, 2, 2, 1, 2, 1, 2, 3, 4, 1, 2, 3, 4, 1, 2, 3, 4, 4, 1, 2, 3, 4, 1, 2, 3, 4, 4, 1, 2, 3, 4, 1, 2, 1, 2, 3, 4, 1, 1, 2, 3, 4, 1, 2, 3, 4, 2, 1, 2, 3, 4, 1, 2, 3, 4, 4, 2, 2, 4, 1, 2, 3, 4, 2, 4, 1, 2, 3, 4, 1, 2, 4, 2, 3, 1, 2, 3, 3, 4, 4, 1, 2, 3, 4, 2, 3, 4, 4, 4, 1, 2, 3, 4, 3, 3, 2, 1, 3, 2, 4, 1, 1, 2, 3, 4, 1, 3, 4, 1, 1, 2, 3, 4, 1, 2, 3, 4, 1, 2, 3, 4, 1, 2, 3, 4, 3, 1, 2, 3, 4, 1, 2, 3, 4, 2, 1, 2, 3, 4, 1, 2, 3, 4, 1, 2, 3, 4, 1, 2, 3, 4, 2, 3, 1, 2, 3, 4, 2, 1, 2, 3, 4, 3, 1, 2, 3, 4, 1, 2, 3, 4, 1, 2, 3, 4, 4, 1, 2, 3, 4, 3, 1, 2, 3, 4, 2, 3, 1, 2, 3, 4, 1, 2, 3, 4, 1, 2, 3, 4, 1, 2, 3, 4, 1, 3, 1, 2, 3, 4, 2, 4, 1, 2, 1, 2, 3, 1, 2, 3, 4, 1, 2, 3, 4, 4, 2, 1, 2, 3, 4, 1, 3, 4, 1, 2, 1, 2, 3, 4, 1, 2, 3, 4, 2, 3, 4, 1, 2, 3, 4, 1, 2, 3, 4, 1, 2, 3, 4, 3, 3, 1, 2, 3, 4, 1, 2, 3, 4, 1, 3, 1, 2, 3, 4, 1, 2, 3, 4, 1, 1, 2, 3, 4, 2, 1, 2, 3, 4, 1, 2, 4, 1, 4, 1, 2, 1, 2, 3, 4, 1, 2, 3, 4, 1, 2, 3, 4, 1, 1, 2, 3, 4, 1, 2, 3, 4, 4, 4, 1, 2, 3, 4, 3, 1, 2, 3, 4, 2, 2, 1, 2, 3, 4, 4, 1, 2, 4, 1, 2, 3, 4, 1, 2, 3, 1, 2, 3, 4, 2, 1, 3, 1, 3, 4, 1, 3, 4, 1, 2, 3, 4, 3, 4, 1, 2, 3, 4, 2, 3, 4, 3, 1, 2, 3, 4, 1, 2, 3, 4, 4, 4, 1, 2, 3, 4, 1, 2, 3, 4, 1, 2, 3, 4, 2, 3, 2, 1, 4, 1, 2, 3, 4, 4, 3, 3, 1, 2, 3, 4, 4, 2, 3, 2, 1, 2, 3, 4, 1, 3, 1, 2, 3, 4, 1, 2, 3, 4, 1, 2, 3, 4, 2, 1, 2, 3, 4, 4, 1, 2, 3, 4, 1, 2, 3, 4, 2, 2, 2, 1, 2, 4, 1, 3, 1, 2, 3, 4, 1, 1, 2, 3, 4, 1, 4, 3, 2, 3, 2, 3, 1, 2, 3, 4, 1, 2, 3, 1, 2, 3, 4, 3, 1, 2, 3, 4, 1, 2, 3, 4, 2, 1, 1, 2, 3, 4, 1, 2, 3, 4, 1, 2, 3, 4, 2, 1, 2, 3, 4], \"Freq\": [0.3970373617660011, 0.7940747235320021, 0.35417987034322745, 0.16346763246610496, 0.3269352649322099, 0.16346763246610496, 0.18131057382952784, 0.24174743177270377, 0.3626211476590557, 0.18131057382952784, 0.6095467159446635, 0.6098977764975293, 0.39549439117735385, 0.39549439117735385, 0.3663099607935373, 0.09157749019838432, 0.3663099607935373, 0.09157749019838432, 0.2885086369435, 0.24042386411958333, 0.3365934097674167, 0.14425431847175, 0.2717575212130121, 0.35668174659207835, 0.2377878310613856, 0.13587876060650605, 0.6291471937654496, 0.2713046593764012, 0.4069569890646018, 0.1356523296882006, 0.2713046593764012, 0.24331350992063464, 0.18248513244047598, 0.3041418874007933, 0.27372769866071395, 0.6290849685802609, 0.15587227764767309, 0.15587227764767309, 0.31174455529534617, 0.46761683294301926, 0.5893406221761218, 0.2946703110880609, 0.1970633059538612, 0.2800373295133817, 0.23855031773362148, 0.2800373295133817, 0.5933433982955061, 0.5917577231457795, 0.19725257438192648, 0.19725257438192648, 0.19725257438192648, 0.41980834669719763, 0.17991786287022754, 0.23989048382697006, 0.17991786287022754, 0.609920412517108, 0.16715091847837207, 0.5014527554351162, 0.11143394565224805, 0.2228678913044961, 0.18948982702164388, 0.20671617493270242, 0.30146108844352437, 0.30146108844352437, 0.6290107951332808, 0.6095630339200562, 0.8140681931596375, 0.8492040731981123, 0.20279474866712668, 0.5407859964456712, 0.0675982495557089, 0.1351964991114178, 0.6095625632671247, 0.6236806508012553, 0.35713797064883174, 0.21008115920519516, 0.21008115920519516, 0.23108927512571467, 0.3117620183383826, 0.3117620183383826, 0.6235240366767651, 0.6095697296270132, 0.5995645221451684, 0.4746515022662586, 0.2373257511331293, 0.2373257511331293, 0.4001531913283304, 0.6289477253537735, 0.6291695641363808, 0.1627672487394601, 0.48830174621838035, 0.1627672487394601, 0.1627672487394601, 0.6104565501717176, 0.5979604408957194, 0.6291490670246961, 0.6291718417511318, 0.6265206548664, 0.2659946503995894, 0.2659946503995894, 0.3989919755993841, 0.06649866259989735, 0.4020891915317279, 0.39875133509215155, 0.6095817600072578, 0.393958439606189, 0.393958439606189, 0.6095683650149772, 0.6290016723071379, 0.5917142120850329, 0.24786652923845148, 0.2832760334153731, 0.31868553759229473, 0.14163801670768655, 0.591583097612942, 0.6063589172854971, 0.30317945864274853, 0.5937426959090281, 0.22470954002556778, 0.11235477001278389, 0.22470954002556778, 0.44941908005113557, 0.19404058625928905, 0.27720083751327007, 0.27720083751327007, 0.24948075376194306, 0.2933709753204866, 0.20955069665749043, 0.23050576632323946, 0.27241590565473756, 0.11805905880235315, 0.17708858820352974, 0.29514764700588286, 0.41320670580823604, 0.4004461234153304, 0.43985567429213857, 0.18850957469663082, 0.25134609959550774, 0.12567304979775387, 0.4471839694047451, 0.14906132313491505, 0.14906132313491505, 0.14906132313491505, 0.6095689427893669, 0.1524285052291893, 0.6097140209167572, 0.1524285052291893, 0.1524285052291893, 0.21485955528775189, 0.2734576158207751, 0.15626149475472864, 0.35158836319813946, 0.2607919958322692, 0.2607919958322692, 0.3651087941651769, 0.10431679833290768, 0.14822128288959316, 0.5039523618246167, 0.2075097960454304, 0.11857702631167452, 0.6074923964763073, 0.30374619823815363, 0.3107631151834831, 0.3107631151834831, 0.23307233638761232, 0.15538155759174155, 0.6106492522157069, 0.14107108094561535, 0.1880947745941538, 0.3761895491883076, 0.2821421618912307, 0.5989006831030693, 0.2990269969465291, 0.14951349847326456, 0.4485404954197937, 0.14951349847326456, 0.2190017537779184, 0.1095008768889592, 0.4380035075558368, 0.2190017537779184, 0.18773025818239497, 0.22944809333403832, 0.39631943394061164, 0.18773025818239497, 0.6290481689943717, 0.2516617694584649, 0.40265883113354384, 0.20132941556677192, 0.15099706167507895, 0.5987830509312783, 0.12095189213028819, 0.48380756852115275, 0.24190378426057638, 0.12095189213028819, 0.6099869607497445, 0.40073852421853706, 0.22056942416975014, 0.5514235604243753, 0.11028471208487507, 0.11028471208487507, 0.29232085822716314, 0.20880061301940225, 0.2505607356232827, 0.2505607356232827, 0.43943165833676323, 0.22482549961415793, 0.1839481360479474, 0.14307077248173689, 0.18057225116561695, 0.3611445023312339, 0.22571531395702119, 0.22571531395702119, 0.591096186973856, 0.5998153778686075, 0.12395120568574769, 0.24790241137149538, 0.12395120568574769, 0.37185361705724307, 0.3139747532175382, 0.6279495064350764, 0.5933076493431061, 0.8108849728954344, 0.2013278701112539, 0.6039836103337616, 0.2013278701112539, 0.13823893045081734, 0.2764778609016347, 0.13823893045081734, 0.41471679135245204, 0.2485432373640448, 0.22092732210137314, 0.1795034492073657, 0.3590068984147314, 0.6288868819328185, 0.6107194116832986, 0.3050321912883748, 0.1525160956441874, 0.22877414346628108, 0.3050321912883748, 0.4000710755868513, 0.4000710755868513, 0.6262079549988906, 0.7042055902860249, 0.23473519676200832, 0.3180948321995796, 0.21206322146638643, 0.1590474160997898, 0.3180948321995796, 0.49806501736453507, 0.19922600694581402, 0.19922600694581402, 0.19922600694581402, 0.6095724071068758, 0.6027248431298472, 0.3013624215649236, 0.5236467226586642, 0.14961334933104692, 0.11221001199828519, 0.22442002399657038, 0.18040173170514898, 0.300669552841915, 0.26058027912965964, 0.26058027912965964, 0.3230930355134035, 0.239328174454373, 0.22736176573165434, 0.2153953570089357, 0.5986714255897413, 0.5987110617860653, 0.214960642147198, 0.5015748316767954, 0.07165354738239933, 0.14330709476479866, 0.1581291302095848, 0.4216776805588928, 0.263548550349308, 0.1581291302095848, 0.5929149925001181, 0.29645749625005907, 0.398311938581358, 0.28450852755811284, 0.22760682204649027, 0.11380341102324514, 0.2345126397906989, 0.2540553597732571, 0.31268351972093184, 0.1954271998255824, 0.5934703737868068, 0.5064889950165706, 0.16882966500552354, 0.16882966500552354, 0.16882966500552354, 0.6095655237865891, 0.2547456004233816, 0.44580480074091783, 0.1698304002822544, 0.1273728002116908, 0.24472315329666822, 0.48944630659333643, 0.24472315329666822, 0.5928472756823017, 0.6291053556838365, 0.3946142861413207, 0.3946142861413207, 0.2642018551759866, 0.2201682126466555, 0.2862186764406522, 0.2201682126466555, 0.276720348839496, 0.138360174419748, 0.138360174419748, 0.553440697678992, 0.18018371447811946, 0.30030619079686577, 0.4204286671156121, 0.12012247631874631, 0.5926959024877257, 0.24158763278486323, 0.48317526556972645, 0.12079381639243161, 0.12079381639243161, 0.5313178870641675, 0.16348242678897462, 0.16348242678897462, 0.12261182009173097, 0.6291241779226328, 0.6240510192214522, 0.1695364728094985, 0.4238411820237462, 0.1695364728094985, 0.29668882741662234, 0.598556259591171, 0.17841391519278005, 0.17841391519278005, 0.17841391519278005, 0.5352417455783401, 0.6095720215934397, 0.6095841619598539, 0.2014766061994049, 0.2014766061994049, 0.4029532123988098, 0.2014766061994049, 0.6291361542747986, 0.5960372303138961, 0.29801861515694805, 0.29801861515694805, 0.33757573652743544, 0.19290042087282025, 0.25720056116376033, 0.20897545594555528, 0.5088900280905105, 0.339260018727007, 0.1696300093635035, 0.2616995211605473, 0.20935961692843783, 0.3663793296247662, 0.15701971269632836, 0.6095930707640211, 0.7060939648079151, 0.2353646549359717, 0.4756553421545301, 0.23782767107726505, 0.23782767107726505, 0.5928272254428857, 0.5982818097796255, 0.6238026865811164, 0.24047987567529425, 0.4809597513505885, 0.12023993783764712, 0.12023993783764712, 0.5995331034387265, 0.6291795590365824, 0.22999584417081897, 0.17249688312811423, 0.4024927272989332, 0.22999584417081897, 0.2077377722070038, 0.2077377722070038, 0.4154755444140076, 0.5990080207409312, 0.5093525838572406, 0.1697841946190802, 0.2546762919286203, 0.0848920973095401, 0.20207852018383907, 0.20207852018383907, 0.40415704036767813, 0.20207852018383907, 0.6289712463383024, 0.6263979838508987, 0.2679102775750617, 0.2679102775750617, 0.31256199050423866, 0.15628099525211933, 0.20104671203885732, 0.20104671203885732, 0.40209342407771465, 0.20104671203885732, 0.2277252425933199, 0.37954207098886644, 0.18977103549443322, 0.18977103549443322, 0.6088979554190331, 0.30444897770951657, 0.6107709480259739, 0.5978434253487457, 0.6291624152777747, 0.16107408334222942, 0.4510074333582424, 0.16107408334222942, 0.2255037166791212, 0.8492816844247558, 0.40186552485982974, 0.5984454431549678, 0.34021773948908285, 0.1308529767265703, 0.2878765487984547, 0.20936476276251254, 0.6290725898433559, 0.6095624023073819, 0.5995191609887333, 0.6106914041292411, 0.18794833683655535, 0.1409612526274165, 0.3289095894639718, 0.3289095894639718, 0.5914835819069553, 0.5998092406310952, 0.15914567738665888, 0.15914567738665888, 0.37133991390220406, 0.26524279564443143, 0.5970328899429012, 0.19901096331430038, 0.19901096331430038, 0.19901096331430038, 0.3086146278977325, 0.15430731394886624, 0.15430731394886624, 0.46292194184659874, 0.609198659224858, 0.18040813740492453, 0.21648976488590946, 0.2886530198478793, 0.3247346473288642, 0.6290431526312383, 0.5897453918185396, 0.1474363479546349, 0.1474363479546349, 0.1474363479546349, 0.21076999818850617, 0.3583089969204605, 0.16861599855080492, 0.2529239978262074, 0.6095778028819271, 0.609579265216626, 0.6095547355402718, 0.20871791212874385, 0.20871791212874385, 0.4174358242574877, 0.5938076457126302, 0.5982439581488969, 0.32711570412377233, 0.29076951477668656, 0.2544233254296007, 0.10903856804125746, 0.5921060363293458, 0.18443165778541845, 0.18443165778541845, 0.30738609630903074, 0.3688633155708369, 0.3110537766085579, 0.6221075532171157, 0.5982846496180063, 0.4040727951884407, 0.4040727951884407, 0.609288966533787, 0.5989653105098385, 0.1525955599678895, 0.3814888999197238, 0.22889333995183425, 0.22889333995183425, 0.50572272641109, 0.16857424213702998, 0.16857424213702998, 0.19580136484378163, 0.19580136484378163, 0.29370204726567245, 0.29370204726567245, 0.6002454340135848, 0.30285478120695664, 0.16519351702197635, 0.24779027553296454, 0.24779027553296454, 0.3501173878675414, 0.1885247473132915, 0.21545685407233314, 0.2693210675904164, 0.6095656338549835, 0.593028428627897, 0.24096463831259798, 0.4077863109905504, 0.25950037972125933, 0.11121444845196829, 0.1648223745062315, 0.36260922391370926, 0.26371579920997035, 0.1977868494074778, 0.25939138209028395, 0.20174885273688753, 0.31703391144368037, 0.20174885273688753, 0.609583933206533, 0.4232051048007978, 0.2116025524003989, 0.2116025524003989, 0.14106836826693261], \"Term\": [\"\\u3137\", \"\\u3137\", \"\\uac00\\uaca9\", \"\\uac00\\uaca9\", \"\\uac00\\uaca9\", \"\\uac00\\uaca9\", \"\\uac00\\ub2a5\", \"\\uac00\\ub2a5\", \"\\uac00\\ub2a5\", \"\\uac00\\ub2a5\", \"\\uac00\\ub85c\\uc218\\uae38\", \"\\uac00\\uc131\", \"\\uac10\\uc131\", \"\\uac10\\uc131\", \"\\uac24\", \"\\uac24\", \"\\uac24\", \"\\uac24\", \"\\uac24\\ub7ed\\uc2dc\", \"\\uac24\\ub7ed\\uc2dc\", \"\\uac24\\ub7ed\\uc2dc\", \"\\uac24\\ub7ed\\uc2dc\", \"\\uac70\", \"\\uac70\", \"\\uac70\", \"\\uac70\", \"\\uac70\\uc9d3\\ub9d0\", \"\\uac80\\uc0c9\", \"\\uac80\\uc0c9\", \"\\uac80\\uc0c9\", \"\\uac80\\uc0c9\", \"\\uac8c\", \"\\uac8c\", \"\\uac8c\", \"\\uac8c\", \"\\uacb0\\uc7ac\", \"\\uacb0\\uc81c\", \"\\uacb0\\uc81c\", \"\\uacb0\\uc81c\", \"\\uacb0\\uc81c\", \"\\uacb8\", \"\\uacb8\", \"\\uace0\\ubbfc\", \"\\uace0\\ubbfc\", \"\\uace0\\ubbfc\", \"\\uace0\\ubbfc\", \"\\uace0\\uc0dd\", \"\\uace0\\uc815\", \"\\uace0\\uc815\", \"\\uace0\\uc815\", \"\\uace0\\uc815\", \"\\uace8\\ub4dc\", \"\\uace8\\ub4dc\", \"\\uace8\\ub4dc\", \"\\uace8\\ub4dc\", \"\\uacf5\\uc2dd\", \"\\uacf5\\ud648\", \"\\uacf5\\ud648\", \"\\uacf5\\ud648\", \"\\uacf5\\ud648\", \"\\uad6c\\ub9e4\", \"\\uad6c\\ub9e4\", \"\\uad6c\\ub9e4\", \"\\uad6c\\ub9e4\", \"\\uad6c\\uc11d\", \"\\uad6c\\uc5ec\", \"\\uad73\", \"\\uad7f\", \"\\uadf8\\ub808\\uc774\", \"\\uadf8\\ub808\\uc774\", \"\\uadf8\\ub808\\uc774\", \"\\uadf8\\ub808\\uc774\", \"\\uadf8\\uc9c0\", \"\\uae00\\uc790\", \"\\uae30\\ub2a5\", \"\\uae30\\ub2a5\", \"\\uae30\\ub2a5\", \"\\uae30\\ub2a5\", \"\\uae30\\ub300\", \"\\uae30\\ub300\", \"\\uae30\\ub300\", \"\\uae30\\uc068\", \"\\uae30\\uc544\", \"\\ub098\\ub984\", \"\\ub098\\ub984\", \"\\ub098\\ub984\", \"\\ub098\\uc911\", \"\\ub098\\ud758\", \"\\ub09c\", \"\\ub0a0\", \"\\ub0a0\", \"\\ub0a0\", \"\\ub0a0\", \"\\ub0ab\", \"\\ub178\\uce58\", \"\\ub189\", \"\\ub204\\ub098\", \"\\ub2e4\\ud589\", \"\\ub2ec\", \"\\ub2ec\", \"\\ub2ec\", \"\\ub2ec\", \"\\ub2f4\\ub0a0\", \"\\ub300\\uae30\", \"\\ub300\\ub300\", \"\\ub300\\ube44\", \"\\ub300\\ube44\", \"\\ub300\\uc694\", \"\\ub3d9\\uac10\", \"\\ub450\\uaed8\", \"\\ub54c\\ubb38\", \"\\ub54c\\ubb38\", \"\\ub54c\\ubb38\", \"\\ub54c\\ubb38\", \"\\ub55c\", \"\\ub7c9\", \"\\ub7c9\", \"\\ub85c\\ub9cc\", \"\\ub85c\\ucf13\", \"\\ub85c\\ucf13\", \"\\ub85c\\ucf13\", \"\\ub85c\\ucf13\", \"\\ub9cc\", \"\\ub9cc\", \"\\ub9cc\", \"\\ub9cc\", \"\\ub9cc\\uc871\", \"\\ub9cc\\uc871\", \"\\ub9cc\\uc871\", \"\\ub9cc\\uc871\", \"\\ub9d0\", \"\\ub9d0\", \"\\ub9d0\", \"\\ub9d0\", \"\\uba54\\ud0c8\", \"\\ubaa8\\ub378\", \"\\ubaa8\\ub378\", \"\\ubaa8\\ub378\", \"\\ubaa8\\ub378\", \"\\ubb34\\uc74c\", \"\\ubb34\\uc74c\", \"\\ubb34\\uc74c\", \"\\ubb34\\uc74c\", \"\\ubbf8\\ud130\", \"\\ubc30\", \"\\ubc30\", \"\\ubc30\", \"\\ubc30\", \"\\ubc30\\uc1a1\", \"\\ubc30\\uc1a1\", \"\\ubc30\\uc1a1\", \"\\ubc30\\uc1a1\", \"\\ubc30\\ud130\\ub9ac\", \"\\ubc30\\ud130\\ub9ac\", \"\\ubc30\\ud130\\ub9ac\", \"\\ubc30\\ud130\\ub9ac\", \"\\ubc34\\ub4dc\", \"\\ubc34\\ub4dc\", \"\\ubc34\\ub4dc\", \"\\ubc34\\ub4dc\", \"\\ubc84\", \"\\ubc84\", \"\\ubc88\", \"\\ubc88\", \"\\ubc88\", \"\\ubc88\", \"\\ubca0\\ub4dc\", \"\\ubcd1\", \"\\ubcd1\", \"\\ubcd1\", \"\\ubcd1\", \"\\ubcf8\\ub3c4\", \"\\ubd80\\ub2f4\", \"\\ubd80\\ub2f4\", \"\\ubd80\\ub2f4\", \"\\ubd80\\ub2f4\", \"\\ubd80\\ubd84\", \"\\ubd80\\ubd84\", \"\\ubd80\\ubd84\", \"\\ubd80\\ubd84\", \"\\ubd84\", \"\\ubd84\", \"\\ubd84\", \"\\ubd84\", \"\\ubd84\\uc11d\", \"\\ubd88\\ud3b8\", \"\\ubd88\\ud3b8\", \"\\ubd88\\ud3b8\", \"\\ubd88\\ud3b8\", \"\\ubdf0\", \"\\ube14\\ub799\", \"\\ube14\\ub799\", \"\\ube14\\ub799\", \"\\ube14\\ub799\", \"\\ube44\\uac00\", \"\\uc0ac\\uac01\", \"\\uc0ac\\uace0\", \"\\uc0ac\\uace0\", \"\\uc0ac\\uace0\", \"\\uc0ac\\uace0\", \"\\uc0ac\\ub78c\", \"\\uc0ac\\ub78c\", \"\\uc0ac\\ub78c\", \"\\uc0ac\\ub78c\", \"\\uc0ac\\uc6a9\", \"\\uc0ac\\uc6a9\", \"\\uc0ac\\uc6a9\", \"\\uc0ac\\uc6a9\", \"\\uc0ac\\uc774\\uc988\", \"\\uc0ac\\uc774\\uc988\", \"\\uc0ac\\uc774\\uc988\", \"\\uc0ac\\uc774\\uc988\", \"\\uc0ac\\uc81c\", \"\\uc0b0\\uc9c0\", \"\\uc0b6\", \"\\uc0b6\", \"\\uc0b6\", \"\\uc0b6\", \"\\uc0bf\", \"\\uc0bf\", \"\\uc0c1\\ub2f4\", \"\\uc0c1\\uc704\", \"\\uc0c1\\uc790\", \"\\uc0c1\\uc790\", \"\\uc0c1\\uc790\", \"\\uc0c1\\ud488\", \"\\uc0c1\\ud488\", \"\\uc0c1\\ud488\", \"\\uc0c1\\ud488\", \"\\uc0dd\\uac01\", \"\\uc0dd\\uac01\", \"\\uc0dd\\uac01\", \"\\uc0dd\\uac01\", \"\\uc0dd\\uc77c\", \"\\uc11c\\ube44\\uc2a4\", \"\\uc120\\ubb3c\", \"\\uc120\\ubb3c\", \"\\uc120\\ubb3c\", \"\\uc120\\ubb3c\", \"\\uc124\\uce58\", \"\\uc124\\uce58\", \"\\uc138\\uc5ec\", \"\\uc140\", \"\\uc140\", \"\\uc140\\ub8f0\\ub7ec\", \"\\uc140\\ub8f0\\ub7ec\", \"\\uc140\\ub8f0\\ub7ec\", \"\\uc140\\ub8f0\\ub7ec\", \"\\uc18c\\ub9ac\", \"\\uc18c\\ub9ac\", \"\\uc18c\\ub9ac\", \"\\uc18c\\ub9ac\", \"\\uc18c\\uc18c\", \"\\uc18c\\uc2dd\", \"\\uc18c\\uc2dd\", \"\\uc190\", \"\\uc190\", \"\\uc190\", \"\\uc190\", \"\\uc190\\ubaa9\", \"\\uc190\\ubaa9\", \"\\uc190\\ubaa9\", \"\\uc190\\ubaa9\", \"\\uc218\", \"\\uc218\", \"\\uc218\", \"\\uc218\", \"\\uc218\\uace0\", \"\\uc218\\uc2e0\", \"\\uc2a4\\ud398\\uc774\\uc2a4\", \"\\uc2a4\\ud398\\uc774\\uc2a4\", \"\\uc2a4\\ud398\\uc774\\uc2a4\", \"\\uc2a4\\ud398\\uc774\\uc2a4\", \"\\uc2a4\\ud3ec\\uce20\", \"\\uc2a4\\ud3ec\\uce20\", \"\\uc2a4\\ud3ec\\uce20\", \"\\uc2a4\\ud3ec\\uce20\", \"\\uc2ac\\ub9bd\", \"\\uc2ac\\ub9bd\", \"\\uc2dc\", \"\\uc2dc\", \"\\uc2dc\", \"\\uc2dc\", \"\\uc2dc\\uacc4\", \"\\uc2dc\\uacc4\", \"\\uc2dc\\uacc4\", \"\\uc2dc\\uacc4\", \"\\uc2dc\\uae30\", \"\\uc2dc\\ub9ac\\uc988\", \"\\uc2dc\\ub9ac\\uc988\", \"\\uc2dc\\ub9ac\\uc988\", \"\\uc2dc\\ub9ac\\uc988\", \"\\uc2e0\", \"\\uc2e4\\ubc84\", \"\\uc2e4\\ubc84\", \"\\uc2e4\\ubc84\", \"\\uc2e4\\ubc84\", \"\\uc2e4\\uc6a9\", \"\\uc2e4\\uc6a9\", \"\\uc2e4\\uc6a9\", \"\\uc2ec\\uc804\", \"\\uc4f0\\uc784\\uc0c8\", \"\\uc544\\ub4e4\", \"\\uc544\\ub4e4\", \"\\uc544\\uc774\\ud3f0\", \"\\uc544\\uc774\\ud3f0\", \"\\uc544\\uc774\\ud3f0\", \"\\uc544\\uc774\\ud3f0\", \"\\uc545\\uc138\\uc0ac\\ub9ac\", \"\\uc545\\uc138\\uc0ac\\ub9ac\", \"\\uc545\\uc138\\uc0ac\\ub9ac\", \"\\uc545\\uc138\\uc0ac\\ub9ac\", \"\\uc54c\\ub78c\", \"\\uc54c\\ub78c\", \"\\uc54c\\ub78c\", \"\\uc54c\\ub78c\", \"\\uc553\", \"\\uc55e\", \"\\uc55e\", \"\\uc55e\", \"\\uc55e\", \"\\uc571\", \"\\uc571\", \"\\uc571\", \"\\uc571\", \"\\uc5b4\\ud0dc\", \"\\uc5b5\", \"\\uc5ec\\uc790\", \"\\uc5ec\\uc790\", \"\\uc5ec\\uc790\", \"\\uc5ec\\uc790\", \"\\uc5f0\\uacac\", \"\\uc5f0\\ub77d\", \"\\uc5f0\\ub77d\", \"\\uc5f0\\ub77d\", \"\\uc5f0\\ub77d\", \"\\uc601\\uc6d0\", \"\\uc624\\ub7ab\\ub3d9\\uc548\", \"\\uc644\\uce58\", \"\\uc644\\uce58\", \"\\uc644\\uce58\", \"\\uc644\\uce58\", \"\\uc695\\uc2ec\", \"\\uc6a9\", \"\\uc6a9\", \"\\uc6a9\", \"\\uc6b4\\ub3d9\", \"\\uc6b4\\ub3d9\", \"\\uc6b4\\ub3d9\", \"\\uc6b4\\ub3d9\", \"\\uc6cc\", \"\\uc6cc\", \"\\uc6cc\", \"\\uc6d0\", \"\\uc6d0\", \"\\uc6d0\", \"\\uc6d0\", \"\\uc6d0\\ub798\", \"\\uc6d4\\uc77c\", \"\\uc6d4\\uc77c\", \"\\uc720\\ub8cc\", \"\\uc720\\ub8cc\", \"\\uc720\\ub8cc\", \"\\uc720\\uc758\", \"\\uc720\\ud22c\", \"\\uc778\\uad6c\", \"\\uc785\\ubb38\", \"\\uc785\\ubb38\", \"\\uc785\\ubb38\", \"\\uc785\\ubb38\", \"\\uc790\\ub3d9\\ucc28\", \"\\uc7a5\\ub2e8\\uc810\", \"\\uc7a5\\uc810\", \"\\uc7a5\\uc810\", \"\\uc7a5\\uc810\", \"\\uc7a5\\uc810\", \"\\uc7ac\\ubbf8\", \"\\uc7ac\\ubbf8\", \"\\uc7ac\\ubbf8\", \"\\uc800\\uac00\", \"\\uc804\", \"\\uc804\", \"\\uc804\", \"\\uc804\", \"\\uc804\\ud654\", \"\\uc804\\ud654\", \"\\uc804\\ud654\", \"\\uc804\\ud654\", \"\\uc808\", \"\\uc815\\ub2f5\", \"\\uc815\\ub3c4\", \"\\uc815\\ub3c4\", \"\\uc815\\ub3c4\", \"\\uc815\\ub3c4\", \"\\uc81c\\uacf5\", \"\\uc81c\\uacf5\", \"\\uc81c\\uacf5\", \"\\uc81c\\uacf5\", \"\\uc81c\\ud488\", \"\\uc81c\\ud488\", \"\\uc81c\\ud488\", \"\\uc81c\\ud488\", \"\\uc824\", \"\\uc824\", \"\\uc870\\ubc14\\uc2ec\", \"\\uc885\\uad6d\", \"\\uc8fc\\ub9d0\", \"\\uc8fc\\ubb38\", \"\\uc8fc\\ubb38\", \"\\uc8fc\\ubb38\", \"\\uc8fc\\ubb38\", \"\\uc8fc\\ubcc0\\uae30\\uae30\", \"\\uc8fc\\uc815\", \"\\uc900\\ube44\", \"\\uc911\", \"\\uc911\", \"\\uc911\", \"\\uc911\", \"\\uc911\\uc810\", \"\\uc9c0\\uc7a5\", \"\\uc9c1\\uc7a5\\uc778\", \"\\uc9c1\\uc885\", \"\\ucc29\\uc6a9\", \"\\ucc29\\uc6a9\", \"\\ucc29\\uc6a9\", \"\\ucc29\\uc6a9\", \"\\ucca8\\ubd80\", \"\\uccab\\ub0a0\", \"\\uccb4\\ud06c\", \"\\uccb4\\ud06c\", \"\\uccb4\\ud06c\", \"\\uccb4\\ud06c\", \"\\ucd08\", \"\\ucd08\", \"\\ucd08\", \"\\ucd08\", \"\\ucd5c\\uace0\", \"\\ucd5c\\uace0\", \"\\ucd5c\\uace0\", \"\\ucd5c\\uace0\", \"\\ucd94\\uc774\", \"\\ucd94\\ucc9c\", \"\\ucd94\\ucc9c\", \"\\ucd94\\ucc9c\", \"\\ucd94\\ucc9c\", \"\\ucde8\\ud5a5\", \"\\uce21\\uc815\", \"\\uce21\\uc815\", \"\\uce21\\uc815\", \"\\uce21\\uc815\", \"\\ucfe0\\ud321\", \"\\ucfe0\\ud321\", \"\\ucfe0\\ud321\", \"\\ucfe0\\ud321\", \"\\ucfe8\\ud1a4\", \"\\ud074\\ub798\\uc2dd\", \"\\ud130\\ub9ac\", \"\\ud15c\", \"\\ud15c\", \"\\ud15c\", \"\\ud1b5\\uc2e0\\uc0ac\", \"\\ud2b8\\ub798\\ud0b9\", \"\\ud2b8\\ub7a9\", \"\\ud2b8\\ub7a9\", \"\\ud2b8\\ub7a9\", \"\\ud2b8\\ub7a9\", \"\\ud314\\ub69d\", \"\\ud31f\", \"\\ud31f\", \"\\ud31f\", \"\\ud31f\", \"\\ud328\\ub4dc\", \"\\ud328\\ub4dc\", \"\\ud328\\ud134\", \"\\ud3b8\\uc758\", \"\\ud3b8\\uc758\", \"\\ud3b8\\ucc28\", \"\\ud3c9\\uac00\", \"\\ud3c9\\uc18c\", \"\\ud3c9\\uc18c\", \"\\ud3c9\\uc18c\", \"\\ud3c9\\uc18c\", \"\\ud3ec\\uc778\\ud2b8\", \"\\ud3ec\\uc778\\ud2b8\", \"\\ud3ec\\uc778\\ud2b8\", \"\\ud3ec\\uc7a5\", \"\\ud3ec\\uc7a5\", \"\\ud3ec\\uc7a5\", \"\\ud3ec\\uc7a5\", \"\\ud3ec\\ud654\\ub3c4\", \"\\ud3f0\", \"\\ud3f0\", \"\\ud3f0\", \"\\ud3f0\", \"\\ud544\\uc694\", \"\\ud544\\uc694\", \"\\ud544\\uc694\", \"\\ud544\\uc694\", \"\\ud55c\\ucabd\", \"\\ud574\", \"\\ud578\\ub4dc\\ud3f0\", \"\\ud578\\ub4dc\\ud3f0\", \"\\ud578\\ub4dc\\ud3f0\", \"\\ud578\\ub4dc\\ud3f0\", \"\\ud654\\uba74\", \"\\ud654\\uba74\", \"\\ud654\\uba74\", \"\\ud654\\uba74\", \"\\ud655\\uc778\", \"\\ud655\\uc778\", \"\\ud655\\uc778\", \"\\ud655\\uc778\", \"\\ud68c\\uc911\", \"\\ud6c4\\uae30\", \"\\ud6c4\\uae30\", \"\\ud6c4\\uae30\", \"\\ud6c4\\uae30\"]}, \"R\": 30, \"lambda.step\": 0.01, \"plot.opts\": {\"xlab\": \"PC1\", \"ylab\": \"PC2\"}, \"topic.order\": [3, 1, 4, 2]};\n",
       "\n",
       "function LDAvis_load_lib(url, callback){\n",
       "  var s = document.createElement('script');\n",
       "  s.src = url;\n",
       "  s.async = true;\n",
       "  s.onreadystatechange = s.onload = callback;\n",
       "  s.onerror = function(){console.warn(\"failed to load library \" + url);};\n",
       "  document.getElementsByTagName(\"head\")[0].appendChild(s);\n",
       "}\n",
       "\n",
       "if(typeof(LDAvis) !== \"undefined\"){\n",
       "   // already loaded: just create the visualization\n",
       "   !function(LDAvis){\n",
       "       new LDAvis(\"#\" + \"ldavis_el503081404904552240965931779898\", ldavis_el503081404904552240965931779898_data);\n",
       "   }(LDAvis);\n",
       "}else if(typeof define === \"function\" && define.amd){\n",
       "   // require.js is available: use it to load d3/LDAvis\n",
       "   require.config({paths: {d3: \"https://d3js.org/d3.v5\"}});\n",
       "   require([\"d3\"], function(d3){\n",
       "      window.d3 = d3;\n",
       "      LDAvis_load_lib(\"https://cdn.jsdelivr.net/gh/bmabey/pyLDAvis@3.3.1/pyLDAvis/js/ldavis.v3.0.0.js\", function(){\n",
       "        new LDAvis(\"#\" + \"ldavis_el503081404904552240965931779898\", ldavis_el503081404904552240965931779898_data);\n",
       "      });\n",
       "    });\n",
       "}else{\n",
       "    // require.js not available: dynamically load d3 & LDAvis\n",
       "    LDAvis_load_lib(\"https://d3js.org/d3.v5.js\", function(){\n",
       "         LDAvis_load_lib(\"https://cdn.jsdelivr.net/gh/bmabey/pyLDAvis@3.3.1/pyLDAvis/js/ldavis.v3.0.0.js\", function(){\n",
       "                 new LDAvis(\"#\" + \"ldavis_el503081404904552240965931779898\", ldavis_el503081404904552240965931779898_data);\n",
       "            })\n",
       "         });\n",
       "}\n",
       "</script>"
      ],
      "text/plain": [
       "PreparedData(topic_coordinates=              x         y  topics  cluster       Freq\n",
       "topic                                                \n",
       "2     -0.008001  0.023385       1        1  27.084415\n",
       "0     -0.021102 -0.017464       2        1  26.098373\n",
       "3      0.005520  0.002314       3        1  25.608217\n",
       "1      0.023583 -0.008235       4        1  21.208996, topic_info=    Term        Freq       Total Category  logprob  loglift\n",
       "16    구매  116.000000  116.000000  Default  30.0000  30.0000\n",
       "60    생각   72.000000   72.000000  Default  29.0000  29.0000\n",
       "139   배송   51.000000   51.000000  Default  28.0000  28.0000\n",
       "56    사용   97.000000   97.000000  Default  27.0000  27.0000\n",
       "11    고민   96.000000   96.000000  Default  26.0000  26.0000\n",
       "..   ...         ...         ...      ...      ...      ...\n",
       "53     분    8.704601   47.941126   Topic4  -5.0560  -0.1554\n",
       "164   주문    7.074857   31.041617   Topic4  -5.2633   0.0720\n",
       "90    정도    7.154169   44.791115   Topic4  -5.2522  -0.2836\n",
       "163   전화    6.372859   29.691429   Topic4  -5.3678   0.0119\n",
       "114   화면    6.365709   30.335687   Topic4  -5.3689  -0.0107\n",
       "\n",
       "[319 rows x 6 columns], token_table=      Topic      Freq Term\n",
       "term                      \n",
       "1190      1  0.397037    ㄷ\n",
       "1190      3  0.794075    ㄷ\n",
       "116       1  0.354180   가격\n",
       "116       2  0.163468   가격\n",
       "116       3  0.326935   가격\n",
       "...     ...       ...  ...\n",
       "1137      2  0.609584   회중\n",
       "180       1  0.423205   후기\n",
       "180       2  0.211603   후기\n",
       "180       3  0.211603   후기\n",
       "180       4  0.141068   후기\n",
       "\n",
       "[517 rows x 3 columns], R=30, lambda_step=0.01, plot_opts={'xlab': 'PC1', 'ylab': 'PC2'}, topic_order=[3, 1, 4, 2])"
      ]
     },
     "execution_count": 35,
     "metadata": {},
     "output_type": "execute_result"
    }
   ],
   "source": [
    "# pyLDAvis 불러오기\n",
    "import pyLDAvis\n",
    "import pyLDAvis.gensim_models\n",
    "\n",
    "# pyLDAvis를 jupyter notebook에서 실행할 수 있게 활성화.\n",
    "pyLDAvis.enable_notebook()\n",
    "\n",
    "# pyLDAvis 실행.\n",
    "data = pyLDAvis.gensim_models.prepare(selected_model, corpus=corpus, dictionary=dictionary)\n",
    "data"
   ]
  },
  {
   "cell_type": "code",
   "execution_count": null,
   "metadata": {},
   "outputs": [],
   "source": []
  }
 ],
 "metadata": {
  "kernelspec": {
   "display_name": "Python 3",
   "language": "python",
   "name": "python3"
  },
  "language_info": {
   "codemirror_mode": {
    "name": "ipython",
    "version": 3
   },
   "file_extension": ".py",
   "mimetype": "text/x-python",
   "name": "python",
   "nbconvert_exporter": "python",
   "pygments_lexer": "ipython3",
   "version": "3.8.5"
  },
  "toc": {
   "base_numbering": 1,
   "nav_menu": {},
   "number_sections": true,
   "sideBar": true,
   "skip_h1_title": false,
   "title_cell": "Table of Contents",
   "title_sidebar": "Contents",
   "toc_cell": false,
   "toc_position": {},
   "toc_section_display": true,
   "toc_window_display": false
  },
  "varInspector": {
   "cols": {
    "lenName": 16,
    "lenType": 16,
    "lenVar": 40
   },
   "kernels_config": {
    "python": {
     "delete_cmd_postfix": "",
     "delete_cmd_prefix": "del ",
     "library": "var_list.py",
     "varRefreshCmd": "print(var_dic_list())"
    },
    "r": {
     "delete_cmd_postfix": ") ",
     "delete_cmd_prefix": "rm(",
     "library": "var_list.r",
     "varRefreshCmd": "cat(var_dic_list()) "
    }
   },
   "types_to_exclude": [
    "module",
    "function",
    "builtin_function_or_method",
    "instance",
    "_Feature"
   ],
   "window_display": false
  }
 },
 "nbformat": 4,
 "nbformat_minor": 4
}
